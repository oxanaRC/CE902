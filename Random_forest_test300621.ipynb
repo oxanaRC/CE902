{
  "nbformat": 4,
  "nbformat_minor": 0,
  "metadata": {
    "colab": {
      "name": "Random forest test300621.ipynb",
      "provenance": [],
      "collapsed_sections": [],
      "authorship_tag": "ABX9TyNnd1ChXwgLL6AZc7al+eZ5",
      "include_colab_link": true
    },
    "kernelspec": {
      "name": "python3",
      "display_name": "Python 3"
    },
    "language_info": {
      "name": "python"
    }
  },
  "cells": [
    {
      "cell_type": "markdown",
      "metadata": {
        "id": "view-in-github",
        "colab_type": "text"
      },
      "source": [
        "<a href=\"https://colab.research.google.com/github/oxanaRC/CE902/blob/main/Random_forest_test300621.ipynb\" target=\"_parent\"><img src=\"https://colab.research.google.com/assets/colab-badge.svg\" alt=\"Open In Colab\"/></a>"
      ]
    },
    {
      "cell_type": "code",
      "metadata": {
        "colab": {
          "base_uri": "https://localhost:8080/"
        },
        "id": "ygJtZDc7gQim",
        "outputId": "3a9be249-262f-4945-d6ab-b70937e7b499"
      },
      "source": [
        "!pip install harperdb"
      ],
      "execution_count": 6,
      "outputs": [
        {
          "output_type": "stream",
          "text": [
            "Requirement already satisfied: harperdb in /usr/local/lib/python3.7/dist-packages (0.4.2)\n",
            "Requirement already satisfied: requests~=2.0 in /usr/local/lib/python3.7/dist-packages (from harperdb) (2.23.0)\n",
            "Requirement already satisfied: idna<3,>=2.5 in /usr/local/lib/python3.7/dist-packages (from requests~=2.0->harperdb) (2.10)\n",
            "Requirement already satisfied: certifi>=2017.4.17 in /usr/local/lib/python3.7/dist-packages (from requests~=2.0->harperdb) (2021.5.30)\n",
            "Requirement already satisfied: chardet<4,>=3.0.2 in /usr/local/lib/python3.7/dist-packages (from requests~=2.0->harperdb) (3.0.4)\n",
            "Requirement already satisfied: urllib3!=1.25.0,!=1.25.1,<1.26,>=1.21.1 in /usr/local/lib/python3.7/dist-packages (from requests~=2.0->harperdb) (1.24.3)\n"
          ],
          "name": "stdout"
        }
      ]
    },
    {
      "cell_type": "code",
      "metadata": {
        "id": "Ncr_wsv6gbio"
      },
      "source": [
        "import harperdb\n",
        "import pandas as pd\n",
        "import numpy as np\n",
        "from pathlib import Path"
      ],
      "execution_count": 7,
      "outputs": []
    },
    {
      "cell_type": "code",
      "metadata": {
        "id": "Z4WTtcTVgfVY"
      },
      "source": [
        "url='https://ce901data-orc0770.harperdbcloud.com'\n",
        "db=harperdb.HarperDB(url=url,\n",
        "            username='myuser',\n",
        "            password='abcdef',\n",
        "            timeout=500)"
      ],
      "execution_count": 8,
      "outputs": []
    },
    {
      "cell_type": "code",
      "metadata": {
        "colab": {
          "base_uri": "https://localhost:8080/"
        },
        "id": "4yy4Mafqgoro",
        "outputId": "5f848fef-1e97-4ccd-819d-aed4cde1c71b"
      },
      "source": [
        "db"
      ],
      "execution_count": 9,
      "outputs": [
        {
          "output_type": "execute_result",
          "data": {
            "text/plain": [
              "<harperdb.harperdb.HarperDB at 0x7ff0048eda90>"
            ]
          },
          "metadata": {
            "tags": []
          },
          "execution_count": 9
        }
      ]
    },
    {
      "cell_type": "code",
      "metadata": {
        "colab": {
          "base_uri": "https://localhost:8080/",
          "height": 419
        },
        "id": "KeQ-3XbMgtyQ",
        "outputId": "6f84341a-9b2b-4454-ef43-535db473c80e"
      },
      "source": [
        "sqlstring='SELECT bedrooms.id, bedrooms.num_of_beds, propertypurchases.price_paid, propertypurchases.town, propertypurchases.district, propertypurchases.estate_type, propertypurchases.property_type FROM projectdata.bedrooms LEFT OUTER JOIN projectdata.propertypurchases ON bedrooms.id=propertypurchases.unique_id WHERE num_of_beds>0'\n",
        "my_db_data=db.sql(sqlstring)\n",
        "data=pd.DataFrame(my_db_data)\n",
        "data"
      ],
      "execution_count": 10,
      "outputs": [
        {
          "output_type": "execute_result",
          "data": {
            "text/html": [
              "<div>\n",
              "<style scoped>\n",
              "    .dataframe tbody tr th:only-of-type {\n",
              "        vertical-align: middle;\n",
              "    }\n",
              "\n",
              "    .dataframe tbody tr th {\n",
              "        vertical-align: top;\n",
              "    }\n",
              "\n",
              "    .dataframe thead th {\n",
              "        text-align: right;\n",
              "    }\n",
              "</style>\n",
              "<table border=\"1\" class=\"dataframe\">\n",
              "  <thead>\n",
              "    <tr style=\"text-align: right;\">\n",
              "      <th></th>\n",
              "      <th>id</th>\n",
              "      <th>num_of_beds</th>\n",
              "      <th>price_paid</th>\n",
              "      <th>town</th>\n",
              "      <th>district</th>\n",
              "      <th>estate_type</th>\n",
              "      <th>property_type</th>\n",
              "    </tr>\n",
              "  </thead>\n",
              "  <tbody>\n",
              "    <tr>\n",
              "      <th>0</th>\n",
              "      <td>64342BFE-1DD5-422C-E053-6C04A8C0FB8A</td>\n",
              "      <td>2</td>\n",
              "      <td>222000</td>\n",
              "      <td>CHELMSFORD</td>\n",
              "      <td>CHELMSFORD</td>\n",
              "      <td>L</td>\n",
              "      <td>F</td>\n",
              "    </tr>\n",
              "    <tr>\n",
              "      <th>1</th>\n",
              "      <td>666758D7-6CCD-3363-E053-6B04A8C0D74E</td>\n",
              "      <td>3</td>\n",
              "      <td>205000</td>\n",
              "      <td>LEAMINGTON SPA</td>\n",
              "      <td>WARWICK</td>\n",
              "      <td>F</td>\n",
              "      <td>T</td>\n",
              "    </tr>\n",
              "    <tr>\n",
              "      <th>2</th>\n",
              "      <td>666758D7-37D9-3363-E053-6B04A8C0D74E</td>\n",
              "      <td>4</td>\n",
              "      <td>800000</td>\n",
              "      <td>ORPINGTON</td>\n",
              "      <td>BROMLEY</td>\n",
              "      <td>F</td>\n",
              "      <td>D</td>\n",
              "    </tr>\n",
              "    <tr>\n",
              "      <th>3</th>\n",
              "      <td>68FEB20C-11C5-38DA-E053-6C04A8C051AE</td>\n",
              "      <td>3</td>\n",
              "      <td>650000</td>\n",
              "      <td>CARDIFF</td>\n",
              "      <td>CARDIFF</td>\n",
              "      <td>F</td>\n",
              "      <td>T</td>\n",
              "    </tr>\n",
              "    <tr>\n",
              "      <th>4</th>\n",
              "      <td>68FEB20B-6AA7-38DA-E053-6C04A8C051AE</td>\n",
              "      <td>4</td>\n",
              "      <td>280000</td>\n",
              "      <td>COLCHESTER</td>\n",
              "      <td>COLCHESTER</td>\n",
              "      <td>F</td>\n",
              "      <td>T</td>\n",
              "    </tr>\n",
              "    <tr>\n",
              "      <th>...</th>\n",
              "      <td>...</td>\n",
              "      <td>...</td>\n",
              "      <td>...</td>\n",
              "      <td>...</td>\n",
              "      <td>...</td>\n",
              "      <td>...</td>\n",
              "      <td>...</td>\n",
              "    </tr>\n",
              "    <tr>\n",
              "      <th>29618</th>\n",
              "      <td>68FEB20B-50B9-38DA-E053-6C04A8C051AE</td>\n",
              "      <td>3</td>\n",
              "      <td>275000</td>\n",
              "      <td>BOURNEMOUTH</td>\n",
              "      <td>BOURNEMOUTH</td>\n",
              "      <td>F</td>\n",
              "      <td>S</td>\n",
              "    </tr>\n",
              "    <tr>\n",
              "      <th>29619</th>\n",
              "      <td>666758D6-AF49-3363-E053-6B04A8C0D74E</td>\n",
              "      <td>2</td>\n",
              "      <td>58000</td>\n",
              "      <td>CROOK</td>\n",
              "      <td>COUNTY DURHAM</td>\n",
              "      <td>F</td>\n",
              "      <td>T</td>\n",
              "    </tr>\n",
              "    <tr>\n",
              "      <th>29620</th>\n",
              "      <td>666758D7-39B2-3363-E053-6B04A8C0D74E</td>\n",
              "      <td>3</td>\n",
              "      <td>441000</td>\n",
              "      <td>BROMLEY</td>\n",
              "      <td>BROMLEY</td>\n",
              "      <td>F</td>\n",
              "      <td>S</td>\n",
              "    </tr>\n",
              "    <tr>\n",
              "      <th>29621</th>\n",
              "      <td>666758D7-68EC-3363-E053-6B04A8C0D74E</td>\n",
              "      <td>2</td>\n",
              "      <td>133500</td>\n",
              "      <td>CARDIFF</td>\n",
              "      <td>CARDIFF</td>\n",
              "      <td>L</td>\n",
              "      <td>F</td>\n",
              "    </tr>\n",
              "    <tr>\n",
              "      <th>29622</th>\n",
              "      <td>68FEB20B-5F33-38DA-E053-6C04A8C051AE</td>\n",
              "      <td>2</td>\n",
              "      <td>480000</td>\n",
              "      <td>LONDON</td>\n",
              "      <td>WALTHAM FOREST</td>\n",
              "      <td>L</td>\n",
              "      <td>F</td>\n",
              "    </tr>\n",
              "  </tbody>\n",
              "</table>\n",
              "<p>29623 rows × 7 columns</p>\n",
              "</div>"
            ],
            "text/plain": [
              "                                         id  ...  property_type\n",
              "0      64342BFE-1DD5-422C-E053-6C04A8C0FB8A  ...              F\n",
              "1      666758D7-6CCD-3363-E053-6B04A8C0D74E  ...              T\n",
              "2      666758D7-37D9-3363-E053-6B04A8C0D74E  ...              D\n",
              "3      68FEB20C-11C5-38DA-E053-6C04A8C051AE  ...              T\n",
              "4      68FEB20B-6AA7-38DA-E053-6C04A8C051AE  ...              T\n",
              "...                                     ...  ...            ...\n",
              "29618  68FEB20B-50B9-38DA-E053-6C04A8C051AE  ...              S\n",
              "29619  666758D6-AF49-3363-E053-6B04A8C0D74E  ...              T\n",
              "29620  666758D7-39B2-3363-E053-6B04A8C0D74E  ...              S\n",
              "29621  666758D7-68EC-3363-E053-6B04A8C0D74E  ...              F\n",
              "29622  68FEB20B-5F33-38DA-E053-6C04A8C051AE  ...              F\n",
              "\n",
              "[29623 rows x 7 columns]"
            ]
          },
          "metadata": {
            "tags": []
          },
          "execution_count": 10
        }
      ]
    },
    {
      "cell_type": "code",
      "metadata": {
        "colab": {
          "base_uri": "https://localhost:8080/",
          "height": 419
        },
        "id": "3yOUkU8hETYE",
        "outputId": "c5d96d37-2f2c-432b-c0ad-1328764a36aa"
      },
      "source": [
        "data_1 = data[(data['district'] =='CHELMSFORD') | (data['district'] =='COLCHESTER' )]\n",
        "data_1"
      ],
      "execution_count": 15,
      "outputs": [
        {
          "output_type": "execute_result",
          "data": {
            "text/html": [
              "<div>\n",
              "<style scoped>\n",
              "    .dataframe tbody tr th:only-of-type {\n",
              "        vertical-align: middle;\n",
              "    }\n",
              "\n",
              "    .dataframe tbody tr th {\n",
              "        vertical-align: top;\n",
              "    }\n",
              "\n",
              "    .dataframe thead th {\n",
              "        text-align: right;\n",
              "    }\n",
              "</style>\n",
              "<table border=\"1\" class=\"dataframe\">\n",
              "  <thead>\n",
              "    <tr style=\"text-align: right;\">\n",
              "      <th></th>\n",
              "      <th>id</th>\n",
              "      <th>num_of_beds</th>\n",
              "      <th>price_paid</th>\n",
              "      <th>town</th>\n",
              "      <th>district</th>\n",
              "      <th>estate_type</th>\n",
              "      <th>property_type</th>\n",
              "    </tr>\n",
              "  </thead>\n",
              "  <tbody>\n",
              "    <tr>\n",
              "      <th>0</th>\n",
              "      <td>64342BFE-1DD5-422C-E053-6C04A8C0FB8A</td>\n",
              "      <td>2</td>\n",
              "      <td>222000</td>\n",
              "      <td>CHELMSFORD</td>\n",
              "      <td>CHELMSFORD</td>\n",
              "      <td>L</td>\n",
              "      <td>F</td>\n",
              "    </tr>\n",
              "    <tr>\n",
              "      <th>4</th>\n",
              "      <td>68FEB20B-6AA7-38DA-E053-6C04A8C051AE</td>\n",
              "      <td>4</td>\n",
              "      <td>280000</td>\n",
              "      <td>COLCHESTER</td>\n",
              "      <td>COLCHESTER</td>\n",
              "      <td>F</td>\n",
              "      <td>T</td>\n",
              "    </tr>\n",
              "    <tr>\n",
              "      <th>12</th>\n",
              "      <td>666758D6-C0F1-3363-E053-6B04A8C0D74E</td>\n",
              "      <td>3</td>\n",
              "      <td>225000</td>\n",
              "      <td>COLCHESTER</td>\n",
              "      <td>COLCHESTER</td>\n",
              "      <td>F</td>\n",
              "      <td>T</td>\n",
              "    </tr>\n",
              "    <tr>\n",
              "      <th>40</th>\n",
              "      <td>64342BFE-1869-422C-E053-6C04A8C0FB8A</td>\n",
              "      <td>3</td>\n",
              "      <td>315000</td>\n",
              "      <td>CHELMSFORD</td>\n",
              "      <td>CHELMSFORD</td>\n",
              "      <td>F</td>\n",
              "      <td>D</td>\n",
              "    </tr>\n",
              "    <tr>\n",
              "      <th>94</th>\n",
              "      <td>666758D6-C4CC-3363-E053-6B04A8C0D74E</td>\n",
              "      <td>3</td>\n",
              "      <td>355000</td>\n",
              "      <td>CHELMSFORD</td>\n",
              "      <td>CHELMSFORD</td>\n",
              "      <td>F</td>\n",
              "      <td>S</td>\n",
              "    </tr>\n",
              "    <tr>\n",
              "      <th>...</th>\n",
              "      <td>...</td>\n",
              "      <td>...</td>\n",
              "      <td>...</td>\n",
              "      <td>...</td>\n",
              "      <td>...</td>\n",
              "      <td>...</td>\n",
              "      <td>...</td>\n",
              "    </tr>\n",
              "    <tr>\n",
              "      <th>29480</th>\n",
              "      <td>666758D6-C2D9-3363-E053-6B04A8C0D74E</td>\n",
              "      <td>4</td>\n",
              "      <td>296000</td>\n",
              "      <td>COLCHESTER</td>\n",
              "      <td>COLCHESTER</td>\n",
              "      <td>F</td>\n",
              "      <td>D</td>\n",
              "    </tr>\n",
              "    <tr>\n",
              "      <th>29493</th>\n",
              "      <td>666758D6-C477-3363-E053-6B04A8C0D74E</td>\n",
              "      <td>2</td>\n",
              "      <td>197500</td>\n",
              "      <td>COLCHESTER</td>\n",
              "      <td>COLCHESTER</td>\n",
              "      <td>F</td>\n",
              "      <td>F</td>\n",
              "    </tr>\n",
              "    <tr>\n",
              "      <th>29500</th>\n",
              "      <td>666758D6-C00B-3363-E053-6B04A8C0D74E</td>\n",
              "      <td>2</td>\n",
              "      <td>155000</td>\n",
              "      <td>COLCHESTER</td>\n",
              "      <td>COLCHESTER</td>\n",
              "      <td>F</td>\n",
              "      <td>T</td>\n",
              "    </tr>\n",
              "    <tr>\n",
              "      <th>29509</th>\n",
              "      <td>68FEB20B-648C-38DA-E053-6C04A8C051AE</td>\n",
              "      <td>4</td>\n",
              "      <td>689000</td>\n",
              "      <td>CHELMSFORD</td>\n",
              "      <td>CHELMSFORD</td>\n",
              "      <td>F</td>\n",
              "      <td>D</td>\n",
              "    </tr>\n",
              "    <tr>\n",
              "      <th>29552</th>\n",
              "      <td>64342BFE-165D-422C-E053-6C04A8C0FB8A</td>\n",
              "      <td>2</td>\n",
              "      <td>320000</td>\n",
              "      <td>COLCHESTER</td>\n",
              "      <td>COLCHESTER</td>\n",
              "      <td>F</td>\n",
              "      <td>D</td>\n",
              "    </tr>\n",
              "  </tbody>\n",
              "</table>\n",
              "<p>645 rows × 7 columns</p>\n",
              "</div>"
            ],
            "text/plain": [
              "                                         id  ...  property_type\n",
              "0      64342BFE-1DD5-422C-E053-6C04A8C0FB8A  ...              F\n",
              "4      68FEB20B-6AA7-38DA-E053-6C04A8C051AE  ...              T\n",
              "12     666758D6-C0F1-3363-E053-6B04A8C0D74E  ...              T\n",
              "40     64342BFE-1869-422C-E053-6C04A8C0FB8A  ...              D\n",
              "94     666758D6-C4CC-3363-E053-6B04A8C0D74E  ...              S\n",
              "...                                     ...  ...            ...\n",
              "29480  666758D6-C2D9-3363-E053-6B04A8C0D74E  ...              D\n",
              "29493  666758D6-C477-3363-E053-6B04A8C0D74E  ...              F\n",
              "29500  666758D6-C00B-3363-E053-6B04A8C0D74E  ...              T\n",
              "29509  68FEB20B-648C-38DA-E053-6C04A8C051AE  ...              D\n",
              "29552  64342BFE-165D-422C-E053-6C04A8C0FB8A  ...              D\n",
              "\n",
              "[645 rows x 7 columns]"
            ]
          },
          "metadata": {
            "tags": []
          },
          "execution_count": 15
        }
      ]
    },
    {
      "cell_type": "code",
      "metadata": {
        "colab": {
          "base_uri": "https://localhost:8080/"
        },
        "id": "mgOU6lE2hGz_",
        "outputId": "1c7394b2-c5eb-48a9-be58-22749e0e6b9f"
      },
      "source": [
        "points=data_1['district'].unique()\n",
        "points.sort()\n",
        "print(len(points))"
      ],
      "execution_count": 12,
      "outputs": [
        {
          "output_type": "stream",
          "text": [
            "2\n"
          ],
          "name": "stdout"
        }
      ]
    },
    {
      "cell_type": "code",
      "metadata": {
        "colab": {
          "base_uri": "https://localhost:8080/",
          "height": 521
        },
        "id": "6ItJn-gzhJ6n",
        "outputId": "25527c39-f087-460e-8987-c335b05aa18a"
      },
      "source": [
        "for x in points:\n",
        "  data_1[x]=data_1['district']\n",
        "data_1"
      ],
      "execution_count": 16,
      "outputs": [
        {
          "output_type": "stream",
          "text": [
            "/usr/local/lib/python3.7/dist-packages/ipykernel_launcher.py:2: SettingWithCopyWarning: \n",
            "A value is trying to be set on a copy of a slice from a DataFrame.\n",
            "Try using .loc[row_indexer,col_indexer] = value instead\n",
            "\n",
            "See the caveats in the documentation: https://pandas.pydata.org/pandas-docs/stable/user_guide/indexing.html#returning-a-view-versus-a-copy\n",
            "  \n"
          ],
          "name": "stderr"
        },
        {
          "output_type": "execute_result",
          "data": {
            "text/html": [
              "<div>\n",
              "<style scoped>\n",
              "    .dataframe tbody tr th:only-of-type {\n",
              "        vertical-align: middle;\n",
              "    }\n",
              "\n",
              "    .dataframe tbody tr th {\n",
              "        vertical-align: top;\n",
              "    }\n",
              "\n",
              "    .dataframe thead th {\n",
              "        text-align: right;\n",
              "    }\n",
              "</style>\n",
              "<table border=\"1\" class=\"dataframe\">\n",
              "  <thead>\n",
              "    <tr style=\"text-align: right;\">\n",
              "      <th></th>\n",
              "      <th>id</th>\n",
              "      <th>num_of_beds</th>\n",
              "      <th>price_paid</th>\n",
              "      <th>town</th>\n",
              "      <th>district</th>\n",
              "      <th>estate_type</th>\n",
              "      <th>property_type</th>\n",
              "      <th>CHELMSFORD</th>\n",
              "      <th>COLCHESTER</th>\n",
              "    </tr>\n",
              "  </thead>\n",
              "  <tbody>\n",
              "    <tr>\n",
              "      <th>0</th>\n",
              "      <td>64342BFE-1DD5-422C-E053-6C04A8C0FB8A</td>\n",
              "      <td>2</td>\n",
              "      <td>222000</td>\n",
              "      <td>CHELMSFORD</td>\n",
              "      <td>CHELMSFORD</td>\n",
              "      <td>L</td>\n",
              "      <td>F</td>\n",
              "      <td>CHELMSFORD</td>\n",
              "      <td>CHELMSFORD</td>\n",
              "    </tr>\n",
              "    <tr>\n",
              "      <th>4</th>\n",
              "      <td>68FEB20B-6AA7-38DA-E053-6C04A8C051AE</td>\n",
              "      <td>4</td>\n",
              "      <td>280000</td>\n",
              "      <td>COLCHESTER</td>\n",
              "      <td>COLCHESTER</td>\n",
              "      <td>F</td>\n",
              "      <td>T</td>\n",
              "      <td>COLCHESTER</td>\n",
              "      <td>COLCHESTER</td>\n",
              "    </tr>\n",
              "    <tr>\n",
              "      <th>12</th>\n",
              "      <td>666758D6-C0F1-3363-E053-6B04A8C0D74E</td>\n",
              "      <td>3</td>\n",
              "      <td>225000</td>\n",
              "      <td>COLCHESTER</td>\n",
              "      <td>COLCHESTER</td>\n",
              "      <td>F</td>\n",
              "      <td>T</td>\n",
              "      <td>COLCHESTER</td>\n",
              "      <td>COLCHESTER</td>\n",
              "    </tr>\n",
              "    <tr>\n",
              "      <th>40</th>\n",
              "      <td>64342BFE-1869-422C-E053-6C04A8C0FB8A</td>\n",
              "      <td>3</td>\n",
              "      <td>315000</td>\n",
              "      <td>CHELMSFORD</td>\n",
              "      <td>CHELMSFORD</td>\n",
              "      <td>F</td>\n",
              "      <td>D</td>\n",
              "      <td>CHELMSFORD</td>\n",
              "      <td>CHELMSFORD</td>\n",
              "    </tr>\n",
              "    <tr>\n",
              "      <th>94</th>\n",
              "      <td>666758D6-C4CC-3363-E053-6B04A8C0D74E</td>\n",
              "      <td>3</td>\n",
              "      <td>355000</td>\n",
              "      <td>CHELMSFORD</td>\n",
              "      <td>CHELMSFORD</td>\n",
              "      <td>F</td>\n",
              "      <td>S</td>\n",
              "      <td>CHELMSFORD</td>\n",
              "      <td>CHELMSFORD</td>\n",
              "    </tr>\n",
              "    <tr>\n",
              "      <th>...</th>\n",
              "      <td>...</td>\n",
              "      <td>...</td>\n",
              "      <td>...</td>\n",
              "      <td>...</td>\n",
              "      <td>...</td>\n",
              "      <td>...</td>\n",
              "      <td>...</td>\n",
              "      <td>...</td>\n",
              "      <td>...</td>\n",
              "    </tr>\n",
              "    <tr>\n",
              "      <th>29480</th>\n",
              "      <td>666758D6-C2D9-3363-E053-6B04A8C0D74E</td>\n",
              "      <td>4</td>\n",
              "      <td>296000</td>\n",
              "      <td>COLCHESTER</td>\n",
              "      <td>COLCHESTER</td>\n",
              "      <td>F</td>\n",
              "      <td>D</td>\n",
              "      <td>COLCHESTER</td>\n",
              "      <td>COLCHESTER</td>\n",
              "    </tr>\n",
              "    <tr>\n",
              "      <th>29493</th>\n",
              "      <td>666758D6-C477-3363-E053-6B04A8C0D74E</td>\n",
              "      <td>2</td>\n",
              "      <td>197500</td>\n",
              "      <td>COLCHESTER</td>\n",
              "      <td>COLCHESTER</td>\n",
              "      <td>F</td>\n",
              "      <td>F</td>\n",
              "      <td>COLCHESTER</td>\n",
              "      <td>COLCHESTER</td>\n",
              "    </tr>\n",
              "    <tr>\n",
              "      <th>29500</th>\n",
              "      <td>666758D6-C00B-3363-E053-6B04A8C0D74E</td>\n",
              "      <td>2</td>\n",
              "      <td>155000</td>\n",
              "      <td>COLCHESTER</td>\n",
              "      <td>COLCHESTER</td>\n",
              "      <td>F</td>\n",
              "      <td>T</td>\n",
              "      <td>COLCHESTER</td>\n",
              "      <td>COLCHESTER</td>\n",
              "    </tr>\n",
              "    <tr>\n",
              "      <th>29509</th>\n",
              "      <td>68FEB20B-648C-38DA-E053-6C04A8C051AE</td>\n",
              "      <td>4</td>\n",
              "      <td>689000</td>\n",
              "      <td>CHELMSFORD</td>\n",
              "      <td>CHELMSFORD</td>\n",
              "      <td>F</td>\n",
              "      <td>D</td>\n",
              "      <td>CHELMSFORD</td>\n",
              "      <td>CHELMSFORD</td>\n",
              "    </tr>\n",
              "    <tr>\n",
              "      <th>29552</th>\n",
              "      <td>64342BFE-165D-422C-E053-6C04A8C0FB8A</td>\n",
              "      <td>2</td>\n",
              "      <td>320000</td>\n",
              "      <td>COLCHESTER</td>\n",
              "      <td>COLCHESTER</td>\n",
              "      <td>F</td>\n",
              "      <td>D</td>\n",
              "      <td>COLCHESTER</td>\n",
              "      <td>COLCHESTER</td>\n",
              "    </tr>\n",
              "  </tbody>\n",
              "</table>\n",
              "<p>645 rows × 9 columns</p>\n",
              "</div>"
            ],
            "text/plain": [
              "                                         id  ...  COLCHESTER\n",
              "0      64342BFE-1DD5-422C-E053-6C04A8C0FB8A  ...  CHELMSFORD\n",
              "4      68FEB20B-6AA7-38DA-E053-6C04A8C051AE  ...  COLCHESTER\n",
              "12     666758D6-C0F1-3363-E053-6B04A8C0D74E  ...  COLCHESTER\n",
              "40     64342BFE-1869-422C-E053-6C04A8C0FB8A  ...  CHELMSFORD\n",
              "94     666758D6-C4CC-3363-E053-6B04A8C0D74E  ...  CHELMSFORD\n",
              "...                                     ...  ...         ...\n",
              "29480  666758D6-C2D9-3363-E053-6B04A8C0D74E  ...  COLCHESTER\n",
              "29493  666758D6-C477-3363-E053-6B04A8C0D74E  ...  COLCHESTER\n",
              "29500  666758D6-C00B-3363-E053-6B04A8C0D74E  ...  COLCHESTER\n",
              "29509  68FEB20B-648C-38DA-E053-6C04A8C051AE  ...  CHELMSFORD\n",
              "29552  64342BFE-165D-422C-E053-6C04A8C0FB8A  ...  COLCHESTER\n",
              "\n",
              "[645 rows x 9 columns]"
            ]
          },
          "metadata": {
            "tags": []
          },
          "execution_count": 16
        }
      ]
    },
    {
      "cell_type": "code",
      "metadata": {
        "colab": {
          "base_uri": "https://localhost:8080/",
          "height": 623
        },
        "id": "Q5-jAZMFhPue",
        "outputId": "058e597c-a879-4301-da77-cb6eff94e7ba"
      },
      "source": [
        "for x in points:\n",
        "  data_1[x]=data_1.district.str.contains(x,case=False)\n",
        "  data_1[x]=data_1[x].astype(int)\n",
        "data_1"
      ],
      "execution_count": 17,
      "outputs": [
        {
          "output_type": "stream",
          "text": [
            "/usr/local/lib/python3.7/dist-packages/ipykernel_launcher.py:2: SettingWithCopyWarning: \n",
            "A value is trying to be set on a copy of a slice from a DataFrame.\n",
            "Try using .loc[row_indexer,col_indexer] = value instead\n",
            "\n",
            "See the caveats in the documentation: https://pandas.pydata.org/pandas-docs/stable/user_guide/indexing.html#returning-a-view-versus-a-copy\n",
            "  \n",
            "/usr/local/lib/python3.7/dist-packages/ipykernel_launcher.py:3: SettingWithCopyWarning: \n",
            "A value is trying to be set on a copy of a slice from a DataFrame.\n",
            "Try using .loc[row_indexer,col_indexer] = value instead\n",
            "\n",
            "See the caveats in the documentation: https://pandas.pydata.org/pandas-docs/stable/user_guide/indexing.html#returning-a-view-versus-a-copy\n",
            "  This is separate from the ipykernel package so we can avoid doing imports until\n"
          ],
          "name": "stderr"
        },
        {
          "output_type": "execute_result",
          "data": {
            "text/html": [
              "<div>\n",
              "<style scoped>\n",
              "    .dataframe tbody tr th:only-of-type {\n",
              "        vertical-align: middle;\n",
              "    }\n",
              "\n",
              "    .dataframe tbody tr th {\n",
              "        vertical-align: top;\n",
              "    }\n",
              "\n",
              "    .dataframe thead th {\n",
              "        text-align: right;\n",
              "    }\n",
              "</style>\n",
              "<table border=\"1\" class=\"dataframe\">\n",
              "  <thead>\n",
              "    <tr style=\"text-align: right;\">\n",
              "      <th></th>\n",
              "      <th>id</th>\n",
              "      <th>num_of_beds</th>\n",
              "      <th>price_paid</th>\n",
              "      <th>town</th>\n",
              "      <th>district</th>\n",
              "      <th>estate_type</th>\n",
              "      <th>property_type</th>\n",
              "      <th>CHELMSFORD</th>\n",
              "      <th>COLCHESTER</th>\n",
              "    </tr>\n",
              "  </thead>\n",
              "  <tbody>\n",
              "    <tr>\n",
              "      <th>0</th>\n",
              "      <td>64342BFE-1DD5-422C-E053-6C04A8C0FB8A</td>\n",
              "      <td>2</td>\n",
              "      <td>222000</td>\n",
              "      <td>CHELMSFORD</td>\n",
              "      <td>CHELMSFORD</td>\n",
              "      <td>L</td>\n",
              "      <td>F</td>\n",
              "      <td>1</td>\n",
              "      <td>0</td>\n",
              "    </tr>\n",
              "    <tr>\n",
              "      <th>4</th>\n",
              "      <td>68FEB20B-6AA7-38DA-E053-6C04A8C051AE</td>\n",
              "      <td>4</td>\n",
              "      <td>280000</td>\n",
              "      <td>COLCHESTER</td>\n",
              "      <td>COLCHESTER</td>\n",
              "      <td>F</td>\n",
              "      <td>T</td>\n",
              "      <td>0</td>\n",
              "      <td>1</td>\n",
              "    </tr>\n",
              "    <tr>\n",
              "      <th>12</th>\n",
              "      <td>666758D6-C0F1-3363-E053-6B04A8C0D74E</td>\n",
              "      <td>3</td>\n",
              "      <td>225000</td>\n",
              "      <td>COLCHESTER</td>\n",
              "      <td>COLCHESTER</td>\n",
              "      <td>F</td>\n",
              "      <td>T</td>\n",
              "      <td>0</td>\n",
              "      <td>1</td>\n",
              "    </tr>\n",
              "    <tr>\n",
              "      <th>40</th>\n",
              "      <td>64342BFE-1869-422C-E053-6C04A8C0FB8A</td>\n",
              "      <td>3</td>\n",
              "      <td>315000</td>\n",
              "      <td>CHELMSFORD</td>\n",
              "      <td>CHELMSFORD</td>\n",
              "      <td>F</td>\n",
              "      <td>D</td>\n",
              "      <td>1</td>\n",
              "      <td>0</td>\n",
              "    </tr>\n",
              "    <tr>\n",
              "      <th>94</th>\n",
              "      <td>666758D6-C4CC-3363-E053-6B04A8C0D74E</td>\n",
              "      <td>3</td>\n",
              "      <td>355000</td>\n",
              "      <td>CHELMSFORD</td>\n",
              "      <td>CHELMSFORD</td>\n",
              "      <td>F</td>\n",
              "      <td>S</td>\n",
              "      <td>1</td>\n",
              "      <td>0</td>\n",
              "    </tr>\n",
              "    <tr>\n",
              "      <th>...</th>\n",
              "      <td>...</td>\n",
              "      <td>...</td>\n",
              "      <td>...</td>\n",
              "      <td>...</td>\n",
              "      <td>...</td>\n",
              "      <td>...</td>\n",
              "      <td>...</td>\n",
              "      <td>...</td>\n",
              "      <td>...</td>\n",
              "    </tr>\n",
              "    <tr>\n",
              "      <th>29480</th>\n",
              "      <td>666758D6-C2D9-3363-E053-6B04A8C0D74E</td>\n",
              "      <td>4</td>\n",
              "      <td>296000</td>\n",
              "      <td>COLCHESTER</td>\n",
              "      <td>COLCHESTER</td>\n",
              "      <td>F</td>\n",
              "      <td>D</td>\n",
              "      <td>0</td>\n",
              "      <td>1</td>\n",
              "    </tr>\n",
              "    <tr>\n",
              "      <th>29493</th>\n",
              "      <td>666758D6-C477-3363-E053-6B04A8C0D74E</td>\n",
              "      <td>2</td>\n",
              "      <td>197500</td>\n",
              "      <td>COLCHESTER</td>\n",
              "      <td>COLCHESTER</td>\n",
              "      <td>F</td>\n",
              "      <td>F</td>\n",
              "      <td>0</td>\n",
              "      <td>1</td>\n",
              "    </tr>\n",
              "    <tr>\n",
              "      <th>29500</th>\n",
              "      <td>666758D6-C00B-3363-E053-6B04A8C0D74E</td>\n",
              "      <td>2</td>\n",
              "      <td>155000</td>\n",
              "      <td>COLCHESTER</td>\n",
              "      <td>COLCHESTER</td>\n",
              "      <td>F</td>\n",
              "      <td>T</td>\n",
              "      <td>0</td>\n",
              "      <td>1</td>\n",
              "    </tr>\n",
              "    <tr>\n",
              "      <th>29509</th>\n",
              "      <td>68FEB20B-648C-38DA-E053-6C04A8C051AE</td>\n",
              "      <td>4</td>\n",
              "      <td>689000</td>\n",
              "      <td>CHELMSFORD</td>\n",
              "      <td>CHELMSFORD</td>\n",
              "      <td>F</td>\n",
              "      <td>D</td>\n",
              "      <td>1</td>\n",
              "      <td>0</td>\n",
              "    </tr>\n",
              "    <tr>\n",
              "      <th>29552</th>\n",
              "      <td>64342BFE-165D-422C-E053-6C04A8C0FB8A</td>\n",
              "      <td>2</td>\n",
              "      <td>320000</td>\n",
              "      <td>COLCHESTER</td>\n",
              "      <td>COLCHESTER</td>\n",
              "      <td>F</td>\n",
              "      <td>D</td>\n",
              "      <td>0</td>\n",
              "      <td>1</td>\n",
              "    </tr>\n",
              "  </tbody>\n",
              "</table>\n",
              "<p>645 rows × 9 columns</p>\n",
              "</div>"
            ],
            "text/plain": [
              "                                         id  ...  COLCHESTER\n",
              "0      64342BFE-1DD5-422C-E053-6C04A8C0FB8A  ...           0\n",
              "4      68FEB20B-6AA7-38DA-E053-6C04A8C051AE  ...           1\n",
              "12     666758D6-C0F1-3363-E053-6B04A8C0D74E  ...           1\n",
              "40     64342BFE-1869-422C-E053-6C04A8C0FB8A  ...           0\n",
              "94     666758D6-C4CC-3363-E053-6B04A8C0D74E  ...           0\n",
              "...                                     ...  ...         ...\n",
              "29480  666758D6-C2D9-3363-E053-6B04A8C0D74E  ...           1\n",
              "29493  666758D6-C477-3363-E053-6B04A8C0D74E  ...           1\n",
              "29500  666758D6-C00B-3363-E053-6B04A8C0D74E  ...           1\n",
              "29509  68FEB20B-648C-38DA-E053-6C04A8C051AE  ...           0\n",
              "29552  64342BFE-165D-422C-E053-6C04A8C0FB8A  ...           1\n",
              "\n",
              "[645 rows x 9 columns]"
            ]
          },
          "metadata": {
            "tags": []
          },
          "execution_count": 17
        }
      ]
    },
    {
      "cell_type": "code",
      "metadata": {
        "colab": {
          "base_uri": "https://localhost:8080/",
          "height": 504
        },
        "id": "uKRhE-ashT32",
        "outputId": "2f3b4fea-5c6d-4683-e92a-8eea2e6ecd69"
      },
      "source": [
        "# Remove columns \n",
        "data_1.drop(['id', 'town', 'district'],  axis='columns', inplace=True)\n",
        "data_1"
      ],
      "execution_count": 18,
      "outputs": [
        {
          "output_type": "stream",
          "text": [
            "/usr/local/lib/python3.7/dist-packages/pandas/core/frame.py:4174: SettingWithCopyWarning: \n",
            "A value is trying to be set on a copy of a slice from a DataFrame\n",
            "\n",
            "See the caveats in the documentation: https://pandas.pydata.org/pandas-docs/stable/user_guide/indexing.html#returning-a-view-versus-a-copy\n",
            "  errors=errors,\n"
          ],
          "name": "stderr"
        },
        {
          "output_type": "execute_result",
          "data": {
            "text/html": [
              "<div>\n",
              "<style scoped>\n",
              "    .dataframe tbody tr th:only-of-type {\n",
              "        vertical-align: middle;\n",
              "    }\n",
              "\n",
              "    .dataframe tbody tr th {\n",
              "        vertical-align: top;\n",
              "    }\n",
              "\n",
              "    .dataframe thead th {\n",
              "        text-align: right;\n",
              "    }\n",
              "</style>\n",
              "<table border=\"1\" class=\"dataframe\">\n",
              "  <thead>\n",
              "    <tr style=\"text-align: right;\">\n",
              "      <th></th>\n",
              "      <th>num_of_beds</th>\n",
              "      <th>price_paid</th>\n",
              "      <th>estate_type</th>\n",
              "      <th>property_type</th>\n",
              "      <th>CHELMSFORD</th>\n",
              "      <th>COLCHESTER</th>\n",
              "    </tr>\n",
              "  </thead>\n",
              "  <tbody>\n",
              "    <tr>\n",
              "      <th>0</th>\n",
              "      <td>2</td>\n",
              "      <td>222000</td>\n",
              "      <td>L</td>\n",
              "      <td>F</td>\n",
              "      <td>1</td>\n",
              "      <td>0</td>\n",
              "    </tr>\n",
              "    <tr>\n",
              "      <th>4</th>\n",
              "      <td>4</td>\n",
              "      <td>280000</td>\n",
              "      <td>F</td>\n",
              "      <td>T</td>\n",
              "      <td>0</td>\n",
              "      <td>1</td>\n",
              "    </tr>\n",
              "    <tr>\n",
              "      <th>12</th>\n",
              "      <td>3</td>\n",
              "      <td>225000</td>\n",
              "      <td>F</td>\n",
              "      <td>T</td>\n",
              "      <td>0</td>\n",
              "      <td>1</td>\n",
              "    </tr>\n",
              "    <tr>\n",
              "      <th>40</th>\n",
              "      <td>3</td>\n",
              "      <td>315000</td>\n",
              "      <td>F</td>\n",
              "      <td>D</td>\n",
              "      <td>1</td>\n",
              "      <td>0</td>\n",
              "    </tr>\n",
              "    <tr>\n",
              "      <th>94</th>\n",
              "      <td>3</td>\n",
              "      <td>355000</td>\n",
              "      <td>F</td>\n",
              "      <td>S</td>\n",
              "      <td>1</td>\n",
              "      <td>0</td>\n",
              "    </tr>\n",
              "    <tr>\n",
              "      <th>...</th>\n",
              "      <td>...</td>\n",
              "      <td>...</td>\n",
              "      <td>...</td>\n",
              "      <td>...</td>\n",
              "      <td>...</td>\n",
              "      <td>...</td>\n",
              "    </tr>\n",
              "    <tr>\n",
              "      <th>29480</th>\n",
              "      <td>4</td>\n",
              "      <td>296000</td>\n",
              "      <td>F</td>\n",
              "      <td>D</td>\n",
              "      <td>0</td>\n",
              "      <td>1</td>\n",
              "    </tr>\n",
              "    <tr>\n",
              "      <th>29493</th>\n",
              "      <td>2</td>\n",
              "      <td>197500</td>\n",
              "      <td>F</td>\n",
              "      <td>F</td>\n",
              "      <td>0</td>\n",
              "      <td>1</td>\n",
              "    </tr>\n",
              "    <tr>\n",
              "      <th>29500</th>\n",
              "      <td>2</td>\n",
              "      <td>155000</td>\n",
              "      <td>F</td>\n",
              "      <td>T</td>\n",
              "      <td>0</td>\n",
              "      <td>1</td>\n",
              "    </tr>\n",
              "    <tr>\n",
              "      <th>29509</th>\n",
              "      <td>4</td>\n",
              "      <td>689000</td>\n",
              "      <td>F</td>\n",
              "      <td>D</td>\n",
              "      <td>1</td>\n",
              "      <td>0</td>\n",
              "    </tr>\n",
              "    <tr>\n",
              "      <th>29552</th>\n",
              "      <td>2</td>\n",
              "      <td>320000</td>\n",
              "      <td>F</td>\n",
              "      <td>D</td>\n",
              "      <td>0</td>\n",
              "      <td>1</td>\n",
              "    </tr>\n",
              "  </tbody>\n",
              "</table>\n",
              "<p>645 rows × 6 columns</p>\n",
              "</div>"
            ],
            "text/plain": [
              "       num_of_beds  price_paid  ... CHELMSFORD COLCHESTER\n",
              "0                2      222000  ...          1          0\n",
              "4                4      280000  ...          0          1\n",
              "12               3      225000  ...          0          1\n",
              "40               3      315000  ...          1          0\n",
              "94               3      355000  ...          1          0\n",
              "...            ...         ...  ...        ...        ...\n",
              "29480            4      296000  ...          0          1\n",
              "29493            2      197500  ...          0          1\n",
              "29500            2      155000  ...          0          1\n",
              "29509            4      689000  ...          1          0\n",
              "29552            2      320000  ...          0          1\n",
              "\n",
              "[645 rows x 6 columns]"
            ]
          },
          "metadata": {
            "tags": []
          },
          "execution_count": 18
        }
      ]
    },
    {
      "cell_type": "code",
      "metadata": {
        "colab": {
          "base_uri": "https://localhost:8080/"
        },
        "id": "0B4SSIb_hZ52",
        "outputId": "6eb2b5b3-3d3c-41c2-a13b-6a19efb4a6be"
      },
      "source": [
        "estateTypes=data_1['estate_type'].unique()\n",
        "estateTypes"
      ],
      "execution_count": 19,
      "outputs": [
        {
          "output_type": "execute_result",
          "data": {
            "text/plain": [
              "array(['L', 'F'], dtype=object)"
            ]
          },
          "metadata": {
            "tags": []
          },
          "execution_count": 19
        }
      ]
    },
    {
      "cell_type": "code",
      "metadata": {
        "colab": {
          "base_uri": "https://localhost:8080/",
          "height": 521
        },
        "id": "QX2Q6NO-hdCW",
        "outputId": "434bab8c-48cb-4d32-9da6-944d01700a9d"
      },
      "source": [
        "data_1['estate_type'] =data_1['estate_type'].map({'F':'2',\n",
        "                             'L':'1'})\n",
        "data"
      ],
      "execution_count": 20,
      "outputs": [
        {
          "output_type": "stream",
          "text": [
            "/usr/local/lib/python3.7/dist-packages/ipykernel_launcher.py:2: SettingWithCopyWarning: \n",
            "A value is trying to be set on a copy of a slice from a DataFrame.\n",
            "Try using .loc[row_indexer,col_indexer] = value instead\n",
            "\n",
            "See the caveats in the documentation: https://pandas.pydata.org/pandas-docs/stable/user_guide/indexing.html#returning-a-view-versus-a-copy\n",
            "  \n"
          ],
          "name": "stderr"
        },
        {
          "output_type": "execute_result",
          "data": {
            "text/html": [
              "<div>\n",
              "<style scoped>\n",
              "    .dataframe tbody tr th:only-of-type {\n",
              "        vertical-align: middle;\n",
              "    }\n",
              "\n",
              "    .dataframe tbody tr th {\n",
              "        vertical-align: top;\n",
              "    }\n",
              "\n",
              "    .dataframe thead th {\n",
              "        text-align: right;\n",
              "    }\n",
              "</style>\n",
              "<table border=\"1\" class=\"dataframe\">\n",
              "  <thead>\n",
              "    <tr style=\"text-align: right;\">\n",
              "      <th></th>\n",
              "      <th>id</th>\n",
              "      <th>num_of_beds</th>\n",
              "      <th>price_paid</th>\n",
              "      <th>town</th>\n",
              "      <th>district</th>\n",
              "      <th>estate_type</th>\n",
              "      <th>property_type</th>\n",
              "    </tr>\n",
              "  </thead>\n",
              "  <tbody>\n",
              "    <tr>\n",
              "      <th>0</th>\n",
              "      <td>64342BFE-1DD5-422C-E053-6C04A8C0FB8A</td>\n",
              "      <td>2</td>\n",
              "      <td>222000</td>\n",
              "      <td>CHELMSFORD</td>\n",
              "      <td>CHELMSFORD</td>\n",
              "      <td>L</td>\n",
              "      <td>F</td>\n",
              "    </tr>\n",
              "    <tr>\n",
              "      <th>1</th>\n",
              "      <td>666758D7-6CCD-3363-E053-6B04A8C0D74E</td>\n",
              "      <td>3</td>\n",
              "      <td>205000</td>\n",
              "      <td>LEAMINGTON SPA</td>\n",
              "      <td>WARWICK</td>\n",
              "      <td>F</td>\n",
              "      <td>T</td>\n",
              "    </tr>\n",
              "    <tr>\n",
              "      <th>2</th>\n",
              "      <td>666758D7-37D9-3363-E053-6B04A8C0D74E</td>\n",
              "      <td>4</td>\n",
              "      <td>800000</td>\n",
              "      <td>ORPINGTON</td>\n",
              "      <td>BROMLEY</td>\n",
              "      <td>F</td>\n",
              "      <td>D</td>\n",
              "    </tr>\n",
              "    <tr>\n",
              "      <th>3</th>\n",
              "      <td>68FEB20C-11C5-38DA-E053-6C04A8C051AE</td>\n",
              "      <td>3</td>\n",
              "      <td>650000</td>\n",
              "      <td>CARDIFF</td>\n",
              "      <td>CARDIFF</td>\n",
              "      <td>F</td>\n",
              "      <td>T</td>\n",
              "    </tr>\n",
              "    <tr>\n",
              "      <th>4</th>\n",
              "      <td>68FEB20B-6AA7-38DA-E053-6C04A8C051AE</td>\n",
              "      <td>4</td>\n",
              "      <td>280000</td>\n",
              "      <td>COLCHESTER</td>\n",
              "      <td>COLCHESTER</td>\n",
              "      <td>F</td>\n",
              "      <td>T</td>\n",
              "    </tr>\n",
              "    <tr>\n",
              "      <th>...</th>\n",
              "      <td>...</td>\n",
              "      <td>...</td>\n",
              "      <td>...</td>\n",
              "      <td>...</td>\n",
              "      <td>...</td>\n",
              "      <td>...</td>\n",
              "      <td>...</td>\n",
              "    </tr>\n",
              "    <tr>\n",
              "      <th>29618</th>\n",
              "      <td>68FEB20B-50B9-38DA-E053-6C04A8C051AE</td>\n",
              "      <td>3</td>\n",
              "      <td>275000</td>\n",
              "      <td>BOURNEMOUTH</td>\n",
              "      <td>BOURNEMOUTH</td>\n",
              "      <td>F</td>\n",
              "      <td>S</td>\n",
              "    </tr>\n",
              "    <tr>\n",
              "      <th>29619</th>\n",
              "      <td>666758D6-AF49-3363-E053-6B04A8C0D74E</td>\n",
              "      <td>2</td>\n",
              "      <td>58000</td>\n",
              "      <td>CROOK</td>\n",
              "      <td>COUNTY DURHAM</td>\n",
              "      <td>F</td>\n",
              "      <td>T</td>\n",
              "    </tr>\n",
              "    <tr>\n",
              "      <th>29620</th>\n",
              "      <td>666758D7-39B2-3363-E053-6B04A8C0D74E</td>\n",
              "      <td>3</td>\n",
              "      <td>441000</td>\n",
              "      <td>BROMLEY</td>\n",
              "      <td>BROMLEY</td>\n",
              "      <td>F</td>\n",
              "      <td>S</td>\n",
              "    </tr>\n",
              "    <tr>\n",
              "      <th>29621</th>\n",
              "      <td>666758D7-68EC-3363-E053-6B04A8C0D74E</td>\n",
              "      <td>2</td>\n",
              "      <td>133500</td>\n",
              "      <td>CARDIFF</td>\n",
              "      <td>CARDIFF</td>\n",
              "      <td>L</td>\n",
              "      <td>F</td>\n",
              "    </tr>\n",
              "    <tr>\n",
              "      <th>29622</th>\n",
              "      <td>68FEB20B-5F33-38DA-E053-6C04A8C051AE</td>\n",
              "      <td>2</td>\n",
              "      <td>480000</td>\n",
              "      <td>LONDON</td>\n",
              "      <td>WALTHAM FOREST</td>\n",
              "      <td>L</td>\n",
              "      <td>F</td>\n",
              "    </tr>\n",
              "  </tbody>\n",
              "</table>\n",
              "<p>29623 rows × 7 columns</p>\n",
              "</div>"
            ],
            "text/plain": [
              "                                         id  ...  property_type\n",
              "0      64342BFE-1DD5-422C-E053-6C04A8C0FB8A  ...              F\n",
              "1      666758D7-6CCD-3363-E053-6B04A8C0D74E  ...              T\n",
              "2      666758D7-37D9-3363-E053-6B04A8C0D74E  ...              D\n",
              "3      68FEB20C-11C5-38DA-E053-6C04A8C051AE  ...              T\n",
              "4      68FEB20B-6AA7-38DA-E053-6C04A8C051AE  ...              T\n",
              "...                                     ...  ...            ...\n",
              "29618  68FEB20B-50B9-38DA-E053-6C04A8C051AE  ...              S\n",
              "29619  666758D6-AF49-3363-E053-6B04A8C0D74E  ...              T\n",
              "29620  666758D7-39B2-3363-E053-6B04A8C0D74E  ...              S\n",
              "29621  666758D7-68EC-3363-E053-6B04A8C0D74E  ...              F\n",
              "29622  68FEB20B-5F33-38DA-E053-6C04A8C051AE  ...              F\n",
              "\n",
              "[29623 rows x 7 columns]"
            ]
          },
          "metadata": {
            "tags": []
          },
          "execution_count": 20
        }
      ]
    },
    {
      "cell_type": "code",
      "metadata": {
        "colab": {
          "base_uri": "https://localhost:8080/"
        },
        "id": "GJMM5eFohg32",
        "outputId": "a97c7e8e-3558-4970-c965-de048538d22e"
      },
      "source": [
        "propertyTypes=data_1['property_type'].unique()\n",
        "propertyTypes"
      ],
      "execution_count": 21,
      "outputs": [
        {
          "output_type": "execute_result",
          "data": {
            "text/plain": [
              "array(['F', 'T', 'D', 'S', 'O'], dtype=object)"
            ]
          },
          "metadata": {
            "tags": []
          },
          "execution_count": 21
        }
      ]
    },
    {
      "cell_type": "code",
      "metadata": {
        "colab": {
          "base_uri": "https://localhost:8080/",
          "height": 521
        },
        "id": "fda4R7uhhju_",
        "outputId": "71953ac4-949d-474e-8564-da522b2835cc"
      },
      "source": [
        "data_1['property_type'] =data_1['property_type'].map({'O':'5','D':'4','S':'3','T':'2','F':'1'})\n",
        "data_1\n",
        "              "
      ],
      "execution_count": 22,
      "outputs": [
        {
          "output_type": "stream",
          "text": [
            "/usr/local/lib/python3.7/dist-packages/ipykernel_launcher.py:1: SettingWithCopyWarning: \n",
            "A value is trying to be set on a copy of a slice from a DataFrame.\n",
            "Try using .loc[row_indexer,col_indexer] = value instead\n",
            "\n",
            "See the caveats in the documentation: https://pandas.pydata.org/pandas-docs/stable/user_guide/indexing.html#returning-a-view-versus-a-copy\n",
            "  \"\"\"Entry point for launching an IPython kernel.\n"
          ],
          "name": "stderr"
        },
        {
          "output_type": "execute_result",
          "data": {
            "text/html": [
              "<div>\n",
              "<style scoped>\n",
              "    .dataframe tbody tr th:only-of-type {\n",
              "        vertical-align: middle;\n",
              "    }\n",
              "\n",
              "    .dataframe tbody tr th {\n",
              "        vertical-align: top;\n",
              "    }\n",
              "\n",
              "    .dataframe thead th {\n",
              "        text-align: right;\n",
              "    }\n",
              "</style>\n",
              "<table border=\"1\" class=\"dataframe\">\n",
              "  <thead>\n",
              "    <tr style=\"text-align: right;\">\n",
              "      <th></th>\n",
              "      <th>num_of_beds</th>\n",
              "      <th>price_paid</th>\n",
              "      <th>estate_type</th>\n",
              "      <th>property_type</th>\n",
              "      <th>CHELMSFORD</th>\n",
              "      <th>COLCHESTER</th>\n",
              "    </tr>\n",
              "  </thead>\n",
              "  <tbody>\n",
              "    <tr>\n",
              "      <th>0</th>\n",
              "      <td>2</td>\n",
              "      <td>222000</td>\n",
              "      <td>1</td>\n",
              "      <td>1</td>\n",
              "      <td>1</td>\n",
              "      <td>0</td>\n",
              "    </tr>\n",
              "    <tr>\n",
              "      <th>4</th>\n",
              "      <td>4</td>\n",
              "      <td>280000</td>\n",
              "      <td>2</td>\n",
              "      <td>2</td>\n",
              "      <td>0</td>\n",
              "      <td>1</td>\n",
              "    </tr>\n",
              "    <tr>\n",
              "      <th>12</th>\n",
              "      <td>3</td>\n",
              "      <td>225000</td>\n",
              "      <td>2</td>\n",
              "      <td>2</td>\n",
              "      <td>0</td>\n",
              "      <td>1</td>\n",
              "    </tr>\n",
              "    <tr>\n",
              "      <th>40</th>\n",
              "      <td>3</td>\n",
              "      <td>315000</td>\n",
              "      <td>2</td>\n",
              "      <td>4</td>\n",
              "      <td>1</td>\n",
              "      <td>0</td>\n",
              "    </tr>\n",
              "    <tr>\n",
              "      <th>94</th>\n",
              "      <td>3</td>\n",
              "      <td>355000</td>\n",
              "      <td>2</td>\n",
              "      <td>3</td>\n",
              "      <td>1</td>\n",
              "      <td>0</td>\n",
              "    </tr>\n",
              "    <tr>\n",
              "      <th>...</th>\n",
              "      <td>...</td>\n",
              "      <td>...</td>\n",
              "      <td>...</td>\n",
              "      <td>...</td>\n",
              "      <td>...</td>\n",
              "      <td>...</td>\n",
              "    </tr>\n",
              "    <tr>\n",
              "      <th>29480</th>\n",
              "      <td>4</td>\n",
              "      <td>296000</td>\n",
              "      <td>2</td>\n",
              "      <td>4</td>\n",
              "      <td>0</td>\n",
              "      <td>1</td>\n",
              "    </tr>\n",
              "    <tr>\n",
              "      <th>29493</th>\n",
              "      <td>2</td>\n",
              "      <td>197500</td>\n",
              "      <td>2</td>\n",
              "      <td>1</td>\n",
              "      <td>0</td>\n",
              "      <td>1</td>\n",
              "    </tr>\n",
              "    <tr>\n",
              "      <th>29500</th>\n",
              "      <td>2</td>\n",
              "      <td>155000</td>\n",
              "      <td>2</td>\n",
              "      <td>2</td>\n",
              "      <td>0</td>\n",
              "      <td>1</td>\n",
              "    </tr>\n",
              "    <tr>\n",
              "      <th>29509</th>\n",
              "      <td>4</td>\n",
              "      <td>689000</td>\n",
              "      <td>2</td>\n",
              "      <td>4</td>\n",
              "      <td>1</td>\n",
              "      <td>0</td>\n",
              "    </tr>\n",
              "    <tr>\n",
              "      <th>29552</th>\n",
              "      <td>2</td>\n",
              "      <td>320000</td>\n",
              "      <td>2</td>\n",
              "      <td>4</td>\n",
              "      <td>0</td>\n",
              "      <td>1</td>\n",
              "    </tr>\n",
              "  </tbody>\n",
              "</table>\n",
              "<p>645 rows × 6 columns</p>\n",
              "</div>"
            ],
            "text/plain": [
              "       num_of_beds  price_paid  ... CHELMSFORD COLCHESTER\n",
              "0                2      222000  ...          1          0\n",
              "4                4      280000  ...          0          1\n",
              "12               3      225000  ...          0          1\n",
              "40               3      315000  ...          1          0\n",
              "94               3      355000  ...          1          0\n",
              "...            ...         ...  ...        ...        ...\n",
              "29480            4      296000  ...          0          1\n",
              "29493            2      197500  ...          0          1\n",
              "29500            2      155000  ...          0          1\n",
              "29509            4      689000  ...          1          0\n",
              "29552            2      320000  ...          0          1\n",
              "\n",
              "[645 rows x 6 columns]"
            ]
          },
          "metadata": {
            "tags": []
          },
          "execution_count": 22
        }
      ]
    },
    {
      "cell_type": "code",
      "metadata": {
        "colab": {
          "base_uri": "https://localhost:8080/",
          "height": 521
        },
        "id": "xkGp54NlhnRf",
        "outputId": "278cb8d8-300e-4d6f-cd78-facf42051f1c"
      },
      "source": [
        "df1 = data_1.pop('price_paid') # remove column price_paid and store it in df1\n",
        "data_1['price_paid']=df1 # add price_paid series as a 'new' column.\n",
        "data_1\n"
      ],
      "execution_count": 23,
      "outputs": [
        {
          "output_type": "stream",
          "text": [
            "/usr/local/lib/python3.7/dist-packages/ipykernel_launcher.py:2: SettingWithCopyWarning: \n",
            "A value is trying to be set on a copy of a slice from a DataFrame.\n",
            "Try using .loc[row_indexer,col_indexer] = value instead\n",
            "\n",
            "See the caveats in the documentation: https://pandas.pydata.org/pandas-docs/stable/user_guide/indexing.html#returning-a-view-versus-a-copy\n",
            "  \n"
          ],
          "name": "stderr"
        },
        {
          "output_type": "execute_result",
          "data": {
            "text/html": [
              "<div>\n",
              "<style scoped>\n",
              "    .dataframe tbody tr th:only-of-type {\n",
              "        vertical-align: middle;\n",
              "    }\n",
              "\n",
              "    .dataframe tbody tr th {\n",
              "        vertical-align: top;\n",
              "    }\n",
              "\n",
              "    .dataframe thead th {\n",
              "        text-align: right;\n",
              "    }\n",
              "</style>\n",
              "<table border=\"1\" class=\"dataframe\">\n",
              "  <thead>\n",
              "    <tr style=\"text-align: right;\">\n",
              "      <th></th>\n",
              "      <th>num_of_beds</th>\n",
              "      <th>estate_type</th>\n",
              "      <th>property_type</th>\n",
              "      <th>CHELMSFORD</th>\n",
              "      <th>COLCHESTER</th>\n",
              "      <th>price_paid</th>\n",
              "    </tr>\n",
              "  </thead>\n",
              "  <tbody>\n",
              "    <tr>\n",
              "      <th>0</th>\n",
              "      <td>2</td>\n",
              "      <td>1</td>\n",
              "      <td>1</td>\n",
              "      <td>1</td>\n",
              "      <td>0</td>\n",
              "      <td>222000</td>\n",
              "    </tr>\n",
              "    <tr>\n",
              "      <th>4</th>\n",
              "      <td>4</td>\n",
              "      <td>2</td>\n",
              "      <td>2</td>\n",
              "      <td>0</td>\n",
              "      <td>1</td>\n",
              "      <td>280000</td>\n",
              "    </tr>\n",
              "    <tr>\n",
              "      <th>12</th>\n",
              "      <td>3</td>\n",
              "      <td>2</td>\n",
              "      <td>2</td>\n",
              "      <td>0</td>\n",
              "      <td>1</td>\n",
              "      <td>225000</td>\n",
              "    </tr>\n",
              "    <tr>\n",
              "      <th>40</th>\n",
              "      <td>3</td>\n",
              "      <td>2</td>\n",
              "      <td>4</td>\n",
              "      <td>1</td>\n",
              "      <td>0</td>\n",
              "      <td>315000</td>\n",
              "    </tr>\n",
              "    <tr>\n",
              "      <th>94</th>\n",
              "      <td>3</td>\n",
              "      <td>2</td>\n",
              "      <td>3</td>\n",
              "      <td>1</td>\n",
              "      <td>0</td>\n",
              "      <td>355000</td>\n",
              "    </tr>\n",
              "    <tr>\n",
              "      <th>...</th>\n",
              "      <td>...</td>\n",
              "      <td>...</td>\n",
              "      <td>...</td>\n",
              "      <td>...</td>\n",
              "      <td>...</td>\n",
              "      <td>...</td>\n",
              "    </tr>\n",
              "    <tr>\n",
              "      <th>29480</th>\n",
              "      <td>4</td>\n",
              "      <td>2</td>\n",
              "      <td>4</td>\n",
              "      <td>0</td>\n",
              "      <td>1</td>\n",
              "      <td>296000</td>\n",
              "    </tr>\n",
              "    <tr>\n",
              "      <th>29493</th>\n",
              "      <td>2</td>\n",
              "      <td>2</td>\n",
              "      <td>1</td>\n",
              "      <td>0</td>\n",
              "      <td>1</td>\n",
              "      <td>197500</td>\n",
              "    </tr>\n",
              "    <tr>\n",
              "      <th>29500</th>\n",
              "      <td>2</td>\n",
              "      <td>2</td>\n",
              "      <td>2</td>\n",
              "      <td>0</td>\n",
              "      <td>1</td>\n",
              "      <td>155000</td>\n",
              "    </tr>\n",
              "    <tr>\n",
              "      <th>29509</th>\n",
              "      <td>4</td>\n",
              "      <td>2</td>\n",
              "      <td>4</td>\n",
              "      <td>1</td>\n",
              "      <td>0</td>\n",
              "      <td>689000</td>\n",
              "    </tr>\n",
              "    <tr>\n",
              "      <th>29552</th>\n",
              "      <td>2</td>\n",
              "      <td>2</td>\n",
              "      <td>4</td>\n",
              "      <td>0</td>\n",
              "      <td>1</td>\n",
              "      <td>320000</td>\n",
              "    </tr>\n",
              "  </tbody>\n",
              "</table>\n",
              "<p>645 rows × 6 columns</p>\n",
              "</div>"
            ],
            "text/plain": [
              "       num_of_beds estate_type  ... COLCHESTER  price_paid\n",
              "0                2           1  ...          0      222000\n",
              "4                4           2  ...          1      280000\n",
              "12               3           2  ...          1      225000\n",
              "40               3           2  ...          0      315000\n",
              "94               3           2  ...          0      355000\n",
              "...            ...         ...  ...        ...         ...\n",
              "29480            4           2  ...          1      296000\n",
              "29493            2           2  ...          1      197500\n",
              "29500            2           2  ...          1      155000\n",
              "29509            4           2  ...          0      689000\n",
              "29552            2           2  ...          1      320000\n",
              "\n",
              "[645 rows x 6 columns]"
            ]
          },
          "metadata": {
            "tags": []
          },
          "execution_count": 23
        }
      ]
    },
    {
      "cell_type": "code",
      "metadata": {
        "colab": {
          "base_uri": "https://localhost:8080/",
          "height": 419
        },
        "id": "lnGtBsiEhrGQ",
        "outputId": "27febc28-b122-4829-d96e-da7bcfcc9d66"
      },
      "source": [
        "#shuffle the dataset\n",
        "data_1 = data_1.sample(frac = 1)\n",
        "data_1"
      ],
      "execution_count": 24,
      "outputs": [
        {
          "output_type": "execute_result",
          "data": {
            "text/html": [
              "<div>\n",
              "<style scoped>\n",
              "    .dataframe tbody tr th:only-of-type {\n",
              "        vertical-align: middle;\n",
              "    }\n",
              "\n",
              "    .dataframe tbody tr th {\n",
              "        vertical-align: top;\n",
              "    }\n",
              "\n",
              "    .dataframe thead th {\n",
              "        text-align: right;\n",
              "    }\n",
              "</style>\n",
              "<table border=\"1\" class=\"dataframe\">\n",
              "  <thead>\n",
              "    <tr style=\"text-align: right;\">\n",
              "      <th></th>\n",
              "      <th>num_of_beds</th>\n",
              "      <th>estate_type</th>\n",
              "      <th>property_type</th>\n",
              "      <th>CHELMSFORD</th>\n",
              "      <th>COLCHESTER</th>\n",
              "      <th>price_paid</th>\n",
              "    </tr>\n",
              "  </thead>\n",
              "  <tbody>\n",
              "    <tr>\n",
              "      <th>2361</th>\n",
              "      <td>4</td>\n",
              "      <td>2</td>\n",
              "      <td>4</td>\n",
              "      <td>0</td>\n",
              "      <td>1</td>\n",
              "      <td>357000</td>\n",
              "    </tr>\n",
              "    <tr>\n",
              "      <th>25351</th>\n",
              "      <td>3</td>\n",
              "      <td>2</td>\n",
              "      <td>2</td>\n",
              "      <td>0</td>\n",
              "      <td>1</td>\n",
              "      <td>220000</td>\n",
              "    </tr>\n",
              "    <tr>\n",
              "      <th>16505</th>\n",
              "      <td>2</td>\n",
              "      <td>2</td>\n",
              "      <td>2</td>\n",
              "      <td>0</td>\n",
              "      <td>1</td>\n",
              "      <td>188000</td>\n",
              "    </tr>\n",
              "    <tr>\n",
              "      <th>11863</th>\n",
              "      <td>3</td>\n",
              "      <td>1</td>\n",
              "      <td>1</td>\n",
              "      <td>0</td>\n",
              "      <td>1</td>\n",
              "      <td>225000</td>\n",
              "    </tr>\n",
              "    <tr>\n",
              "      <th>11670</th>\n",
              "      <td>3</td>\n",
              "      <td>2</td>\n",
              "      <td>3</td>\n",
              "      <td>1</td>\n",
              "      <td>0</td>\n",
              "      <td>360000</td>\n",
              "    </tr>\n",
              "    <tr>\n",
              "      <th>...</th>\n",
              "      <td>...</td>\n",
              "      <td>...</td>\n",
              "      <td>...</td>\n",
              "      <td>...</td>\n",
              "      <td>...</td>\n",
              "      <td>...</td>\n",
              "    </tr>\n",
              "    <tr>\n",
              "      <th>15096</th>\n",
              "      <td>2</td>\n",
              "      <td>2</td>\n",
              "      <td>2</td>\n",
              "      <td>0</td>\n",
              "      <td>1</td>\n",
              "      <td>162000</td>\n",
              "    </tr>\n",
              "    <tr>\n",
              "      <th>5699</th>\n",
              "      <td>4</td>\n",
              "      <td>2</td>\n",
              "      <td>4</td>\n",
              "      <td>1</td>\n",
              "      <td>0</td>\n",
              "      <td>380000</td>\n",
              "    </tr>\n",
              "    <tr>\n",
              "      <th>2427</th>\n",
              "      <td>3</td>\n",
              "      <td>2</td>\n",
              "      <td>4</td>\n",
              "      <td>0</td>\n",
              "      <td>1</td>\n",
              "      <td>375000</td>\n",
              "    </tr>\n",
              "    <tr>\n",
              "      <th>5936</th>\n",
              "      <td>5</td>\n",
              "      <td>2</td>\n",
              "      <td>4</td>\n",
              "      <td>0</td>\n",
              "      <td>1</td>\n",
              "      <td>380000</td>\n",
              "    </tr>\n",
              "    <tr>\n",
              "      <th>19196</th>\n",
              "      <td>3</td>\n",
              "      <td>2</td>\n",
              "      <td>3</td>\n",
              "      <td>0</td>\n",
              "      <td>1</td>\n",
              "      <td>222500</td>\n",
              "    </tr>\n",
              "  </tbody>\n",
              "</table>\n",
              "<p>645 rows × 6 columns</p>\n",
              "</div>"
            ],
            "text/plain": [
              "       num_of_beds estate_type  ... COLCHESTER  price_paid\n",
              "2361             4           2  ...          1      357000\n",
              "25351            3           2  ...          1      220000\n",
              "16505            2           2  ...          1      188000\n",
              "11863            3           1  ...          1      225000\n",
              "11670            3           2  ...          0      360000\n",
              "...            ...         ...  ...        ...         ...\n",
              "15096            2           2  ...          1      162000\n",
              "5699             4           2  ...          0      380000\n",
              "2427             3           2  ...          1      375000\n",
              "5936             5           2  ...          1      380000\n",
              "19196            3           2  ...          1      222500\n",
              "\n",
              "[645 rows x 6 columns]"
            ]
          },
          "metadata": {
            "tags": []
          },
          "execution_count": 24
        }
      ]
    },
    {
      "cell_type": "code",
      "metadata": {
        "colab": {
          "base_uri": "https://localhost:8080/"
        },
        "id": "EF5Ndz2XhvEv",
        "outputId": "0c544952-1c9f-4c83-b13f-76366e0f147f"
      },
      "source": [
        "dataset = data_1.values\n",
        "dataset"
      ],
      "execution_count": 25,
      "outputs": [
        {
          "output_type": "execute_result",
          "data": {
            "text/plain": [
              "array([[4, '2', '4', 0, 1, 357000],\n",
              "       [3, '2', '2', 0, 1, 220000],\n",
              "       [2, '2', '2', 0, 1, 188000],\n",
              "       ...,\n",
              "       [3, '2', '4', 0, 1, 375000],\n",
              "       [5, '2', '4', 0, 1, 380000],\n",
              "       [3, '2', '3', 0, 1, 222500]], dtype=object)"
            ]
          },
          "metadata": {
            "tags": []
          },
          "execution_count": 25
        }
      ]
    },
    {
      "cell_type": "code",
      "metadata": {
        "colab": {
          "base_uri": "https://localhost:8080/"
        },
        "id": "cDuRE_5uiA8H",
        "outputId": "eb257310-0b9a-4f1a-be1a-121db2d05e93"
      },
      "source": [
        "X = dataset[:,0:5]\n",
        "Y = dataset[:,5]\n",
        "X\n",
        "Y"
      ],
      "execution_count": 26,
      "outputs": [
        {
          "output_type": "execute_result",
          "data": {
            "text/plain": [
              "array([357000, 220000, 188000, 225000, 360000, 610000, 360000, 167500,\n",
              "       166000, 415000, 132000, 214500, 131000, 505000, 600000, 185500,\n",
              "       298000, 240000, 325000, 350000, 189995, 270000, 410000, 475000,\n",
              "       242000, 205000, 240000, 208000, 840000, 130500, 257500, 310000,\n",
              "       865000, 374000, 431000, 125500, 179950, 468000, 370000, 221000,\n",
              "       205000, 235000, 247500, 375000, 210000, 380000, 235000, 205000,\n",
              "       265000, 358000, 370000, 425000, 155000, 234000, 275000, 303000,\n",
              "       282000, 247500, 330000, 278000, 442500, 320000, 480000, 517500,\n",
              "       840000, 377500, 159950, 142000, 410000, 240000, 390000, 200000,\n",
              "       176000, 360000, 395000, 301000, 497500, 240000, 346000, 760000,\n",
              "       440000, 280000, 400000, 320000, 325000, 600000, 225000, 250000,\n",
              "       212000, 305000, 317000, 290000, 543000, 290000, 451000, 590000,\n",
              "       200000, 280000, 560000, 315000, 205000, 143000, 180000, 360000,\n",
              "       275000, 560000, 300000, 485000, 250000, 225000, 140000, 200000,\n",
              "       265000, 360000, 249500, 420000, 152500, 195000, 550000, 995000,\n",
              "       425000, 165000, 407500, 565000, 203500, 153000, 400000, 350000,\n",
              "       392500, 230000, 360000, 154950, 320000, 455000, 665000, 135000,\n",
              "       215000, 335000, 189995, 325000, 530000, 162000, 222000, 340000,\n",
              "       390000, 195000, 430000, 615000, 257500, 395000, 810000, 390000,\n",
              "       350000, 227000, 380000, 365000, 410000, 520000, 245000, 280000,\n",
              "       415000, 310000, 400000, 140001, 215000, 300000, 370000, 380000,\n",
              "       447000, 620000, 295000, 350000, 290000, 467000, 225000, 175000,\n",
              "       275000, 136500, 460000, 330000, 150000, 284000, 220000, 152000,\n",
              "       431000, 137500, 627500, 123500, 253000, 296000, 105000, 200000,\n",
              "       216000, 280000, 272000, 274000, 225000, 350000, 330000, 630000,\n",
              "       400000, 245000, 417000, 315000, 310000, 725000, 455000, 400000,\n",
              "       450000, 345000, 232500, 510000, 557000, 207500, 310000, 212000,\n",
              "       325000, 325000, 185000, 197500, 343000, 185000, 298000, 302500,\n",
              "       370000, 263000, 237500, 487000, 170000, 300000, 308000, 290000,\n",
              "       200000, 340000, 178000, 335000, 500000, 142000, 343000, 200000,\n",
              "       560000, 320000, 175000, 1825000, 520000, 343000, 205000, 336500,\n",
              "       315000, 255000, 421000, 130000, 425000, 365000, 420000, 550000,\n",
              "       121000, 285000, 342000, 305000, 230000, 210000, 510000, 249500,\n",
              "       488000, 293000, 320000, 224000, 620000, 260000, 325000, 225000,\n",
              "       206500, 245000, 159000, 195000, 385000, 189950, 288000, 370000,\n",
              "       175000, 275000, 337000, 500000, 825000, 400000, 284000, 280000,\n",
              "       372500, 197500, 73500, 408000, 285000, 437500, 294000, 325000,\n",
              "       151000, 199500, 320000, 415000, 312000, 395000, 105250, 630000,\n",
              "       405000, 645000, 125000, 165000, 154950, 400000, 255000, 550000,\n",
              "       321000, 281100, 470000, 262500, 240000, 240000, 230000, 267500,\n",
              "       149000, 220000, 280000, 120000, 325000, 304000, 175000, 500000,\n",
              "       665000, 400000, 392000, 540000, 103000, 140000, 205000, 680000,\n",
              "       295000, 265000, 300000, 295000, 500000, 520000, 205000, 240000,\n",
              "       213500, 310000, 100000, 385000, 580000, 196292, 382500, 350000,\n",
              "       395000, 312500, 340000, 195000, 232000, 310000, 211000, 430000,\n",
              "       202500, 500000, 525000, 255000, 270000, 505000, 667000, 470000,\n",
              "       230000, 482000, 210000, 460000, 227000, 366000, 143000, 248000,\n",
              "       285000, 173000, 249000, 405000, 228000, 300000, 245000, 485000,\n",
              "       395000, 280000, 375000, 267500, 235000, 327000, 170000, 380000,\n",
              "       195000, 135000, 480000, 379000, 190000, 490000, 375000, 676000,\n",
              "       775000, 275000, 380000, 390000, 358000, 300000, 615000, 440000,\n",
              "       255000, 925000, 240000, 485000, 330000, 272500, 720000, 203000,\n",
              "       390000, 200000, 214000, 195000, 315000, 158000, 282500, 250000,\n",
              "       242000, 397500, 825000, 269000, 575000, 270000, 760000, 277500,\n",
              "       305000, 327500, 137500, 355000, 215000, 295000, 350000, 360000,\n",
              "       260000, 75000, 313000, 172500, 99500, 405000, 360000, 195000,\n",
              "       94500, 460000, 240000, 198000, 214000, 165000, 235000, 415000,\n",
              "       320000, 270000, 203000, 410000, 257500, 250000, 575000, 175000,\n",
              "       295000, 344500, 279000, 233000, 315000, 240000, 600000, 200000,\n",
              "       270000, 305000, 555000, 570000, 260000, 210000, 471000, 195000,\n",
              "       370000, 310000, 225000, 1300000, 334000, 347000, 675000, 130000,\n",
              "       200000, 345000, 187500, 300000, 285000, 375000, 320000, 534500,\n",
              "       395000, 311500, 335000, 487500, 335000, 257500, 975000, 240000,\n",
              "       181000, 495000, 480000, 489995, 455000, 276000, 235000, 360000,\n",
              "       125000, 300000, 115000, 237500, 280000, 323220, 510000, 280000,\n",
              "       368000, 380000, 250000, 357000, 240000, 670000, 96000, 280000,\n",
              "       236000, 375000, 255000, 1125000, 264000, 332500, 316500, 275000,\n",
              "       635000, 679000, 245000, 210000, 189950, 265000, 545000, 245000,\n",
              "       470000, 285000, 270000, 320000, 150500, 288000, 265000, 355500,\n",
              "       310000, 200000, 315000, 243000, 322500, 153000, 113500, 200000,\n",
              "       175000, 689000, 450000, 408000, 357000, 477000, 230000, 279000,\n",
              "       245000, 405000, 305000, 295000, 575000, 406500, 485000, 383500,\n",
              "       325000, 290000, 129995, 223000, 327500, 360000, 275000, 540000,\n",
              "       660000, 270000, 152000, 440000, 275000, 780000, 490000, 177500,\n",
              "       245000, 275000, 167500, 410000, 190000, 215000, 337000, 240000,\n",
              "       274000, 163000, 268000, 426000, 375000, 240000, 200000, 207500,\n",
              "       178500, 455000, 395000, 390000, 234000, 377500, 345000, 450000,\n",
              "       261000, 237000, 325000, 278000, 460000, 382500, 400000, 249000,\n",
              "       285000, 245000, 316000, 363000, 200000, 340000, 235000, 410000,\n",
              "       300000, 361000, 650000, 275000, 220600, 225000, 154950, 510000,\n",
              "       162000, 380000, 375000, 380000, 222500], dtype=object)"
            ]
          },
          "metadata": {
            "tags": []
          },
          "execution_count": 26
        }
      ]
    },
    {
      "cell_type": "code",
      "metadata": {
        "id": "tHpMoij6iE5X"
      },
      "source": [
        "from sklearn import preprocessing"
      ],
      "execution_count": 27,
      "outputs": []
    },
    {
      "cell_type": "code",
      "metadata": {
        "id": "LOZMAy82iIBu"
      },
      "source": [
        "min_max_scaler = preprocessing.MinMaxScaler()"
      ],
      "execution_count": 28,
      "outputs": []
    },
    {
      "cell_type": "code",
      "metadata": {
        "colab": {
          "base_uri": "https://localhost:8080/"
        },
        "id": "0W-KxqCziMbG",
        "outputId": "990de593-4632-4714-9904-a50961b67af2"
      },
      "source": [
        "X_scale = min_max_scaler.fit_transform(X)\n",
        "X_scale"
      ],
      "execution_count": 29,
      "outputs": [
        {
          "output_type": "execute_result",
          "data": {
            "text/plain": [
              "array([[0.5       , 1.        , 0.75      , 0.        , 1.        ],\n",
              "       [0.33333333, 1.        , 0.25      , 0.        , 1.        ],\n",
              "       [0.16666667, 1.        , 0.25      , 0.        , 1.        ],\n",
              "       ...,\n",
              "       [0.33333333, 1.        , 0.75      , 0.        , 1.        ],\n",
              "       [0.66666667, 1.        , 0.75      , 0.        , 1.        ],\n",
              "       [0.33333333, 1.        , 0.5       , 0.        , 1.        ]])"
            ]
          },
          "metadata": {
            "tags": []
          },
          "execution_count": 29
        }
      ]
    },
    {
      "cell_type": "code",
      "metadata": {
        "colab": {
          "base_uri": "https://localhost:8080/"
        },
        "id": "k2WwzDfuv75i",
        "outputId": "7191a920-cfab-4555-c3ab-fc2f4290efb9"
      },
      "source": [
        "\n",
        "print(min(Y))\n",
        "print(max(Y))"
      ],
      "execution_count": 47,
      "outputs": [
        {
          "output_type": "stream",
          "text": [
            "73500\n",
            "1825000\n"
          ],
          "name": "stdout"
        }
      ]
    },
    {
      "cell_type": "code",
      "metadata": {
        "id": "Y4XPAwv-iV81"
      },
      "source": [
        "from sklearn.model_selection import train_test_split"
      ],
      "execution_count": 31,
      "outputs": []
    },
    {
      "cell_type": "code",
      "metadata": {
        "id": "233fPbnpiZwN"
      },
      "source": [
        "X_train, X_test, Y_train, Y_test = train_test_split(X_scale, Y, test_size=0.3)"
      ],
      "execution_count": 32,
      "outputs": []
    },
    {
      "cell_type": "code",
      "metadata": {
        "colab": {
          "base_uri": "https://localhost:8080/"
        },
        "id": "owC2HukOiigt",
        "outputId": "0cb75bd6-f939-4200-df53-9bded7d6a971"
      },
      "source": [
        "print(X_train.shape, X_test.shape, Y_train.shape, Y_test.shape)"
      ],
      "execution_count": 33,
      "outputs": [
        {
          "output_type": "stream",
          "text": [
            "(451, 5) (194, 5) (451,) (194,)\n"
          ],
          "name": "stdout"
        }
      ]
    },
    {
      "cell_type": "code",
      "metadata": {
        "id": "c5C8I58mir8N"
      },
      "source": [
        "from sklearn.ensemble import RandomForestRegressor"
      ],
      "execution_count": 34,
      "outputs": []
    },
    {
      "cell_type": "code",
      "metadata": {
        "colab": {
          "base_uri": "https://localhost:8080/"
        },
        "id": "FNVZrVL9i1j9",
        "outputId": "aa0c9df4-895b-4963-fe12-976e6474d860"
      },
      "source": [
        "regr = RandomForestRegressor(max_depth=3, random_state=0)\n",
        "regr.fit(X_train, Y_train)"
      ],
      "execution_count": 35,
      "outputs": [
        {
          "output_type": "execute_result",
          "data": {
            "text/plain": [
              "RandomForestRegressor(bootstrap=True, ccp_alpha=0.0, criterion='mse',\n",
              "                      max_depth=3, max_features='auto', max_leaf_nodes=None,\n",
              "                      max_samples=None, min_impurity_decrease=0.0,\n",
              "                      min_impurity_split=None, min_samples_leaf=1,\n",
              "                      min_samples_split=2, min_weight_fraction_leaf=0.0,\n",
              "                      n_estimators=100, n_jobs=None, oob_score=False,\n",
              "                      random_state=0, verbose=0, warm_start=False)"
            ]
          },
          "metadata": {
            "tags": []
          },
          "execution_count": 35
        }
      ]
    },
    {
      "cell_type": "code",
      "metadata": {
        "colab": {
          "base_uri": "https://localhost:8080/"
        },
        "id": "-UdVuZhekpiT",
        "outputId": "f1f8fec8-c9a9-4e9b-a211-47173d938e21"
      },
      "source": [
        "prediction=regr.predict(X_test)\n",
        "print(prediction)"
      ],
      "execution_count": 36,
      "outputs": [
        {
          "output_type": "stream",
          "text": [
            "[ 259210.34134836  278273.3973012   278273.3973012   477740.56250323\n",
            "  214420.97803573  549705.81966322  200477.2166954   221167.22920128\n",
            "  465084.43228284  295264.46590869  299981.47243396  259210.34134836\n",
            "  259210.34134836  324718.59614495  385641.27221429  567404.52747795\n",
            "  174721.879576    323165.65600688  385641.27221429  364573.55217864\n",
            "  323165.65600688  295264.46590869  549705.81966322  200477.2166954\n",
            "  385641.27221429  299981.47243396  385641.27221429  278273.3973012\n",
            "  259210.34134836  385641.27221429  261906.39939338  278273.3973012\n",
            "  324718.59614495  174721.879576    465084.43228284  549705.81966322\n",
            "  474731.02176269  465084.43228284  246729.3075474   364573.55217864\n",
            "  278273.3973012   465084.43228284  191458.10260242  549705.81966322\n",
            "  549705.81966322  200477.2166954   549705.81966322  364573.55217864\n",
            "  323165.65600688  183740.99366898  299981.47243396  324718.59614495\n",
            "  465084.43228284  295264.46590869  259210.34134836  324718.59614495\n",
            "  323165.65600688  200477.2166954   221167.22920128  364573.55217864\n",
            "  295264.46590869  346051.01679137  364114.76501019  710702.65105505\n",
            "  465084.43228284  278273.3973012   567404.52747795  319376.67476443\n",
            "  364114.76501019  451330.58911521  209346.02835377  385641.27221429\n",
            "  183740.99366898  278273.3973012   174721.879576    549705.81966322\n",
            "  200477.2166954   324718.59614495  364573.55217864  549705.81966322\n",
            " 1246618.85953192  401200.13788694  474731.02176269  474731.02176269\n",
            "  469688.44416835  259210.34134836  474731.02176269  259210.34134836\n",
            "  459382.70745008  323165.65600688  323165.65600688  200477.2166954\n",
            "  364114.76501019  221167.22920128  364573.55217864  469688.44416835\n",
            "  549705.81966322  174721.879576    299981.47243396  364114.76501019\n",
            "  469688.44416835  324718.59614495  364573.55217864  183740.99366898\n",
            "  233587.78238635  549705.81966322  364114.76501019  469688.44416835\n",
            "  174721.879576    324718.59614495  279743.52115294  200477.2166954\n",
            "  469688.44416835  364573.55217864  323165.65600688  278273.3973012\n",
            "  191458.10260242  549705.81966322  233587.78238635  221167.22920128\n",
            "  191458.10260242  364573.55217864  174721.879576    465084.43228284\n",
            "  323165.65600688  474731.02176269  364573.55217864  204431.00617485\n",
            "  364573.55217864  319376.67476443  221167.22920128  549705.81966322\n",
            "  465084.43228284  295264.46590869  221167.22920128  174721.879576\n",
            "  183740.99366898  323165.65600688  299981.47243396  221167.22920128\n",
            "  324718.59614495  278273.3973012   200477.2166954   465084.43228284\n",
            "  278273.3973012   364573.55217864  323165.65600688  299981.47243396\n",
            "  549705.81966322  183740.99366898  364573.55217864  323165.65600688\n",
            "  278273.3973012   323165.65600688  259210.34134836  259210.34134836\n",
            "  385641.27221429  549705.81966322  549705.81966322  278273.3973012\n",
            "  200477.2166954   233587.78238635  233587.78238635  324718.59614495\n",
            "  324718.59614495  549705.81966322  278273.3973012   295264.46590869\n",
            "  549705.81966322  549705.81966322  183740.99366898  279743.52115294\n",
            "  174721.879576    549705.81966322  324718.59614495  474731.02176269\n",
            "  324718.59614495  278273.3973012   323165.65600688  324718.59614495\n",
            "  259210.34134836  191458.10260242  465084.43228284  278273.3973012\n",
            "  549705.81966322  324718.59614495  174721.879576    465084.43228284\n",
            "  278273.3973012   299981.47243396  183740.99366898  465084.43228284\n",
            "  278273.3973012   203279.30344993]\n"
          ],
          "name": "stdout"
        }
      ]
    },
    {
      "cell_type": "code",
      "metadata": {
        "colab": {
          "base_uri": "https://localhost:8080/",
          "height": 419
        },
        "id": "hXuOkpGTms_b",
        "outputId": "a2d77e24-539e-4bcc-e038-2f1edb66c3f4"
      },
      "source": [
        "#dt_test=data=pd.DataFrame(prediction,columns=['Prediction'])\n",
        "#dt_test\n",
        "\n",
        "prediction_df = pd.DataFrame(X_test)\n",
        "prediction_df['Y'] = Y_test\n",
        "prediction_df['predictions'] = prediction\n",
        "#prediction_df['predictions']=prediction_df['predictions'].round(decimals=0)\n",
        "prediction_df['error']=prediction_df['Y']-prediction_df['predictions']\n",
        "prediction_df['sq_error']=pow((prediction_df['Y']-prediction_df['predictions']),2)\n",
        "prediction_df"
      ],
      "execution_count": 37,
      "outputs": [
        {
          "output_type": "execute_result",
          "data": {
            "text/html": [
              "<div>\n",
              "<style scoped>\n",
              "    .dataframe tbody tr th:only-of-type {\n",
              "        vertical-align: middle;\n",
              "    }\n",
              "\n",
              "    .dataframe tbody tr th {\n",
              "        vertical-align: top;\n",
              "    }\n",
              "\n",
              "    .dataframe thead th {\n",
              "        text-align: right;\n",
              "    }\n",
              "</style>\n",
              "<table border=\"1\" class=\"dataframe\">\n",
              "  <thead>\n",
              "    <tr style=\"text-align: right;\">\n",
              "      <th></th>\n",
              "      <th>0</th>\n",
              "      <th>1</th>\n",
              "      <th>2</th>\n",
              "      <th>3</th>\n",
              "      <th>4</th>\n",
              "      <th>Y</th>\n",
              "      <th>predictions</th>\n",
              "      <th>error</th>\n",
              "      <th>sq_error</th>\n",
              "    </tr>\n",
              "  </thead>\n",
              "  <tbody>\n",
              "    <tr>\n",
              "      <th>0</th>\n",
              "      <td>0.166667</td>\n",
              "      <td>1.0</td>\n",
              "      <td>0.50</td>\n",
              "      <td>0.0</td>\n",
              "      <td>1.0</td>\n",
              "      <td>224000</td>\n",
              "      <td>259210.341348</td>\n",
              "      <td>-35210.3</td>\n",
              "      <td>1.23977e+09</td>\n",
              "    </tr>\n",
              "    <tr>\n",
              "      <th>1</th>\n",
              "      <td>0.333333</td>\n",
              "      <td>1.0</td>\n",
              "      <td>0.25</td>\n",
              "      <td>0.0</td>\n",
              "      <td>1.0</td>\n",
              "      <td>200000</td>\n",
              "      <td>278273.397301</td>\n",
              "      <td>-78273.4</td>\n",
              "      <td>6.12672e+09</td>\n",
              "    </tr>\n",
              "    <tr>\n",
              "      <th>2</th>\n",
              "      <td>0.333333</td>\n",
              "      <td>1.0</td>\n",
              "      <td>0.25</td>\n",
              "      <td>0.0</td>\n",
              "      <td>1.0</td>\n",
              "      <td>234000</td>\n",
              "      <td>278273.397301</td>\n",
              "      <td>-44273.4</td>\n",
              "      <td>1.96013e+09</td>\n",
              "    </tr>\n",
              "    <tr>\n",
              "      <th>3</th>\n",
              "      <td>0.666667</td>\n",
              "      <td>1.0</td>\n",
              "      <td>0.50</td>\n",
              "      <td>1.0</td>\n",
              "      <td>0.0</td>\n",
              "      <td>370000</td>\n",
              "      <td>477740.562503</td>\n",
              "      <td>-107741</td>\n",
              "      <td>1.1608e+10</td>\n",
              "    </tr>\n",
              "    <tr>\n",
              "      <th>4</th>\n",
              "      <td>0.166667</td>\n",
              "      <td>0.0</td>\n",
              "      <td>0.25</td>\n",
              "      <td>1.0</td>\n",
              "      <td>0.0</td>\n",
              "      <td>200000</td>\n",
              "      <td>214420.978036</td>\n",
              "      <td>-14421</td>\n",
              "      <td>2.07965e+08</td>\n",
              "    </tr>\n",
              "    <tr>\n",
              "      <th>...</th>\n",
              "      <td>...</td>\n",
              "      <td>...</td>\n",
              "      <td>...</td>\n",
              "      <td>...</td>\n",
              "      <td>...</td>\n",
              "      <td>...</td>\n",
              "      <td>...</td>\n",
              "      <td>...</td>\n",
              "      <td>...</td>\n",
              "    </tr>\n",
              "    <tr>\n",
              "      <th>189</th>\n",
              "      <td>0.333333</td>\n",
              "      <td>1.0</td>\n",
              "      <td>0.50</td>\n",
              "      <td>0.0</td>\n",
              "      <td>1.0</td>\n",
              "      <td>275000</td>\n",
              "      <td>299981.472434</td>\n",
              "      <td>-24981.5</td>\n",
              "      <td>6.24074e+08</td>\n",
              "    </tr>\n",
              "    <tr>\n",
              "      <th>190</th>\n",
              "      <td>0.000000</td>\n",
              "      <td>0.0</td>\n",
              "      <td>0.00</td>\n",
              "      <td>1.0</td>\n",
              "      <td>0.0</td>\n",
              "      <td>105000</td>\n",
              "      <td>183740.993669</td>\n",
              "      <td>-78741</td>\n",
              "      <td>6.20014e+09</td>\n",
              "    </tr>\n",
              "    <tr>\n",
              "      <th>191</th>\n",
              "      <td>0.500000</td>\n",
              "      <td>1.0</td>\n",
              "      <td>0.75</td>\n",
              "      <td>0.0</td>\n",
              "      <td>1.0</td>\n",
              "      <td>447000</td>\n",
              "      <td>465084.432283</td>\n",
              "      <td>-18084.4</td>\n",
              "      <td>3.27047e+08</td>\n",
              "    </tr>\n",
              "    <tr>\n",
              "      <th>192</th>\n",
              "      <td>0.333333</td>\n",
              "      <td>1.0</td>\n",
              "      <td>0.25</td>\n",
              "      <td>0.0</td>\n",
              "      <td>1.0</td>\n",
              "      <td>269000</td>\n",
              "      <td>278273.397301</td>\n",
              "      <td>-9273.4</td>\n",
              "      <td>8.59959e+07</td>\n",
              "    </tr>\n",
              "    <tr>\n",
              "      <th>193</th>\n",
              "      <td>0.166667</td>\n",
              "      <td>0.0</td>\n",
              "      <td>0.25</td>\n",
              "      <td>0.0</td>\n",
              "      <td>1.0</td>\n",
              "      <td>140001</td>\n",
              "      <td>203279.303450</td>\n",
              "      <td>-63278.3</td>\n",
              "      <td>4.00414e+09</td>\n",
              "    </tr>\n",
              "  </tbody>\n",
              "</table>\n",
              "<p>194 rows × 9 columns</p>\n",
              "</div>"
            ],
            "text/plain": [
              "            0    1     2    3    4       Y    predictions    error     sq_error\n",
              "0    0.166667  1.0  0.50  0.0  1.0  224000  259210.341348 -35210.3  1.23977e+09\n",
              "1    0.333333  1.0  0.25  0.0  1.0  200000  278273.397301 -78273.4  6.12672e+09\n",
              "2    0.333333  1.0  0.25  0.0  1.0  234000  278273.397301 -44273.4  1.96013e+09\n",
              "3    0.666667  1.0  0.50  1.0  0.0  370000  477740.562503  -107741   1.1608e+10\n",
              "4    0.166667  0.0  0.25  1.0  0.0  200000  214420.978036   -14421  2.07965e+08\n",
              "..        ...  ...   ...  ...  ...     ...            ...      ...          ...\n",
              "189  0.333333  1.0  0.50  0.0  1.0  275000  299981.472434 -24981.5  6.24074e+08\n",
              "190  0.000000  0.0  0.00  1.0  0.0  105000  183740.993669   -78741  6.20014e+09\n",
              "191  0.500000  1.0  0.75  0.0  1.0  447000  465084.432283 -18084.4  3.27047e+08\n",
              "192  0.333333  1.0  0.25  0.0  1.0  269000  278273.397301  -9273.4  8.59959e+07\n",
              "193  0.166667  0.0  0.25  0.0  1.0  140001  203279.303450 -63278.3  4.00414e+09\n",
              "\n",
              "[194 rows x 9 columns]"
            ]
          },
          "metadata": {
            "tags": []
          },
          "execution_count": 37
        }
      ]
    },
    {
      "cell_type": "code",
      "metadata": {
        "colab": {
          "base_uri": "https://localhost:8080/"
        },
        "id": "UFM58I1Gm8LS",
        "outputId": "e519a7fa-f708-42e2-c94d-8537d54942fb"
      },
      "source": [
        "root_mse=pow(prediction_df['sq_error'].sum()/prediction_df['sq_error'].count(),0.5)\n",
        "root_mse"
      ],
      "execution_count": 38,
      "outputs": [
        {
          "output_type": "execute_result",
          "data": {
            "text/plain": [
              "105671.21228010663"
            ]
          },
          "metadata": {
            "tags": []
          },
          "execution_count": 38
        }
      ]
    },
    {
      "cell_type": "code",
      "metadata": {
        "id": "qLSqfTMnmgBd"
      },
      "source": [
        "import matplotlib.pyplot as plt"
      ],
      "execution_count": 39,
      "outputs": []
    },
    {
      "cell_type": "code",
      "metadata": {
        "id": "L9w67OwgLk0F"
      },
      "source": [
        "import numpy as np"
      ],
      "execution_count": 40,
      "outputs": []
    },
    {
      "cell_type": "code",
      "metadata": {
        "colab": {
          "base_uri": "https://localhost:8080/",
          "height": 278
        },
        "id": "of-RzBUQmQTi",
        "outputId": "9b238934-194e-46d5-904f-94ed00191c73"
      },
      "source": [
        "plt.figure()\n",
        "plt.plot(prediction, 'r^', label='RandomForestRegressor')\n",
        "plt.plot(Y_test, 'v', label='Y test')\n",
        "plt.tick_params(axis='x', which='both', bottom=False, top=False,\n",
        "                labelbottom=False)\n",
        "plt.ylabel('predicted vs Y_test')\n",
        "plt.xlabel('items')\n",
        "plt.legend(loc=\"best\")\n",
        "plt.title('Regressor prediction')\n",
        "\n",
        "plt.show()"
      ],
      "execution_count": 41,
      "outputs": [
        {
          "output_type": "display_data",
          "data": {
            "image/png": "[encoded data removed]",
            "text/plain": [
              "<Figure size 432x288 with 1 Axes>"
            ]
          },
          "metadata": {
            "tags": [],
            "needs_background": "light"
          }
        }
      ]
    },
    {
      "cell_type": "code",
      "metadata": {
        "colab": {
          "base_uri": "https://localhost:8080/",
          "height": 442
        },
        "id": "gyonM3dILePO",
        "outputId": "0108817a-d976-43c8-a98a-4f7e2fb62a49"
      },
      "source": [
        "a= plt.figure()\n",
        "axes= a.add_axes([0,0,6,2])#sequence of [left, bottom, width, height] quantities.\n",
        "#axes= a.add_axes([0.2,0.2,8,8])\n",
        "# adding axes\n",
        "#x= np.arange(0,11)\n",
        "#axes.plot(prediction, marker='*')\n",
        "y = np.array([100000, 200000, 300000, 400000, 500000, 600000,700000,800000, 900000])\n",
        "plt.yticks(np.arange(y.min(), y.max(), 50000))\n",
        "\n",
        "axes.plot(prediction, 'r^', label='RandomForestRegressor',markersize=12)\n",
        "axes.plot(Y_test, 'v', label='Y test',markersize=12)\n",
        "axes.set_xlim([0,80])\n",
        "plt.tick_params(axis='x', which='both', bottom=False, top=False,\n",
        "                labelbottom=False)\n",
        "plt.ylabel('predicted vs Y_test', fontsize=18)\n",
        "plt.xlabel('items', fontsize=18)\n",
        "plt.legend(loc=\"best\",prop={'size': 16})\n",
        "plt.title('Regressor prediction', fontsize=18)\n",
        "\n",
        "plt.show()"
      ],
      "execution_count": 50,
      "outputs": [
        {
          "output_type": "display_data",
          "data": {
            "image/png": "[encoded data removed]",
            "text/plain": [
              "<Figure size 432x288 with 1 Axes>"
            ]
          },
          "metadata": {
            "tags": [],
            "needs_background": "light"
          }
        }
      ]
    },
    {
      "cell_type": "code",
      "metadata": {
        "id": "5JWMGwtXn1uZ"
      },
      "source": [
        "from sklearn import metrics\n",
        "from sklearn.metrics import mean_squared_error"
      ],
      "execution_count": 138,
      "outputs": []
    },
    {
      "cell_type": "code",
      "metadata": {
        "colab": {
          "base_uri": "https://localhost:8080/"
        },
        "id": "iHyTuhMrpmeX",
        "outputId": "166f2991-a774-4fd8-d135-0bb806ce9c6b"
      },
      "source": [
        "mean_squared_error=metrics.mean_squared_error(prediction,Y_test)\n",
        "mean_squared_error\n",
        "root_mse2=pow(mean_squared_error,0.5)\n",
        "root_mse2"
      ],
      "execution_count": 139,
      "outputs": [
        {
          "output_type": "execute_result",
          "data": {
            "text/plain": [
              "119149.96133982802"
            ]
          },
          "metadata": {
            "tags": []
          },
          "execution_count": 139
        }
      ]
    }
  ]
}
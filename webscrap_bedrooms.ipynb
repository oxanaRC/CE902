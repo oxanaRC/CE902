{
  "nbformat": 4,
  "nbformat_minor": 0,
  "metadata": {
    "colab": {
      "name": "webscrap bedrooms.ipynb",
      "provenance": [],
      "collapsed_sections": [],
      "machine_shape": "hm",
      "authorship_tag": "ABX9TyPN6Dv8RR6/iTHza6jjo+TL",
      "include_colab_link": true
    },
    "kernelspec": {
      "name": "python3",
      "display_name": "Python 3"
    },
    "language_info": {
      "name": "python"
    },
    "accelerator": "TPU"
  },
  "cells": [
    {
      "cell_type": "markdown",
      "metadata": {
        "id": "view-in-github",
        "colab_type": "text"
      },
      "source": [
        "<a href=\"https://colab.research.google.com/github/oxanaRC/CE902/blob/main/webscrap_bedrooms.ipynb\" target=\"_parent\"><img src=\"https://colab.research.google.com/assets/colab-badge.svg\" alt=\"Open In Colab\"/></a>"
      ]
    },
    {
      "cell_type": "code",
      "metadata": {
        "colab": {
          "resources": {
            "http://localhost:8080/nbextensions/google.colab/files.js": {
              "data": "Ly8gQ29weXJpZ2h0IDIwMTcgR29vZ2xlIExMQwovLwovLyBMaWNlbnNlZCB1bmRlciB0aGUgQXBhY2hlIExpY2Vuc2UsIFZlcnNpb24gMi4wICh0aGUgIkxpY2Vuc2UiKTsKLy8geW91IG1heSBub3QgdXNlIHRoaXMgZmlsZSBleGNlcHQgaW4gY29tcGxpYW5jZSB3aXRoIHRoZSBMaWNlbnNlLgovLyBZb3UgbWF5IG9idGFpbiBhIGNvcHkgb2YgdGhlIExpY2Vuc2UgYXQKLy8KLy8gICAgICBodHRwOi8vd3d3LmFwYWNoZS5vcmcvbGljZW5zZXMvTElDRU5TRS0yLjAKLy8KLy8gVW5sZXNzIHJlcXVpcmVkIGJ5IGFwcGxpY2FibGUgbGF3IG9yIGFncmVlZCB0byBpbiB3cml0aW5nLCBzb2Z0d2FyZQovLyBkaXN0cmlidXRlZCB1bmRlciB0aGUgTGljZW5zZSBpcyBkaXN0cmlidXRlZCBvbiBhbiAiQVMgSVMiIEJBU0lTLAovLyBXSVRIT1VUIFdBUlJBTlRJRVMgT1IgQ09ORElUSU9OUyBPRiBBTlkgS0lORCwgZWl0aGVyIGV4cHJlc3Mgb3IgaW1wbGllZC4KLy8gU2VlIHRoZSBMaWNlbnNlIGZvciB0aGUgc3BlY2lmaWMgbGFuZ3VhZ2UgZ292ZXJuaW5nIHBlcm1pc3Npb25zIGFuZAovLyBsaW1pdGF0aW9ucyB1bmRlciB0aGUgTGljZW5zZS4KCi8qKgogKiBAZmlsZW92ZXJ2aWV3IEhlbHBlcnMgZm9yIGdvb2dsZS5jb2xhYiBQeXRob24gbW9kdWxlLgogKi8KKGZ1bmN0aW9uKHNjb3BlKSB7CmZ1bmN0aW9uIHNwYW4odGV4dCwgc3R5bGVBdHRyaWJ1dGVzID0ge30pIHsKICBjb25zdCBlbGVtZW50ID0gZG9jdW1lbnQuY3JlYXRlRWxlbWVudCgnc3BhbicpOwogIGVsZW1lbnQudGV4dENvbnRlbnQgPSB0ZXh0OwogIGZvciAoY29uc3Qga2V5IG9mIE9iamVjdC5rZXlzKHN0eWxlQXR0cmlidXRlcykpIHsKICAgIGVsZW1lbnQuc3R5bGVba2V5XSA9IHN0eWxlQXR0cmlidXRlc1trZXldOwogIH0KICByZXR1cm4gZWxlbWVudDsKfQoKLy8gTWF4IG51bWJlciBvZiBieXRlcyB3aGljaCB3aWxsIGJlIHVwbG9hZGVkIGF0IGEgdGltZS4KY29uc3QgTUFYX1BBWUxPQURfU0laRSA9IDEwMCAqIDEwMjQ7CgpmdW5jdGlvbiBfdXBsb2FkRmlsZXMoaW5wdXRJZCwgb3V0cHV0SWQpIHsKICBjb25zdCBzdGVwcyA9IHVwbG9hZEZpbGVzU3RlcChpbnB1dElkLCBvdXRwdXRJZCk7CiAgY29uc3Qgb3V0cHV0RWxlbWVudCA9IGRvY3VtZW50LmdldEVsZW1lbnRCeUlkKG91dHB1dElkKTsKICAvLyBDYWNoZSBzdGVwcyBvbiB0aGUgb3V0cHV0RWxlbWVudCB0byBtYWtlIGl0IGF2YWlsYWJsZSBmb3IgdGhlIG5leHQgY2FsbAogIC8vIHRvIHVwbG9hZEZpbGVzQ29udGludWUgZnJvbSBQeXRob24uCiAgb3V0cHV0RWxlbWVudC5zdGVwcyA9IHN0ZXBzOwoKICByZXR1cm4gX3VwbG9hZEZpbGVzQ29udGludWUob3V0cHV0SWQpOwp9CgovLyBUaGlzIGlzIHJvdWdobHkgYW4gYXN5bmMgZ2VuZXJhdG9yIChub3Qgc3VwcG9ydGVkIGluIHRoZSBicm93c2VyIHlldCksCi8vIHdoZXJlIHRoZXJlIGFyZSBtdWx0aXBsZSBhc3luY2hyb25vdXMgc3RlcHMgYW5kIHRoZSBQeXRob24gc2lkZSBpcyBnb2luZwovLyB0byBwb2xsIGZvciBjb21wbGV0aW9uIG9mIGVhY2ggc3RlcC4KLy8gVGhpcyB1c2VzIGEgUHJvbWlzZSB0byBibG9jayB0aGUgcHl0aG9uIHNpZGUgb24gY29tcGxldGlvbiBvZiBlYWNoIHN0ZXAsCi8vIHRoZW4gcGFzc2VzIHRoZSByZXN1bHQgb2YgdGhlIHByZXZpb3VzIHN0ZXAgYXMgdGhlIGlucHV0IHRvIHRoZSBuZXh0IHN0ZXAuCmZ1bmN0aW9uIF91cGxvYWRGaWxlc0NvbnRpbnVlKG91dHB1dElkKSB7CiAgY29uc3Qgb3V0cHV0RWxlbWVudCA9IGRvY3VtZW50LmdldEVsZW1lbnRCeUlkKG91dHB1dElkKTsKICBjb25zdCBzdGVwcyA9IG91dHB1dEVsZW1lbnQuc3RlcHM7CgogIGNvbnN0IG5leHQgPSBzdGVwcy5uZXh0KG91dHB1dEVsZW1lbnQubGFzdFByb21pc2VWYWx1ZSk7CiAgcmV0dXJuIFByb21pc2UucmVzb2x2ZShuZXh0LnZhbHVlLnByb21pc2UpLnRoZW4oKHZhbHVlKSA9PiB7CiAgICAvLyBDYWNoZSB0aGUgbGFzdCBwcm9taXNlIHZhbHVlIHRvIG1ha2UgaXQgYXZhaWxhYmxlIHRvIHRoZSBuZXh0CiAgICAvLyBzdGVwIG9mIHRoZSBnZW5lcmF0b3IuCiAgICBvdXRwdXRFbGVtZW50Lmxhc3RQcm9taXNlVmFsdWUgPSB2YWx1ZTsKICAgIHJldHVybiBuZXh0LnZhbHVlLnJlc3BvbnNlOwogIH0pOwp9CgovKioKICogR2VuZXJhdG9yIGZ1bmN0aW9uIHdoaWNoIGlzIGNhbGxlZCBiZXR3ZWVuIGVhY2ggYXN5bmMgc3RlcCBvZiB0aGUgdXBsb2FkCiAqIHByb2Nlc3MuCiAqIEBwYXJhbSB7c3RyaW5nfSBpbnB1dElkIEVsZW1lbnQgSUQgb2YgdGhlIGlucHV0IGZpbGUgcGlja2VyIGVsZW1lbnQuCiAqIEBwYXJhbSB7c3RyaW5nfSBvdXRwdXRJZCBFbGVtZW50IElEIG9mIHRoZSBvdXRwdXQgZGlzcGxheS4KICogQHJldHVybiB7IUl0ZXJhYmxlPCFPYmplY3Q+fSBJdGVyYWJsZSBvZiBuZXh0IHN0ZXBzLgogKi8KZnVuY3Rpb24qIHVwbG9hZEZpbGVzU3RlcChpbnB1dElkLCBvdXRwdXRJZCkgewogIGNvbnN0IGlucHV0RWxlbWVudCA9IGRvY3VtZW50LmdldEVsZW1lbnRCeUlkKGlucHV0SWQpOwogIGlucHV0RWxlbWVudC5kaXNhYmxlZCA9IGZhbHNlOwoKICBjb25zdCBvdXRwdXRFbGVtZW50ID0gZG9jdW1lbnQuZ2V0RWxlbWVudEJ5SWQob3V0cHV0SWQpOwogIG91dHB1dEVsZW1lbnQuaW5uZXJIVE1MID0gJyc7CgogIGNvbnN0IHBpY2tlZFByb21pc2UgPSBuZXcgUHJvbWlzZSgocmVzb2x2ZSkgPT4gewogICAgaW5wdXRFbGVtZW50LmFkZEV2ZW50TGlzdGVuZXIoJ2NoYW5nZScsIChlKSA9PiB7CiAgICAgIHJlc29sdmUoZS50YXJnZXQuZmlsZXMpOwogICAgfSk7CiAgfSk7CgogIGNvbnN0IGNhbmNlbCA9IGRvY3VtZW50LmNyZWF0ZUVsZW1lbnQoJ2J1dHRvbicpOwogIGlucHV0RWxlbWVudC5wYXJlbnRFbGVtZW50LmFwcGVuZENoaWxkKGNhbmNlbCk7CiAgY2FuY2VsLnRleHRDb250ZW50ID0gJ0NhbmNlbCB1cGxvYWQnOwogIGNvbnN0IGNhbmNlbFByb21pc2UgPSBuZXcgUHJvbWlzZSgocmVzb2x2ZSkgPT4gewogICAgY2FuY2VsLm9uY2xpY2sgPSAoKSA9PiB7CiAgICAgIHJlc29sdmUobnVsbCk7CiAgICB9OwogIH0pOwoKICAvLyBXYWl0IGZvciB0aGUgdXNlciB0byBwaWNrIHRoZSBmaWxlcy4KICBjb25zdCBmaWxlcyA9IHlpZWxkIHsKICAgIHByb21pc2U6IFByb21pc2UucmFjZShbcGlja2VkUHJvbWlzZSwgY2FuY2VsUHJvbWlzZV0pLAogICAgcmVzcG9uc2U6IHsKICAgICAgYWN0aW9uOiAnc3RhcnRpbmcnLAogICAgfQogIH07CgogIGNhbmNlbC5yZW1vdmUoKTsKCiAgLy8gRGlzYWJsZSB0aGUgaW5wdXQgZWxlbWVudCBzaW5jZSBmdXJ0aGVyIHBpY2tzIGFyZSBub3QgYWxsb3dlZC4KICBpbnB1dEVsZW1lbnQuZGlzYWJsZWQgPSB0cnVlOwoKICBpZiAoIWZpbGVzKSB7CiAgICByZXR1cm4gewogICAgICByZXNwb25zZTogewogICAgICAgIGFjdGlvbjogJ2NvbXBsZXRlJywKICAgICAgfQogICAgfTsKICB9CgogIGZvciAoY29uc3QgZmlsZSBvZiBmaWxlcykgewogICAgY29uc3QgbGkgPSBkb2N1bWVudC5jcmVhdGVFbGVtZW50KCdsaScpOwogICAgbGkuYXBwZW5kKHNwYW4oZmlsZS5uYW1lLCB7Zm9udFdlaWdodDogJ2JvbGQnfSkpOwogICAgbGkuYXBwZW5kKHNwYW4oCiAgICAgICAgYCgke2ZpbGUudHlwZSB8fCAnbi9hJ30pIC0gJHtmaWxlLnNpemV9IGJ5dGVzLCBgICsKICAgICAgICBgbGFzdCBtb2RpZmllZDogJHsKICAgICAgICAgICAgZmlsZS5sYXN0TW9kaWZpZWREYXRlID8gZmlsZS5sYXN0TW9kaWZpZWREYXRlLnRvTG9jYWxlRGF0ZVN0cmluZygpIDoKICAgICAgICAgICAgICAgICAgICAgICAgICAgICAgICAgICAgJ24vYSd9IC0gYCkpOwogICAgY29uc3QgcGVyY2VudCA9IHNwYW4oJzAlIGRvbmUnKTsKICAgIGxpLmFwcGVuZENoaWxkKHBlcmNlbnQpOwoKICAgIG91dHB1dEVsZW1lbnQuYXBwZW5kQ2hpbGQobGkpOwoKICAgIGNvbnN0IGZpbGVEYXRhUHJvbWlzZSA9IG5ldyBQcm9taXNlKChyZXNvbHZlKSA9PiB7CiAgICAgIGNvbnN0IHJlYWRlciA9IG5ldyBGaWxlUmVhZGVyKCk7CiAgICAgIHJlYWRlci5vbmxvYWQgPSAoZSkgPT4gewogICAgICAgIHJlc29sdmUoZS50YXJnZXQucmVzdWx0KTsKICAgICAgfTsKICAgICAgcmVhZGVyLnJlYWRBc0FycmF5QnVmZmVyKGZpbGUpOwogICAgfSk7CiAgICAvLyBXYWl0IGZvciB0aGUgZGF0YSB0byBiZSByZWFkeS4KICAgIGxldCBmaWxlRGF0YSA9IHlpZWxkIHsKICAgICAgcHJvbWlzZTogZmlsZURhdGFQcm9taXNlLAogICAgICByZXNwb25zZTogewogICAgICAgIGFjdGlvbjogJ2NvbnRpbnVlJywKICAgICAgfQogICAgfTsKCiAgICAvLyBVc2UgYSBjaHVua2VkIHNlbmRpbmcgdG8gYXZvaWQgbWVzc2FnZSBzaXplIGxpbWl0cy4gU2VlIGIvNjIxMTU2NjAuCiAgICBsZXQgcG9zaXRpb24gPSAwOwogICAgZG8gewogICAgICBjb25zdCBsZW5ndGggPSBNYXRoLm1pbihmaWxlRGF0YS5ieXRlTGVuZ3RoIC0gcG9zaXRpb24sIE1BWF9QQVlMT0FEX1NJWkUpOwogICAgICBjb25zdCBjaHVuayA9IG5ldyBVaW50OEFycmF5KGZpbGVEYXRhLCBwb3NpdGlvbiwgbGVuZ3RoKTsKICAgICAgcG9zaXRpb24gKz0gbGVuZ3RoOwoKICAgICAgY29uc3QgYmFzZTY0ID0gYnRvYShTdHJpbmcuZnJvbUNoYXJDb2RlLmFwcGx5KG51bGwsIGNodW5rKSk7CiAgICAgIHlpZWxkIHsKICAgICAgICByZXNwb25zZTogewogICAgICAgICAgYWN0aW9uOiAnYXBwZW5kJywKICAgICAgICAgIGZpbGU6IGZpbGUubmFtZSwKICAgICAgICAgIGRhdGE6IGJhc2U2NCwKICAgICAgICB9LAogICAgICB9OwoKICAgICAgbGV0IHBlcmNlbnREb25lID0gZmlsZURhdGEuYnl0ZUxlbmd0aCA9PT0gMCA/CiAgICAgICAgICAxMDAgOgogICAgICAgICAgTWF0aC5yb3VuZCgocG9zaXRpb24gLyBmaWxlRGF0YS5ieXRlTGVuZ3RoKSAqIDEwMCk7CiAgICAgIHBlcmNlbnQudGV4dENvbnRlbnQgPSBgJHtwZXJjZW50RG9uZX0lIGRvbmVgOwoKICAgIH0gd2hpbGUgKHBvc2l0aW9uIDwgZmlsZURhdGEuYnl0ZUxlbmd0aCk7CiAgfQoKICAvLyBBbGwgZG9uZS4KICB5aWVsZCB7CiAgICByZXNwb25zZTogewogICAgICBhY3Rpb246ICdjb21wbGV0ZScsCiAgICB9CiAgfTsKfQoKc2NvcGUuZ29vZ2xlID0gc2NvcGUuZ29vZ2xlIHx8IHt9OwpzY29wZS5nb29nbGUuY29sYWIgPSBzY29wZS5nb29nbGUuY29sYWIgfHwge307CnNjb3BlLmdvb2dsZS5jb2xhYi5fZmlsZXMgPSB7CiAgX3VwbG9hZEZpbGVzLAogIF91cGxvYWRGaWxlc0NvbnRpbnVlLAp9Owp9KShzZWxmKTsK",
              "ok": true,
              "headers": [
                [
                  "content-type",
                  "application/javascript"
                ]
              ],
              "status": 200,
              "status_text": ""
            }
          },
          "base_uri": "https://localhost:8080/",
          "height": 89
        },
        "id": "sPE64M2-nbkG",
        "outputId": "38fca383-fa2e-445c-9572-07e3ee417393"
      },
      "source": [
        "from google.colab import files\n",
        "\n",
        "uploaded = files.upload()\n",
        "\n",
        "for fn in uploaded.keys():\n",
        "  print('User uploaded file \"{name}\" with length {length} bytes'.format(\n",
        "      name=fn, length=len(uploaded[fn])))"
      ],
      "execution_count": 15,
      "outputs": [
        {
          "output_type": "display_data",
          "data": {
            "text/html": [
              "\n",
              "     <input type=\"file\" id=\"files-ccd4876f-244f-461b-9d47-4587fd431559\" name=\"files[]\" multiple disabled\n",
              "        style=\"border:none\" />\n",
              "     <output id=\"result-ccd4876f-244f-461b-9d47-4587fd431559\">\n",
              "      Upload widget is only available when the cell has been executed in the\n",
              "      current browser session. Please rerun this cell to enable.\n",
              "      </output>\n",
              "      <script src=\"/nbextensions/google.colab/files.js\"></script> "
            ],
            "text/plain": [
              "<IPython.core.display.HTML object>"
            ]
          },
          "metadata": {
            "tags": []
          }
        },
        {
          "output_type": "stream",
          "text": [
            "Saving ppd_data_jan_feb_2018.csv to ppd_data_jan_feb_2018 (1).csv\n",
            "User uploaded file \"ppd_data_jan_feb_2018.csv\" with length 18870639 bytes\n"
          ],
          "name": "stdout"
        }
      ]
    },
    {
      "cell_type": "code",
      "metadata": {
        "id": "hIG9Ku0ZolSK"
      },
      "source": [
        "import pandas as pd\n",
        "from pathlib import Path"
      ],
      "execution_count": 16,
      "outputs": []
    },
    {
      "cell_type": "code",
      "metadata": {
        "id": "0i0nQj7vou34"
      },
      "source": [
        "fields=['unique_id','deed_date','postcode','saon','paon','street','property_type' ]\n",
        "dfs = [pd.read_csv(csv_file, usecols=fields) for csv_file in uploaded]"
      ],
      "execution_count": 17,
      "outputs": []
    },
    {
      "cell_type": "code",
      "metadata": {
        "colab": {
          "base_uri": "https://localhost:8080/",
          "height": 419
        },
        "id": "ZTLlBJQOpQT4",
        "outputId": "616e9754-2636-42df-9390-e352c808e641"
      },
      "source": [
        "results = pd.concat(dfs)\n",
        "display(results)"
      ],
      "execution_count": 18,
      "outputs": [
        {
          "output_type": "display_data",
          "data": {
            "text/html": [
              "<div>\n",
              "<style scoped>\n",
              "    .dataframe tbody tr th:only-of-type {\n",
              "        vertical-align: middle;\n",
              "    }\n",
              "\n",
              "    .dataframe tbody tr th {\n",
              "        vertical-align: top;\n",
              "    }\n",
              "\n",
              "    .dataframe thead th {\n",
              "        text-align: right;\n",
              "    }\n",
              "</style>\n",
              "<table border=\"1\" class=\"dataframe\">\n",
              "  <thead>\n",
              "    <tr style=\"text-align: right;\">\n",
              "      <th></th>\n",
              "      <th>unique_id</th>\n",
              "      <th>deed_date</th>\n",
              "      <th>postcode</th>\n",
              "      <th>property_type</th>\n",
              "      <th>saon</th>\n",
              "      <th>paon</th>\n",
              "      <th>street</th>\n",
              "    </tr>\n",
              "  </thead>\n",
              "  <tbody>\n",
              "    <tr>\n",
              "      <th>0</th>\n",
              "      <td>666758D6-D646-3363-E053-6B04A8C0D74E</td>\n",
              "      <td>26/01/2018</td>\n",
              "      <td>AL1 1AR</td>\n",
              "      <td>F</td>\n",
              "      <td>NaN</td>\n",
              "      <td>APARTMENT 3</td>\n",
              "      <td>OLD MILE HOUSE COURT</td>\n",
              "    </tr>\n",
              "    <tr>\n",
              "      <th>1</th>\n",
              "      <td>68FEB20B-7CD5-38DA-E053-6C04A8C051AE</td>\n",
              "      <td>23/02/2018</td>\n",
              "      <td>AL1 1HR</td>\n",
              "      <td>F</td>\n",
              "      <td>FLAT 12</td>\n",
              "      <td>AVENTINE COURT, 101</td>\n",
              "      <td>HOLYWELL HILL</td>\n",
              "    </tr>\n",
              "    <tr>\n",
              "      <th>2</th>\n",
              "      <td>7011B10A-2C75-8ED6-E053-6B04A8C075C1</td>\n",
              "      <td>13/02/2018</td>\n",
              "      <td>AL1 1LA</td>\n",
              "      <td>O</td>\n",
              "      <td>FLAT 3</td>\n",
              "      <td>15</td>\n",
              "      <td>LONDON ROAD</td>\n",
              "    </tr>\n",
              "    <tr>\n",
              "      <th>3</th>\n",
              "      <td>7011B10A-2CF8-8ED6-E053-6B04A8C075C1</td>\n",
              "      <td>13/02/2018</td>\n",
              "      <td>AL1 1LA</td>\n",
              "      <td>O</td>\n",
              "      <td>NaN</td>\n",
              "      <td>15C</td>\n",
              "      <td>LONDON ROAD</td>\n",
              "    </tr>\n",
              "    <tr>\n",
              "      <th>4</th>\n",
              "      <td>6B32222C-4167-01F1-E053-6C04A8C0D2C8</td>\n",
              "      <td>23/02/2018</td>\n",
              "      <td>AL1 1LR</td>\n",
              "      <td>F</td>\n",
              "      <td>NaN</td>\n",
              "      <td>101</td>\n",
              "      <td>LONDON ROAD</td>\n",
              "    </tr>\n",
              "    <tr>\n",
              "      <th>...</th>\n",
              "      <td>...</td>\n",
              "      <td>...</td>\n",
              "      <td>...</td>\n",
              "      <td>...</td>\n",
              "      <td>...</td>\n",
              "      <td>...</td>\n",
              "      <td>...</td>\n",
              "    </tr>\n",
              "    <tr>\n",
              "      <th>142185</th>\n",
              "      <td>68FEB20C-6D95-38DA-E053-6C04A8C051AE</td>\n",
              "      <td>22/02/2018</td>\n",
              "      <td>NaN</td>\n",
              "      <td>O</td>\n",
              "      <td>GARAGE AT THE BACK OF</td>\n",
              "      <td>12</td>\n",
              "      <td>MALVERN ROAD</td>\n",
              "    </tr>\n",
              "    <tr>\n",
              "      <th>142186</th>\n",
              "      <td>6B32222D-107B-01F1-E053-6C04A8C0D2C8</td>\n",
              "      <td>24/01/2018</td>\n",
              "      <td>NaN</td>\n",
              "      <td>O</td>\n",
              "      <td>GARAGE</td>\n",
              "      <td>75</td>\n",
              "      <td>WHITEWOOD WAY</td>\n",
              "    </tr>\n",
              "    <tr>\n",
              "      <th>142187</th>\n",
              "      <td>68FEB20C-6467-38DA-E053-6C04A8C051AE</td>\n",
              "      <td>22/02/2018</td>\n",
              "      <td>NaN</td>\n",
              "      <td>O</td>\n",
              "      <td>NaN</td>\n",
              "      <td>UNIT 3</td>\n",
              "      <td>STAG BUSINESS PARK</td>\n",
              "    </tr>\n",
              "    <tr>\n",
              "      <th>142188</th>\n",
              "      <td>666758D7-B216-3363-E053-6B04A8C0D74E</td>\n",
              "      <td>31/01/2018</td>\n",
              "      <td>NaN</td>\n",
              "      <td>O</td>\n",
              "      <td>NaN</td>\n",
              "      <td>WREKIN GRAIN STORE</td>\n",
              "      <td>NaN</td>\n",
              "    </tr>\n",
              "    <tr>\n",
              "      <th>142189</th>\n",
              "      <td>68FEB20C-478B-38DA-E053-6C04A8C051AE</td>\n",
              "      <td>21/02/2018</td>\n",
              "      <td>NaN</td>\n",
              "      <td>O</td>\n",
              "      <td>NaN</td>\n",
              "      <td>PLOT B</td>\n",
              "      <td>SITE 4000 CLYWEDOG ROAD</td>\n",
              "    </tr>\n",
              "  </tbody>\n",
              "</table>\n",
              "<p>142190 rows × 7 columns</p>\n",
              "</div>"
            ],
            "text/plain": [
              "                                   unique_id  ...                   street\n",
              "0       666758D6-D646-3363-E053-6B04A8C0D74E  ...     OLD MILE HOUSE COURT\n",
              "1       68FEB20B-7CD5-38DA-E053-6C04A8C051AE  ...            HOLYWELL HILL\n",
              "2       7011B10A-2C75-8ED6-E053-6B04A8C075C1  ...              LONDON ROAD\n",
              "3       7011B10A-2CF8-8ED6-E053-6B04A8C075C1  ...              LONDON ROAD\n",
              "4       6B32222C-4167-01F1-E053-6C04A8C0D2C8  ...              LONDON ROAD\n",
              "...                                      ...  ...                      ...\n",
              "142185  68FEB20C-6D95-38DA-E053-6C04A8C051AE  ...             MALVERN ROAD\n",
              "142186  6B32222D-107B-01F1-E053-6C04A8C0D2C8  ...            WHITEWOOD WAY\n",
              "142187  68FEB20C-6467-38DA-E053-6C04A8C051AE  ...       STAG BUSINESS PARK\n",
              "142188  666758D7-B216-3363-E053-6B04A8C0D74E  ...                      NaN\n",
              "142189  68FEB20C-478B-38DA-E053-6C04A8C051AE  ...  SITE 4000 CLYWEDOG ROAD\n",
              "\n",
              "[142190 rows x 7 columns]"
            ]
          },
          "metadata": {
            "tags": []
          }
        }
      ]
    },
    {
      "cell_type": "code",
      "metadata": {
        "id": "Dcz6Z8xzpVhO"
      },
      "source": [
        "results['rm_url1'] =results['postcode'].str[0:3]+'-' +results['postcode'].str[4:8]+'.html?'\n",
        "results['rm_url2'] =results['postcode'].str[0:3]+'-' +results['postcode'].str[4:8]+'.html?page=2'   \n",
        "results['rm_url3'] =results['postcode'].str[0:2]+'-' +results['postcode'].str[3:7]+'.html?'\n",
        "results['rm_url4'] =results['postcode'].str[0:2]+'-' +results['postcode'].str[3:7]+'.html?page=2'\n",
        "results['rm_url5'] =results['postcode'].str[0:4]+'-' +results['postcode'].str[5:9]+'.html?'\n",
        "results['rm_url6'] =results['postcode'].str[0:4]+'-' +results['postcode'].str[5:9]+'.html?page=2'\n"
      ],
      "execution_count": 19,
      "outputs": []
    },
    {
      "cell_type": "code",
      "metadata": {
        "id": "JS3EuFaWphL-"
      },
      "source": [
        "results_amend1=results.dropna(subset=['postcode'])\n",
        "#print(results_amend1)"
      ],
      "execution_count": 20,
      "outputs": []
    },
    {
      "cell_type": "code",
      "metadata": {
        "id": "ZzRNNI48pvFG"
      },
      "source": [
        "import requests\n",
        "from bs4 import BeautifulSoup\n",
        "from re import findall\n",
        "import re\n",
        "from pprint import pprint"
      ],
      "execution_count": 21,
      "outputs": []
    },
    {
      "cell_type": "code",
      "metadata": {
        "id": "nRwNLoBGqGIV"
      },
      "source": [
        "# Example of files download\n",
        "#with open('example.txt', 'w') as f:\n",
        "#  f.write('some content')\n",
        "#\n",
        "#files.download('example.txt')"
      ],
      "execution_count": 29,
      "outputs": []
    },
    {
      "cell_type": "code",
      "metadata": {
        "colab": {
          "base_uri": "https://localhost:8080/",
          "height": 589
        },
        "id": "d9RB0UN4qWQ9",
        "outputId": "943c34a6-7467-4685-84d6-cbb838187d35"
      },
      "source": [
        "#df_1 =results_amend1.iloc[:300,:]\n",
        "#[fromRow:toRow,:] \n",
        "#df_1 =results_amend1.iloc[301:1000,:]\n",
        "#df_1 =results_amend1.iloc[1001:2000,:] \n",
        "#df_1 =results_amend1.iloc[2001:4000,:] 2K records 61min\n",
        "#df_1 =results_amend1.iloc[4001:8000,:] 4K records 120min\n",
        "#df_1 =results_amend1.iloc[8001:10001,:] 2K records 40min after optimising\n",
        "#df_1 =results_amend1.iloc[10001:14000,:] #4K records 90 min\n",
        "#df_1 =results_amend1.iloc[14001:40000,:] #26K records \n",
        "#df_1 =results_amend1.iloc[14001:20000,:] #6K records 120 min\n",
        "#df_1 =results_amend1.iloc[20001:30000,:] #10K records \n",
        "#df_1 =results_amend1.iloc[30001:50001,:] #20K records 6 hours\n",
        "df_1 =results_amend1.iloc[50001:55001,:] #5K records \n",
        "df_1"
      ],
      "execution_count": 22,
      "outputs": [
        {
          "output_type": "execute_result",
          "data": {
            "text/html": [
              "<div>\n",
              "<style scoped>\n",
              "    .dataframe tbody tr th:only-of-type {\n",
              "        vertical-align: middle;\n",
              "    }\n",
              "\n",
              "    .dataframe tbody tr th {\n",
              "        vertical-align: top;\n",
              "    }\n",
              "\n",
              "    .dataframe thead th {\n",
              "        text-align: right;\n",
              "    }\n",
              "</style>\n",
              "<table border=\"1\" class=\"dataframe\">\n",
              "  <thead>\n",
              "    <tr style=\"text-align: right;\">\n",
              "      <th></th>\n",
              "      <th>unique_id</th>\n",
              "      <th>deed_date</th>\n",
              "      <th>postcode</th>\n",
              "      <th>property_type</th>\n",
              "      <th>saon</th>\n",
              "      <th>paon</th>\n",
              "      <th>street</th>\n",
              "      <th>rm_url1</th>\n",
              "      <th>rm_url2</th>\n",
              "      <th>rm_url3</th>\n",
              "      <th>rm_url4</th>\n",
              "      <th>rm_url5</th>\n",
              "      <th>rm_url6</th>\n",
              "    </tr>\n",
              "  </thead>\n",
              "  <tbody>\n",
              "    <tr>\n",
              "      <th>50001</th>\n",
              "      <td>64342BFF-4C3D-422C-E053-6C04A8C0FB8A</td>\n",
              "      <td>09/01/2018</td>\n",
              "      <td>HP1 1BA</td>\n",
              "      <td>O</td>\n",
              "      <td>NaN</td>\n",
              "      <td>156</td>\n",
              "      <td>MARLOWES</td>\n",
              "      <td>HP1-1BA.html?</td>\n",
              "      <td>HP1-1BA.html?page=2</td>\n",
              "      <td>HP- 1BA.html?</td>\n",
              "      <td>HP- 1BA.html?page=2</td>\n",
              "      <td>HP1 -BA.html?</td>\n",
              "      <td>HP1 -BA.html?page=2</td>\n",
              "    </tr>\n",
              "    <tr>\n",
              "      <th>50002</th>\n",
              "      <td>64342BFF-4BED-422C-E053-6C04A8C0FB8A</td>\n",
              "      <td>09/01/2018</td>\n",
              "      <td>HP1 1BA</td>\n",
              "      <td>O</td>\n",
              "      <td>NaN</td>\n",
              "      <td>156</td>\n",
              "      <td>MARLOWES</td>\n",
              "      <td>HP1-1BA.html?</td>\n",
              "      <td>HP1-1BA.html?page=2</td>\n",
              "      <td>HP- 1BA.html?</td>\n",
              "      <td>HP- 1BA.html?page=2</td>\n",
              "      <td>HP1 -BA.html?</td>\n",
              "      <td>HP1 -BA.html?page=2</td>\n",
              "    </tr>\n",
              "    <tr>\n",
              "      <th>50003</th>\n",
              "      <td>666758D6-D476-3363-E053-6B04A8C0D74E</td>\n",
              "      <td>13/02/2018</td>\n",
              "      <td>HP1 1BE</td>\n",
              "      <td>F</td>\n",
              "      <td>FLAT 21</td>\n",
              "      <td>CAMDEN HOUSE</td>\n",
              "      <td>MARLOWES</td>\n",
              "      <td>HP1-1BE.html?</td>\n",
              "      <td>HP1-1BE.html?page=2</td>\n",
              "      <td>HP- 1BE.html?</td>\n",
              "      <td>HP- 1BE.html?page=2</td>\n",
              "      <td>HP1 -BE.html?</td>\n",
              "      <td>HP1 -BE.html?page=2</td>\n",
              "    </tr>\n",
              "    <tr>\n",
              "      <th>50004</th>\n",
              "      <td>666758D6-D6CC-3363-E053-6B04A8C0D74E</td>\n",
              "      <td>15/02/2018</td>\n",
              "      <td>HP1 1DG</td>\n",
              "      <td>F</td>\n",
              "      <td>9 THE PODIUM</td>\n",
              "      <td>MOOR END LODGE</td>\n",
              "      <td>COTTERELLS</td>\n",
              "      <td>HP1-1DG.html?</td>\n",
              "      <td>HP1-1DG.html?page=2</td>\n",
              "      <td>HP- 1DG.html?</td>\n",
              "      <td>HP- 1DG.html?page=2</td>\n",
              "      <td>HP1 -DG.html?</td>\n",
              "      <td>HP1 -DG.html?page=2</td>\n",
              "    </tr>\n",
              "    <tr>\n",
              "      <th>50005</th>\n",
              "      <td>64342BFE-3529-422C-E053-6C04A8C0FB8A</td>\n",
              "      <td>19/01/2018</td>\n",
              "      <td>HP1 1HP</td>\n",
              "      <td>S</td>\n",
              "      <td>NaN</td>\n",
              "      <td>164</td>\n",
              "      <td>LEIGHTON BUZZARD ROAD</td>\n",
              "      <td>HP1-1HP.html?</td>\n",
              "      <td>HP1-1HP.html?page=2</td>\n",
              "      <td>HP- 1HP.html?</td>\n",
              "      <td>HP- 1HP.html?page=2</td>\n",
              "      <td>HP1 -HP.html?</td>\n",
              "      <td>HP1 -HP.html?page=2</td>\n",
              "    </tr>\n",
              "    <tr>\n",
              "      <th>...</th>\n",
              "      <td>...</td>\n",
              "      <td>...</td>\n",
              "      <td>...</td>\n",
              "      <td>...</td>\n",
              "      <td>...</td>\n",
              "      <td>...</td>\n",
              "      <td>...</td>\n",
              "      <td>...</td>\n",
              "      <td>...</td>\n",
              "      <td>...</td>\n",
              "      <td>...</td>\n",
              "      <td>...</td>\n",
              "      <td>...</td>\n",
              "    </tr>\n",
              "    <tr>\n",
              "      <th>54996</th>\n",
              "      <td>666758D7-3E84-3363-E053-6B04A8C0D74E</td>\n",
              "      <td>05/01/2018</td>\n",
              "      <td>IP33 2QS</td>\n",
              "      <td>T</td>\n",
              "      <td>NaN</td>\n",
              "      <td>17</td>\n",
              "      <td>FALLOWFIELD WALK</td>\n",
              "      <td>IP3- 2QS.html?</td>\n",
              "      <td>IP3- 2QS.html?page=2</td>\n",
              "      <td>IP-3 2Q.html?</td>\n",
              "      <td>IP-3 2Q.html?page=2</td>\n",
              "      <td>IP33-2QS.html?</td>\n",
              "      <td>IP33-2QS.html?page=2</td>\n",
              "    </tr>\n",
              "    <tr>\n",
              "      <th>54997</th>\n",
              "      <td>666758D7-3FE5-3363-E053-6B04A8C0D74E</td>\n",
              "      <td>05/01/2018</td>\n",
              "      <td>IP33 2QS</td>\n",
              "      <td>T</td>\n",
              "      <td>NaN</td>\n",
              "      <td>34</td>\n",
              "      <td>FALLOWFIELD WALK</td>\n",
              "      <td>IP3- 2QS.html?</td>\n",
              "      <td>IP3- 2QS.html?page=2</td>\n",
              "      <td>IP-3 2Q.html?</td>\n",
              "      <td>IP-3 2Q.html?page=2</td>\n",
              "      <td>IP33-2QS.html?</td>\n",
              "      <td>IP33-2QS.html?page=2</td>\n",
              "    </tr>\n",
              "    <tr>\n",
              "      <th>54998</th>\n",
              "      <td>6B32222C-9D00-01F1-E053-6C04A8C0D2C8</td>\n",
              "      <td>29/01/2018</td>\n",
              "      <td>IP33 2SB</td>\n",
              "      <td>S</td>\n",
              "      <td>NaN</td>\n",
              "      <td>30</td>\n",
              "      <td>SEXTONS MEADOWS</td>\n",
              "      <td>IP3- 2SB.html?</td>\n",
              "      <td>IP3- 2SB.html?page=2</td>\n",
              "      <td>IP-3 2S.html?</td>\n",
              "      <td>IP-3 2S.html?page=2</td>\n",
              "      <td>IP33-2SB.html?</td>\n",
              "      <td>IP33-2SB.html?page=2</td>\n",
              "    </tr>\n",
              "    <tr>\n",
              "      <th>54999</th>\n",
              "      <td>64342BFE-C7FE-422C-E053-6C04A8C0FB8A</td>\n",
              "      <td>08/01/2018</td>\n",
              "      <td>IP33 2SN</td>\n",
              "      <td>D</td>\n",
              "      <td>NaN</td>\n",
              "      <td>6</td>\n",
              "      <td>BYFIELD WAY</td>\n",
              "      <td>IP3- 2SN.html?</td>\n",
              "      <td>IP3- 2SN.html?page=2</td>\n",
              "      <td>IP-3 2S.html?</td>\n",
              "      <td>IP-3 2S.html?page=2</td>\n",
              "      <td>IP33-2SN.html?</td>\n",
              "      <td>IP33-2SN.html?page=2</td>\n",
              "    </tr>\n",
              "    <tr>\n",
              "      <th>55000</th>\n",
              "      <td>68FEB20B-E9EC-38DA-E053-6C04A8C051AE</td>\n",
              "      <td>28/02/2018</td>\n",
              "      <td>IP33 3AD</td>\n",
              "      <td>F</td>\n",
              "      <td>APARTMENT 41</td>\n",
              "      <td>LACY COURT</td>\n",
              "      <td>RISBYGATE STREET</td>\n",
              "      <td>IP3- 3AD.html?</td>\n",
              "      <td>IP3- 3AD.html?page=2</td>\n",
              "      <td>IP-3 3A.html?</td>\n",
              "      <td>IP-3 3A.html?page=2</td>\n",
              "      <td>IP33-3AD.html?</td>\n",
              "      <td>IP33-3AD.html?page=2</td>\n",
              "    </tr>\n",
              "  </tbody>\n",
              "</table>\n",
              "<p>5000 rows × 13 columns</p>\n",
              "</div>"
            ],
            "text/plain": [
              "                                  unique_id  ...               rm_url6\n",
              "50001  64342BFF-4C3D-422C-E053-6C04A8C0FB8A  ...   HP1 -BA.html?page=2\n",
              "50002  64342BFF-4BED-422C-E053-6C04A8C0FB8A  ...   HP1 -BA.html?page=2\n",
              "50003  666758D6-D476-3363-E053-6B04A8C0D74E  ...   HP1 -BE.html?page=2\n",
              "50004  666758D6-D6CC-3363-E053-6B04A8C0D74E  ...   HP1 -DG.html?page=2\n",
              "50005  64342BFE-3529-422C-E053-6C04A8C0FB8A  ...   HP1 -HP.html?page=2\n",
              "...                                     ...  ...                   ...\n",
              "54996  666758D7-3E84-3363-E053-6B04A8C0D74E  ...  IP33-2QS.html?page=2\n",
              "54997  666758D7-3FE5-3363-E053-6B04A8C0D74E  ...  IP33-2QS.html?page=2\n",
              "54998  6B32222C-9D00-01F1-E053-6C04A8C0D2C8  ...  IP33-2SB.html?page=2\n",
              "54999  64342BFE-C7FE-422C-E053-6C04A8C0FB8A  ...  IP33-2SN.html?page=2\n",
              "55000  68FEB20B-E9EC-38DA-E053-6C04A8C051AE  ...  IP33-3AD.html?page=2\n",
              "\n",
              "[5000 rows x 13 columns]"
            ]
          },
          "metadata": {
            "tags": []
          },
          "execution_count": 22
        }
      ]
    },
    {
      "cell_type": "code",
      "metadata": {
        "id": "bIkYTDeWqkMs"
      },
      "source": [
        "def findBedrooms(a_url, housenum1, housenum2):\n",
        "    r = requests.get(a_url)\n",
        "    c=r.content\n",
        "    # Parse the html content\n",
        "    soup = BeautifulSoup(c,\"html.parser\")\n",
        "    #print('output from url ' + a_url)\n",
        "    main_content = soup.find_all('script')\n",
        "    content_string = str(main_content)\n",
        "    r1= re.findall(r\".address..................|.bedroom.....\", content_string)\n",
        "    #pprint(r1)\n",
        "    r2=re.findall(r\".address..................\", content_string)    \n",
        "    print_bedrooms=\"no\"\n",
        "    countNoOfFinds=0 \n",
        "    my_address='not_found'\n",
        "    my_bedrooms='not_found'\n",
        "    for eachP in r1:  \n",
        "      my_check0=eachP.lower().find('bedroom')\n",
        "      #-----------------------\n",
        "      if  my_check0==-1: \n",
        "        my_check1=eachP.lower().find(housenum1)\n",
        "      else:\n",
        "        my_check1=-1\n",
        "      #-----------------------  \n",
        "      r_test=re.findall('[0-9]+[a-z]?', eachP)\n",
        "      if len(r_test)!=0:\n",
        "         mycheck2=r_test[0] \n",
        "      else:\n",
        "         mycheck2=0\n",
        "      #-----------------------      \n",
        "      if (my_check1!=-1 and mycheck2==housenum2 ) or print_bedrooms==\"yes\" :\n",
        "          print_bedrooms=\"yes\"  \n",
        "          if my_check1==-1  :\n",
        "            countNoOfFinds=countNoOfFinds+1 \n",
        "            print_bedrooms=\"no\"\n",
        "            my_bedrooms=eachP\n",
        "          else:\n",
        "            my_address=eachP  \n",
        "            \n",
        "    return countNoOfFinds, my_address, my_bedrooms        \n",
        "    print('-------------------------------') \n",
        "    print('countNoOfFinds '+ str(countNoOfFinds))\n",
        "    print('-------------------------------')"
      ],
      "execution_count": 23,
      "outputs": []
    },
    {
      "cell_type": "code",
      "metadata": {
        "id": "EIFl8Kfnq3cM"
      },
      "source": [
        "countIdentifiedRecords=0\n",
        "list_for_bedrooms_table=[]\n",
        "for row in df_1.itertuples():\n",
        "    url1='https://www.rightmove.co.uk/house-prices/'+row[8]\n",
        "    url2='https://www.rightmove.co.uk/house-prices/'+row[9]\n",
        "    url3='https://www.rightmove.co.uk/house-prices/'+row[10]\n",
        "    url4='https://www.rightmove.co.uk/house-prices/'+row[11]\n",
        "    url5='https://www.rightmove.co.uk/house-prices/'+row[12]\n",
        "    url6='https://www.rightmove.co.uk/house-prices/'+row[13]\n",
        "    url_list = [url1, url2, url3, url4,url5, url6]\n",
        "    bedrooms_table_new_row=[]\n",
        "    propId=row[1] #unique identifier ppd_data\n",
        "    house_num1=(str(row[5])+\" \" +str(row[6])).lower()\n",
        "    if house_num1[0:3]==\"nan\":\n",
        "        house_num1=house_num1[4:]       \n",
        "    find_house_num2= re.findall('[0-9]+[a-z]?', house_num1) \n",
        "    if len(find_house_num2)!=0:\n",
        "      house_num2=find_house_num2[0]\n",
        "      #print(house_num2) #print 3\n",
        "    else:\n",
        "      house_num2 = 0\n",
        "    bedrooms_table_new_row.append(propId)\n",
        "    bedrooms_table_new_row.append(house_num1)\n",
        "    bedrooms_table_new_row.append(house_num2)\n",
        "    this_prop_num_of_finds=0\n",
        "    this_prop_num_of_beds=-1\n",
        "    for each_url in url_list:\n",
        "      containsSpace = \" \" in each_url #for cheking if the url string contains spaces\n",
        "      if not containsSpace:\n",
        "        if this_prop_num_of_finds==0:\n",
        "          countNoOfFinds, my_address, my_bedrooms=findBedrooms(each_url,house_num1,house_num2 )\n",
        "          countIdentifiedRecords=countIdentifiedRecords + countNoOfFinds\n",
        "          #----------------------------------------\n",
        "        else:\n",
        "          countNoOfFinds=0\n",
        "          my_address=\"na\" \n",
        "          my_bedrooms=\"na\" \n",
        "        bedrooms_table_new_row.append(each_url)\n",
        "        bedrooms_table_new_row.append(countNoOfFinds)        \n",
        "        bedrooms_table_new_row.append(my_address)\n",
        "        bedrooms_table_new_row.append(my_bedrooms)\n",
        "        this_prop_num_of_finds=this_prop_num_of_finds+countNoOfFinds\n",
        "        if countNoOfFinds>0:\n",
        "          r_beds=re.findall('[0-9]+', my_bedrooms)\n",
        "          if len(r_beds)!=0:\n",
        "            this_prop_num_of_beds=r_beds[0]\n",
        "\n",
        "    bedrooms_table_new_row.append(this_prop_num_of_finds)\n",
        "    bedrooms_table_new_row.append(this_prop_num_of_beds)      \n",
        "    list_for_bedrooms_table.append(bedrooms_table_new_row)  "
      ],
      "execution_count": null,
      "outputs": []
    },
    {
      "cell_type": "code",
      "metadata": {
        "id": "i5KO3CFnrXts"
      },
      "source": [
        "countIdentifiedRecords"
      ],
      "execution_count": null,
      "outputs": []
    },
    {
      "cell_type": "code",
      "metadata": {
        "id": "E1eRYB3bt7fB"
      },
      "source": [
        "bedroomsDF = pd.DataFrame(list_for_bedrooms_table)\n",
        "bedroomsDF.columns =['id', 'house_num1',  'house_num2','url1', 'num_of_finds1', 'matched_addr1', 'bedrooms1' ,'url2', 'num_of_finds2', 'matched_addr2', 'bedrooms2','overall_num_of_finds','num_of_beds']\n",
        "bedroomsDF"
      ],
      "execution_count": null,
      "outputs": []
    },
    {
      "cell_type": "code",
      "metadata": {
        "id": "mxC8y0XjuD5-"
      },
      "source": [
        "with open('example.csv', 'w') as f:\n",
        "  #f.write('some content')\n",
        "  bedroomsDF.to_csv('example.csv', index=False)\n",
        "files.download('example.csv')  "
      ],
      "execution_count": null,
      "outputs": []
    }
  ]
}
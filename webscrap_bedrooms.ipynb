{
  "nbformat": 4,
  "nbformat_minor": 0,
  "metadata": {
    "accelerator": "TPU",
    "colab": {
      "name": "webscrap bedrooms.ipynb",
      "provenance": [],
      "collapsed_sections": [],
      "machine_shape": "hm",
      "authorship_tag": "ABX9TyMA4TXUjquhrt0K9QmGA1n1",
      "include_colab_link": true
    },
    "kernelspec": {
      "display_name": "Python 3",
      "name": "python3"
    },
    "language_info": {
      "name": "python"
    }
  },
  "cells": [
    {
      "cell_type": "markdown",
      "metadata": {
        "id": "view-in-github",
        "colab_type": "text"
      },
      "source": [
        "<a href=\"https://colab.research.google.com/github/oxanaRC/CE902/blob/main/webscrap_bedrooms.ipynb\" target=\"_parent\"><img src=\"https://colab.research.google.com/assets/colab-badge.svg\" alt=\"Open In Colab\"/></a>"
      ]
    },
    {
      "cell_type": "code",
      "metadata": {
        "colab": {
          "resources": {
            "http://localhost:8080/nbextensions/google.colab/files.js": {
              "data": "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",
              "ok": true,
              "headers": [
                [
                  "content-type",
                  "application/javascript"
                ]
              ],
              "status": 200,
              "status_text": ""
            }
          },
          "base_uri": "https://localhost:8080/",
          "height": 89
        },
        "id": "sPE64M2-nbkG",
        "outputId": "8b61bad0-4882-4651-8034-5047157ce637"
      },
      "source": [
        "from google.colab import files\n",
        "\n",
        "uploaded = files.upload()\n",
        "\n",
        "for fn in uploaded.keys():\n",
        "  print('User uploaded file \"{name}\" with length {length} bytes'.format(\n",
        "      name=fn, length=len(uploaded[fn])))"
      ],
      "execution_count": 1,
      "outputs": [
        {
          "output_type": "display_data",
          "data": {
            "text/html": [
              "\n",
              "     <input type=\"file\" id=\"files-264d1f0a-413d-4aaf-80d4-6169fc9bef83\" name=\"files[]\" multiple disabled\n",
              "        style=\"border:none\" />\n",
              "     <output id=\"result-264d1f0a-413d-4aaf-80d4-6169fc9bef83\">\n",
              "      Upload widget is only available when the cell has been executed in the\n",
              "      current browser session. Please rerun this cell to enable.\n",
              "      </output>\n",
              "      <script src=\"/nbextensions/google.colab/files.js\"></script> "
            ],
            "text/plain": [
              "<IPython.core.display.HTML object>"
            ]
          },
          "metadata": {
            "tags": []
          }
        },
        {
          "output_type": "stream",
          "text": [
            "Saving ppd_data_jul_aug_2018.csv to ppd_data_jul_aug_2018.csv\n",
            "User uploaded file \"ppd_data_jul_aug_2018.csv\" with length 25811766 bytes\n"
          ],
          "name": "stdout"
        }
      ]
    },
    {
      "cell_type": "code",
      "metadata": {
        "id": "hIG9Ku0ZolSK"
      },
      "source": [
        "import pandas as pd\n",
        "from pathlib import Path"
      ],
      "execution_count": 2,
      "outputs": []
    },
    {
      "cell_type": "code",
      "metadata": {
        "id": "0i0nQj7vou34"
      },
      "source": [
        "fields=['unique_id','deed_date','postcode','saon','paon','street','property_type' ]\n",
        "dfs = [pd.read_csv(csv_file, usecols=fields) for csv_file in uploaded]"
      ],
      "execution_count": 3,
      "outputs": []
    },
    {
      "cell_type": "code",
      "metadata": {
        "colab": {
          "base_uri": "https://localhost:8080/",
          "height": 419
        },
        "id": "ZTLlBJQOpQT4",
        "outputId": "591bf0c2-a6ec-4d12-9248-58b3304a530f"
      },
      "source": [
        "results = pd.concat(dfs)\n",
        "results = results[(results['property_type']!='O')]\n",
        "display(results)"
      ],
      "execution_count": 4,
      "outputs": [
        {
          "output_type": "display_data",
          "data": {
            "text/html": [
              "<div>\n",
              "<style scoped>\n",
              "    .dataframe tbody tr th:only-of-type {\n",
              "        vertical-align: middle;\n",
              "    }\n",
              "\n",
              "    .dataframe tbody tr th {\n",
              "        vertical-align: top;\n",
              "    }\n",
              "\n",
              "    .dataframe thead th {\n",
              "        text-align: right;\n",
              "    }\n",
              "</style>\n",
              "<table border=\"1\" class=\"dataframe\">\n",
              "  <thead>\n",
              "    <tr style=\"text-align: right;\">\n",
              "      <th></th>\n",
              "      <th>unique_id</th>\n",
              "      <th>deed_date</th>\n",
              "      <th>postcode</th>\n",
              "      <th>property_type</th>\n",
              "      <th>saon</th>\n",
              "      <th>paon</th>\n",
              "      <th>street</th>\n",
              "    </tr>\n",
              "  </thead>\n",
              "  <tbody>\n",
              "    <tr>\n",
              "      <th>0</th>\n",
              "      <td>773788C2-A5C2-2CE4-E053-6C04A8C05E57</td>\n",
              "      <td>16/08/2018</td>\n",
              "      <td>AL1 1AT</td>\n",
              "      <td>D</td>\n",
              "      <td>NaN</td>\n",
              "      <td>4</td>\n",
              "      <td>MAGNOLIA GARDENS</td>\n",
              "    </tr>\n",
              "    <tr>\n",
              "      <th>1</th>\n",
              "      <td>79A74E21-9532-1289-E053-6B04A8C01627</td>\n",
              "      <td>17/08/2018</td>\n",
              "      <td>AL1 1AU</td>\n",
              "      <td>S</td>\n",
              "      <td>NaN</td>\n",
              "      <td>6</td>\n",
              "      <td>STUART PLACE</td>\n",
              "    </tr>\n",
              "    <tr>\n",
              "      <th>2</th>\n",
              "      <td>75050A85-209E-9A88-E053-6B04A8C02390</td>\n",
              "      <td>27/07/2018</td>\n",
              "      <td>AL1 1AU</td>\n",
              "      <td>S</td>\n",
              "      <td>NaN</td>\n",
              "      <td>7</td>\n",
              "      <td>STUART PLACE</td>\n",
              "    </tr>\n",
              "    <tr>\n",
              "      <th>3</th>\n",
              "      <td>80E1AA98-1951-7BF8-E053-6C04A8C00BF2</td>\n",
              "      <td>29/08/2018</td>\n",
              "      <td>AL1 1HB</td>\n",
              "      <td>T</td>\n",
              "      <td>NaN</td>\n",
              "      <td>37</td>\n",
              "      <td>HOLYWELL HILL</td>\n",
              "    </tr>\n",
              "    <tr>\n",
              "      <th>4</th>\n",
              "      <td>773788C2-A48D-2CE4-E053-6C04A8C05E57</td>\n",
              "      <td>18/07/2018</td>\n",
              "      <td>AL1 1LB</td>\n",
              "      <td>F</td>\n",
              "      <td>FLAT 34</td>\n",
              "      <td>BENEDICTINE PLACE, 25</td>\n",
              "      <td>LONDON ROAD</td>\n",
              "    </tr>\n",
              "    <tr>\n",
              "      <th>...</th>\n",
              "      <td>...</td>\n",
              "      <td>...</td>\n",
              "      <td>...</td>\n",
              "      <td>...</td>\n",
              "      <td>...</td>\n",
              "      <td>...</td>\n",
              "      <td>...</td>\n",
              "    </tr>\n",
              "    <tr>\n",
              "      <th>191551</th>\n",
              "      <td>773788C3-7289-2CE4-E053-6C04A8C05E57</td>\n",
              "      <td>15/08/2018</td>\n",
              "      <td>NaN</td>\n",
              "      <td>S</td>\n",
              "      <td>NaN</td>\n",
              "      <td>73</td>\n",
              "      <td>THE COMMON</td>\n",
              "    </tr>\n",
              "    <tr>\n",
              "      <th>191554</th>\n",
              "      <td>773788C3-7111-2CE4-E053-6C04A8C05E57</td>\n",
              "      <td>22/08/2018</td>\n",
              "      <td>NaN</td>\n",
              "      <td>D</td>\n",
              "      <td>NaN</td>\n",
              "      <td>3A</td>\n",
              "      <td>STATION WAY</td>\n",
              "    </tr>\n",
              "    <tr>\n",
              "      <th>191555</th>\n",
              "      <td>75050A85-F0B9-9A88-E053-6B04A8C02390</td>\n",
              "      <td>20/07/2018</td>\n",
              "      <td>NaN</td>\n",
              "      <td>F</td>\n",
              "      <td>FLAT</td>\n",
              "      <td>2</td>\n",
              "      <td>SWINNOW LANE</td>\n",
              "    </tr>\n",
              "    <tr>\n",
              "      <th>191563</th>\n",
              "      <td>75050A85-E882-9A88-E053-6B04A8C02390</td>\n",
              "      <td>01/08/2018</td>\n",
              "      <td>NaN</td>\n",
              "      <td>D</td>\n",
              "      <td>NaN</td>\n",
              "      <td>1</td>\n",
              "      <td>ELCOT NURSERIES</td>\n",
              "    </tr>\n",
              "    <tr>\n",
              "      <th>191583</th>\n",
              "      <td>75050A84-D8F2-9A88-E053-6B04A8C02390</td>\n",
              "      <td>10/07/2018</td>\n",
              "      <td>NaN</td>\n",
              "      <td>F</td>\n",
              "      <td>PLOT 6</td>\n",
              "      <td>PENTRE BACH ESTATE</td>\n",
              "      <td>RUTHIN ROAD</td>\n",
              "    </tr>\n",
              "  </tbody>\n",
              "</table>\n",
              "<p>179370 rows × 7 columns</p>\n",
              "</div>"
            ],
            "text/plain": [
              "                                   unique_id  ...            street\n",
              "0       773788C2-A5C2-2CE4-E053-6C04A8C05E57  ...  MAGNOLIA GARDENS\n",
              "1       79A74E21-9532-1289-E053-6B04A8C01627  ...      STUART PLACE\n",
              "2       75050A85-209E-9A88-E053-6B04A8C02390  ...      STUART PLACE\n",
              "3       80E1AA98-1951-7BF8-E053-6C04A8C00BF2  ...     HOLYWELL HILL\n",
              "4       773788C2-A48D-2CE4-E053-6C04A8C05E57  ...       LONDON ROAD\n",
              "...                                      ...  ...               ...\n",
              "191551  773788C3-7289-2CE4-E053-6C04A8C05E57  ...        THE COMMON\n",
              "191554  773788C3-7111-2CE4-E053-6C04A8C05E57  ...       STATION WAY\n",
              "191555  75050A85-F0B9-9A88-E053-6B04A8C02390  ...      SWINNOW LANE\n",
              "191563  75050A85-E882-9A88-E053-6B04A8C02390  ...   ELCOT NURSERIES\n",
              "191583  75050A84-D8F2-9A88-E053-6B04A8C02390  ...       RUTHIN ROAD\n",
              "\n",
              "[179370 rows x 7 columns]"
            ]
          },
          "metadata": {
            "tags": []
          }
        }
      ]
    },
    {
      "cell_type": "code",
      "metadata": {
        "id": "Dcz6Z8xzpVhO"
      },
      "source": [
        "results['rm_url1'] =results['postcode'].str[0:3]+'-' +results['postcode'].str[4:8]+'.html?'\n",
        "results['rm_url2'] =results['postcode'].str[0:3]+'-' +results['postcode'].str[4:8]+'.html?page=2'   \n",
        "results['rm_url3'] =results['postcode'].str[0:2]+'-' +results['postcode'].str[3:7]+'.html?'\n",
        "results['rm_url4'] =results['postcode'].str[0:2]+'-' +results['postcode'].str[3:7]+'.html?page=2'\n",
        "results['rm_url5'] =results['postcode'].str[0:4]+'-' +results['postcode'].str[5:9]+'.html?'\n",
        "results['rm_url6'] =results['postcode'].str[0:4]+'-' +results['postcode'].str[5:9]+'.html?page=2'\n"
      ],
      "execution_count": 5,
      "outputs": []
    },
    {
      "cell_type": "code",
      "metadata": {
        "id": "JS3EuFaWphL-"
      },
      "source": [
        "results_amend1=results.dropna(subset=['postcode'])\n",
        "#print(results_amend1)"
      ],
      "execution_count": 6,
      "outputs": []
    },
    {
      "cell_type": "code",
      "metadata": {
        "id": "ZzRNNI48pvFG"
      },
      "source": [
        "import requests\n",
        "from bs4 import BeautifulSoup\n",
        "from re import findall\n",
        "import re\n",
        "from pprint import pprint"
      ],
      "execution_count": 7,
      "outputs": []
    },
    {
      "cell_type": "code",
      "metadata": {
        "colab": {
          "base_uri": "https://localhost:8080/",
          "height": 419
        },
        "id": "d9RB0UN4qWQ9",
        "outputId": "e8998d7c-a9b1-4dd0-921a-ee42f85e68f8"
      },
      "source": [
        "batchFrom=130001\n",
        "batchTo=150001\n",
        "df_1 =results_amend1.iloc[batchFrom:batchTo,:]\n",
        "#[fromRow:toRow,:] \n",
        "#df_1 =results_amend1.iloc[85001:90001,:] \n",
        "#df_1 =results_amend1.iloc[165001:,:] #\n",
        "df_1"
      ],
      "execution_count": 8,
      "outputs": [
        {
          "output_type": "execute_result",
          "data": {
            "text/html": [
              "<div>\n",
              "<style scoped>\n",
              "    .dataframe tbody tr th:only-of-type {\n",
              "        vertical-align: middle;\n",
              "    }\n",
              "\n",
              "    .dataframe tbody tr th {\n",
              "        vertical-align: top;\n",
              "    }\n",
              "\n",
              "    .dataframe thead th {\n",
              "        text-align: right;\n",
              "    }\n",
              "</style>\n",
              "<table border=\"1\" class=\"dataframe\">\n",
              "  <thead>\n",
              "    <tr style=\"text-align: right;\">\n",
              "      <th></th>\n",
              "      <th>unique_id</th>\n",
              "      <th>deed_date</th>\n",
              "      <th>postcode</th>\n",
              "      <th>property_type</th>\n",
              "      <th>saon</th>\n",
              "      <th>paon</th>\n",
              "      <th>street</th>\n",
              "      <th>rm_url1</th>\n",
              "      <th>rm_url2</th>\n",
              "      <th>rm_url3</th>\n",
              "      <th>rm_url4</th>\n",
              "      <th>rm_url5</th>\n",
              "      <th>rm_url6</th>\n",
              "    </tr>\n",
              "  </thead>\n",
              "  <tbody>\n",
              "    <tr>\n",
              "      <th>137906</th>\n",
              "      <td>75050A85-02AE-9A88-E053-6B04A8C02390</td>\n",
              "      <td>23/07/2018</td>\n",
              "      <td>RM3 0UR</td>\n",
              "      <td>S</td>\n",
              "      <td>NaN</td>\n",
              "      <td>37</td>\n",
              "      <td>REDDEN COURT ROAD</td>\n",
              "      <td>RM3-0UR.html?</td>\n",
              "      <td>RM3-0UR.html?page=2</td>\n",
              "      <td>RM- 0UR.html?</td>\n",
              "      <td>RM- 0UR.html?page=2</td>\n",
              "      <td>RM3 -UR.html?</td>\n",
              "      <td>RM3 -UR.html?page=2</td>\n",
              "    </tr>\n",
              "    <tr>\n",
              "      <th>137907</th>\n",
              "      <td>75050A84-FA39-9A88-E053-6B04A8C02390</td>\n",
              "      <td>13/07/2018</td>\n",
              "      <td>RM3 0WJ</td>\n",
              "      <td>F</td>\n",
              "      <td>NaN</td>\n",
              "      <td>26</td>\n",
              "      <td>BENNISON DRIVE</td>\n",
              "      <td>RM3-0WJ.html?</td>\n",
              "      <td>RM3-0WJ.html?page=2</td>\n",
              "      <td>RM- 0WJ.html?</td>\n",
              "      <td>RM- 0WJ.html?page=2</td>\n",
              "      <td>RM3 -WJ.html?</td>\n",
              "      <td>RM3 -WJ.html?page=2</td>\n",
              "    </tr>\n",
              "    <tr>\n",
              "      <th>137908</th>\n",
              "      <td>87E1551E-1692-6405-E053-6C04A8C0B2EE</td>\n",
              "      <td>06/07/2018</td>\n",
              "      <td>RM3 0WT</td>\n",
              "      <td>T</td>\n",
              "      <td>NaN</td>\n",
              "      <td>10</td>\n",
              "      <td>JARVIS WAY</td>\n",
              "      <td>RM3-0WT.html?</td>\n",
              "      <td>RM3-0WT.html?page=2</td>\n",
              "      <td>RM- 0WT.html?</td>\n",
              "      <td>RM- 0WT.html?page=2</td>\n",
              "      <td>RM3 -WT.html?</td>\n",
              "      <td>RM3 -WT.html?page=2</td>\n",
              "    </tr>\n",
              "    <tr>\n",
              "      <th>137909</th>\n",
              "      <td>773788C2-8175-2CE4-E053-6C04A8C05E57</td>\n",
              "      <td>28/08/2018</td>\n",
              "      <td>RM3 0WW</td>\n",
              "      <td>S</td>\n",
              "      <td>NaN</td>\n",
              "      <td>6</td>\n",
              "      <td>EWAN ROAD</td>\n",
              "      <td>RM3-0WW.html?</td>\n",
              "      <td>RM3-0WW.html?page=2</td>\n",
              "      <td>RM- 0WW.html?</td>\n",
              "      <td>RM- 0WW.html?page=2</td>\n",
              "      <td>RM3 -WW.html?</td>\n",
              "      <td>RM3 -WW.html?page=2</td>\n",
              "    </tr>\n",
              "    <tr>\n",
              "      <th>137910</th>\n",
              "      <td>773788C2-801A-2CE4-E053-6C04A8C05E57</td>\n",
              "      <td>31/07/2018</td>\n",
              "      <td>RM3 0XE</td>\n",
              "      <td>T</td>\n",
              "      <td>NaN</td>\n",
              "      <td>41</td>\n",
              "      <td>COPPERFIELDS WAY</td>\n",
              "      <td>RM3-0XE.html?</td>\n",
              "      <td>RM3-0XE.html?page=2</td>\n",
              "      <td>RM- 0XE.html?</td>\n",
              "      <td>RM- 0XE.html?page=2</td>\n",
              "      <td>RM3 -XE.html?</td>\n",
              "      <td>RM3 -XE.html?page=2</td>\n",
              "    </tr>\n",
              "    <tr>\n",
              "      <th>...</th>\n",
              "      <td>...</td>\n",
              "      <td>...</td>\n",
              "      <td>...</td>\n",
              "      <td>...</td>\n",
              "      <td>...</td>\n",
              "      <td>...</td>\n",
              "      <td>...</td>\n",
              "      <td>...</td>\n",
              "      <td>...</td>\n",
              "      <td>...</td>\n",
              "      <td>...</td>\n",
              "      <td>...</td>\n",
              "      <td>...</td>\n",
              "    </tr>\n",
              "    <tr>\n",
              "      <th>159101</th>\n",
              "      <td>75050A85-0537-9A88-E053-6B04A8C02390</td>\n",
              "      <td>07/08/2018</td>\n",
              "      <td>SS14 2NS</td>\n",
              "      <td>T</td>\n",
              "      <td>NaN</td>\n",
              "      <td>180</td>\n",
              "      <td>GREAT SPENDERS</td>\n",
              "      <td>SS1- 2NS.html?</td>\n",
              "      <td>SS1- 2NS.html?page=2</td>\n",
              "      <td>SS-4 2N.html?</td>\n",
              "      <td>SS-4 2N.html?page=2</td>\n",
              "      <td>SS14-2NS.html?</td>\n",
              "      <td>SS14-2NS.html?page=2</td>\n",
              "    </tr>\n",
              "    <tr>\n",
              "      <th>159102</th>\n",
              "      <td>75050A85-024A-9A88-E053-6B04A8C02390</td>\n",
              "      <td>31/07/2018</td>\n",
              "      <td>SS14 2PT</td>\n",
              "      <td>T</td>\n",
              "      <td>NaN</td>\n",
              "      <td>28</td>\n",
              "      <td>CURLING TYE</td>\n",
              "      <td>SS1- 2PT.html?</td>\n",
              "      <td>SS1- 2PT.html?page=2</td>\n",
              "      <td>SS-4 2P.html?</td>\n",
              "      <td>SS-4 2P.html?page=2</td>\n",
              "      <td>SS14-2PT.html?</td>\n",
              "      <td>SS14-2PT.html?page=2</td>\n",
              "    </tr>\n",
              "    <tr>\n",
              "      <th>159103</th>\n",
              "      <td>726BF13A-AAB2-0A46-E053-6C04A8C01D0D</td>\n",
              "      <td>06/07/2018</td>\n",
              "      <td>SS14 2PT</td>\n",
              "      <td>T</td>\n",
              "      <td>NaN</td>\n",
              "      <td>29</td>\n",
              "      <td>CURLING TYE</td>\n",
              "      <td>SS1- 2PT.html?</td>\n",
              "      <td>SS1- 2PT.html?page=2</td>\n",
              "      <td>SS-4 2P.html?</td>\n",
              "      <td>SS-4 2P.html?page=2</td>\n",
              "      <td>SS14-2PT.html?</td>\n",
              "      <td>SS14-2PT.html?page=2</td>\n",
              "    </tr>\n",
              "    <tr>\n",
              "      <th>159104</th>\n",
              "      <td>79A74E21-7F80-1289-E053-6B04A8C01627</td>\n",
              "      <td>20/07/2018</td>\n",
              "      <td>SS14 2PZ</td>\n",
              "      <td>T</td>\n",
              "      <td>NaN</td>\n",
              "      <td>201</td>\n",
              "      <td>CURLING TYE</td>\n",
              "      <td>SS1- 2PZ.html?</td>\n",
              "      <td>SS1- 2PZ.html?page=2</td>\n",
              "      <td>SS-4 2P.html?</td>\n",
              "      <td>SS-4 2P.html?page=2</td>\n",
              "      <td>SS14-2PZ.html?</td>\n",
              "      <td>SS14-2PZ.html?page=2</td>\n",
              "    </tr>\n",
              "    <tr>\n",
              "      <th>159105</th>\n",
              "      <td>773788C2-8B13-2CE4-E053-6C04A8C05E57</td>\n",
              "      <td>22/08/2018</td>\n",
              "      <td>SS14 2RG</td>\n",
              "      <td>S</td>\n",
              "      <td>NaN</td>\n",
              "      <td>44</td>\n",
              "      <td>PATTISWICK SQUARE</td>\n",
              "      <td>SS1- 2RG.html?</td>\n",
              "      <td>SS1- 2RG.html?page=2</td>\n",
              "      <td>SS-4 2R.html?</td>\n",
              "      <td>SS-4 2R.html?page=2</td>\n",
              "      <td>SS14-2RG.html?</td>\n",
              "      <td>SS14-2RG.html?page=2</td>\n",
              "    </tr>\n",
              "  </tbody>\n",
              "</table>\n",
              "<p>20000 rows × 13 columns</p>\n",
              "</div>"
            ],
            "text/plain": [
              "                                   unique_id  ...               rm_url6\n",
              "137906  75050A85-02AE-9A88-E053-6B04A8C02390  ...   RM3 -UR.html?page=2\n",
              "137907  75050A84-FA39-9A88-E053-6B04A8C02390  ...   RM3 -WJ.html?page=2\n",
              "137908  87E1551E-1692-6405-E053-6C04A8C0B2EE  ...   RM3 -WT.html?page=2\n",
              "137909  773788C2-8175-2CE4-E053-6C04A8C05E57  ...   RM3 -WW.html?page=2\n",
              "137910  773788C2-801A-2CE4-E053-6C04A8C05E57  ...   RM3 -XE.html?page=2\n",
              "...                                      ...  ...                   ...\n",
              "159101  75050A85-0537-9A88-E053-6B04A8C02390  ...  SS14-2NS.html?page=2\n",
              "159102  75050A85-024A-9A88-E053-6B04A8C02390  ...  SS14-2PT.html?page=2\n",
              "159103  726BF13A-AAB2-0A46-E053-6C04A8C01D0D  ...  SS14-2PT.html?page=2\n",
              "159104  79A74E21-7F80-1289-E053-6B04A8C01627  ...  SS14-2PZ.html?page=2\n",
              "159105  773788C2-8B13-2CE4-E053-6C04A8C05E57  ...  SS14-2RG.html?page=2\n",
              "\n",
              "[20000 rows x 13 columns]"
            ]
          },
          "metadata": {
            "tags": []
          },
          "execution_count": 8
        }
      ]
    },
    {
      "cell_type": "code",
      "metadata": {
        "id": "bIkYTDeWqkMs"
      },
      "source": [
        "def findBedrooms(a_url, housenum1, housenum2):\n",
        "    r = requests.get(a_url)\n",
        "    c=r.content\n",
        "    # Parse the html content\n",
        "    soup = BeautifulSoup(c,\"html.parser\")\n",
        "    #print('output from url ' + a_url)\n",
        "    main_content = soup.find_all('script')\n",
        "    content_string = str(main_content)\n",
        "    r1= re.findall(r\".address..................|.bedroom.....\", content_string)\n",
        "    #pprint(r1)\n",
        "    r2=re.findall(r\".address..................\", content_string)    \n",
        "    print_bedrooms=\"no\"\n",
        "    countNoOfFinds=0 \n",
        "    my_address='not_found'\n",
        "    my_bedrooms='not_found'\n",
        "    for eachP in r1:  \n",
        "      my_check0=eachP.lower().find('bedroom')\n",
        "      #-----------------------\n",
        "      if  my_check0==-1: \n",
        "        my_check1=eachP.lower().find(housenum1)\n",
        "      else:\n",
        "        my_check1=-1\n",
        "      #-----------------------  \n",
        "      r_test=re.findall('[0-9]+[a-z]?', eachP)\n",
        "      if len(r_test)!=0:\n",
        "         mycheck2=r_test[0] \n",
        "      else:\n",
        "         mycheck2=0\n",
        "      #-----------------------      \n",
        "      if (my_check1!=-1 and mycheck2==housenum2 ) or print_bedrooms==\"yes\" :\n",
        "          print_bedrooms=\"yes\"  \n",
        "          if my_check1==-1  :\n",
        "            countNoOfFinds=countNoOfFinds+1 \n",
        "            print_bedrooms=\"no\"\n",
        "            my_bedrooms=eachP\n",
        "          else:\n",
        "            my_address=eachP  \n",
        "            \n",
        "    return countNoOfFinds, my_address, my_bedrooms        \n",
        "    print('-------------------------------') \n",
        "    print('countNoOfFinds '+ str(countNoOfFinds))\n",
        "    print('-------------------------------')"
      ],
      "execution_count": 9,
      "outputs": []
    },
    {
      "cell_type": "code",
      "metadata": {
        "id": "e9YOkMBgjCPH"
      },
      "source": [
        "def processDF(my_df):\n",
        "  countIdentifiedRecords=0\n",
        "  list_for_bedrooms_table=[]\n",
        "  for row in my_df.itertuples():\n",
        "    url1='https://www.rightmove.co.uk/house-prices/'+row[8]\n",
        "    url2='https://www.rightmove.co.uk/house-prices/'+row[9]\n",
        "    url3='https://www.rightmove.co.uk/house-prices/'+row[10]\n",
        "    url4='https://www.rightmove.co.uk/house-prices/'+row[11]\n",
        "    url5='https://www.rightmove.co.uk/house-prices/'+row[12]\n",
        "    url6='https://www.rightmove.co.uk/house-prices/'+row[13]\n",
        "    url_list = [url1, url2, url3, url4,url5, url6]\n",
        "    bedrooms_table_new_row=[]\n",
        "    propId=row[1] #unique identifier ppd_data\n",
        "    house_num1=(str(row[5])+\" \" +str(row[6])).lower()\n",
        "    if house_num1[0:3]==\"nan\":\n",
        "        house_num1=house_num1[4:]       \n",
        "    find_house_num2= re.findall('[0-9]+[a-z]?', house_num1) \n",
        "    if len(find_house_num2)!=0:\n",
        "      house_num2=find_house_num2[0]\n",
        "      #print(house_num2) #print 3\n",
        "    else:\n",
        "      house_num2 = 0\n",
        "    bedrooms_table_new_row.append(propId)\n",
        "    bedrooms_table_new_row.append(house_num1)\n",
        "    bedrooms_table_new_row.append(house_num2)\n",
        "    this_prop_num_of_finds=0\n",
        "    this_prop_num_of_beds=-1\n",
        "    for each_url in url_list:\n",
        "      containsSpace = \" \" in each_url #for cheking if the url string contains spaces\n",
        "      if not containsSpace:\n",
        "        if this_prop_num_of_finds==0:\n",
        "          countNoOfFinds, my_address, my_bedrooms=findBedrooms(each_url,house_num1,house_num2 )\n",
        "          #print(my_bedrooms)\n",
        "          countIdentifiedRecords=countIdentifiedRecords + countNoOfFinds\n",
        "          #----------------------------------------\n",
        "        else:\n",
        "          countNoOfFinds=0\n",
        "          my_address=\"na\" \n",
        "          my_bedrooms=\"na\" \n",
        "        bedrooms_table_new_row.append(each_url)\n",
        "        bedrooms_table_new_row.append(countNoOfFinds)        \n",
        "        bedrooms_table_new_row.append(my_address)\n",
        "        bedrooms_table_new_row.append(my_bedrooms)\n",
        "        this_prop_num_of_finds=this_prop_num_of_finds+countNoOfFinds\n",
        "        if countNoOfFinds>0:\n",
        "          r_beds=re.findall('[0-9]+', my_bedrooms)\n",
        "          if len(r_beds)!=0:\n",
        "            this_prop_num_of_beds=r_beds[0]\n",
        "\n",
        "    bedrooms_table_new_row.append(this_prop_num_of_finds)\n",
        "    bedrooms_table_new_row.append(this_prop_num_of_beds)      \n",
        "    list_for_bedrooms_table.append(bedrooms_table_new_row) \n",
        "  #print(list_for_bedrooms_table)\n",
        "  return list_for_bedrooms_table"
      ],
      "execution_count": 10,
      "outputs": []
    },
    {
      "cell_type": "code",
      "metadata": {
        "id": "LoGC924TcG9P"
      },
      "source": [
        "def fileOutput(b_from, b_to, a_from, a_to, my_df):\n",
        "  my_file='batch_{}_{}_bedroom_results_{}_{}.csv'.format(b_from, b_to,a_from, a_to)\n",
        "  with open(my_file, 'w') as f:\n",
        "    my_df.to_csv(my_file, index=False)\n",
        "  files.download(my_file)  "
      ],
      "execution_count": 11,
      "outputs": []
    },
    {
      "cell_type": "code",
      "metadata": {
        "id": "OjfDi3RcXtxk"
      },
      "source": [
        "import datetime\n",
        "my_step=2000\n",
        "temp_from=0\n",
        "temp_to=my_step\n",
        "my_size=batchTo-batchFrom"
      ],
      "execution_count": 12,
      "outputs": []
    },
    {
      "cell_type": "code",
      "metadata": {
        "colab": {
          "base_uri": "https://localhost:8080/",
          "height": 187
        },
        "id": "oJFBxXuITcqH",
        "outputId": "a23b48e6-a709-4d13-e474-acd4f60f38d2"
      },
      "source": [
        "#\n",
        "while temp_from<my_size:\n",
        "  df_temp= df_1.iloc[temp_from:temp_to,:]\n",
        "  print(str(temp_from) + \" _ \" + str(temp_to) + ' _ ' +str(datetime.datetime.now()))\n",
        "  my_bedrooms_list=processDF(df_temp)\n",
        "  bedroomsDF = pd.DataFrame(my_bedrooms_list)\n",
        "  bedroomsDF.columns =['id', 'house_num1',  'house_num2','url1', 'num_of_finds1', 'matched_addr1', 'bedrooms1' ,'url2', 'num_of_finds2', 'matched_addr2', 'bedrooms2','overall_num_of_finds','num_of_beds']\n",
        "  fileOutput(batchFrom, batchTo, temp_from, temp_to, bedroomsDF)\n",
        "  temp_from=temp_to\n",
        "  temp_to=temp_from+my_step"
      ],
      "execution_count": 13,
      "outputs": [
        {
          "output_type": "stream",
          "text": [
            "0 _ 2000 _ 2021-07-17 01:03:55.990797\n"
          ],
          "name": "stdout"
        },
        {
          "output_type": "display_data",
          "data": {
            "application/javascript": [
              "\n",
              "    async function download(id, filename, size) {\n",
              "      if (!google.colab.kernel.accessAllowed) {\n",
              "        return;\n",
              "      }\n",
              "      const div = document.createElement('div');\n",
              "      const label = document.createElement('label');\n",
              "      label.textContent = `Downloading \"${filename}\": `;\n",
              "      div.appendChild(label);\n",
              "      const progress = document.createElement('progress');\n",
              "      progress.max = size;\n",
              "      div.appendChild(progress);\n",
              "      document.body.appendChild(div);\n",
              "\n",
              "      const buffers = [];\n",
              "      let downloaded = 0;\n",
              "\n",
              "      const channel = await google.colab.kernel.comms.open(id);\n",
              "      // Send a message to notify the kernel that we're ready.\n",
              "      channel.send({})\n",
              "\n",
              "      for await (const message of channel.messages) {\n",
              "        // Send a message to notify the kernel that we're ready.\n",
              "        channel.send({})\n",
              "        if (message.buffers) {\n",
              "          for (const buffer of message.buffers) {\n",
              "            buffers.push(buffer);\n",
              "            downloaded += buffer.byteLength;\n",
              "            progress.value = downloaded;\n",
              "          }\n",
              "        }\n",
              "      }\n",
              "      const blob = new Blob(buffers, {type: 'application/binary'});\n",
              "      const a = document.createElement('a');\n",
              "      a.href = window.URL.createObjectURL(blob);\n",
              "      a.download = filename;\n",
              "      div.appendChild(a);\n",
              "      a.click();\n",
              "      div.remove();\n",
              "    }\n",
              "  "
            ],
            "text/plain": [
              "<IPython.core.display.Javascript object>"
            ]
          },
          "metadata": {
            "tags": []
          }
        },
        {
          "output_type": "display_data",
          "data": {
            "application/javascript": [
              "download(\"download_572ad9c4-cd16-474a-a0e1-7486146abc61\", \"batch_130001_150001_bedroom_results_0_2000.csv\", 447612)"
            ],
            "text/plain": [
              "<IPython.core.display.Javascript object>"
            ]
          },
          "metadata": {
            "tags": []
          }
        },
        {
          "output_type": "stream",
          "text": [
            "2000 _ 4000 _ 2021-07-17 01:38:52.240438\n"
          ],
          "name": "stdout"
        },
        {
          "output_type": "display_data",
          "data": {
            "application/javascript": [
              "\n",
              "    async function download(id, filename, size) {\n",
              "      if (!google.colab.kernel.accessAllowed) {\n",
              "        return;\n",
              "      }\n",
              "      const div = document.createElement('div');\n",
              "      const label = document.createElement('label');\n",
              "      label.textContent = `Downloading \"${filename}\": `;\n",
              "      div.appendChild(label);\n",
              "      const progress = document.createElement('progress');\n",
              "      progress.max = size;\n",
              "      div.appendChild(progress);\n",
              "      document.body.appendChild(div);\n",
              "\n",
              "      const buffers = [];\n",
              "      let downloaded = 0;\n",
              "\n",
              "      const channel = await google.colab.kernel.comms.open(id);\n",
              "      // Send a message to notify the kernel that we're ready.\n",
              "      channel.send({})\n",
              "\n",
              "      for await (const message of channel.messages) {\n",
              "        // Send a message to notify the kernel that we're ready.\n",
              "        channel.send({})\n",
              "        if (message.buffers) {\n",
              "          for (const buffer of message.buffers) {\n",
              "            buffers.push(buffer);\n",
              "            downloaded += buffer.byteLength;\n",
              "            progress.value = downloaded;\n",
              "          }\n",
              "        }\n",
              "      }\n",
              "      const blob = new Blob(buffers, {type: 'application/binary'});\n",
              "      const a = document.createElement('a');\n",
              "      a.href = window.URL.createObjectURL(blob);\n",
              "      a.download = filename;\n",
              "      div.appendChild(a);\n",
              "      a.click();\n",
              "      div.remove();\n",
              "    }\n",
              "  "
            ],
            "text/plain": [
              "<IPython.core.display.Javascript object>"
            ]
          },
          "metadata": {
            "tags": []
          }
        },
        {
          "output_type": "display_data",
          "data": {
            "application/javascript": [
              "download(\"download_b87fc10c-6829-400c-bd14-53a0f66be097\", \"batch_130001_150001_bedroom_results_2000_4000.csv\", 445726)"
            ],
            "text/plain": [
              "<IPython.core.display.Javascript object>"
            ]
          },
          "metadata": {
            "tags": []
          }
        },
        {
          "output_type": "stream",
          "text": [
            "4000 _ 6000 _ 2021-07-17 02:11:05.386532\n"
          ],
          "name": "stdout"
        },
        {
          "output_type": "display_data",
          "data": {
            "application/javascript": [
              "\n",
              "    async function download(id, filename, size) {\n",
              "      if (!google.colab.kernel.accessAllowed) {\n",
              "        return;\n",
              "      }\n",
              "      const div = document.createElement('div');\n",
              "      const label = document.createElement('label');\n",
              "      label.textContent = `Downloading \"${filename}\": `;\n",
              "      div.appendChild(label);\n",
              "      const progress = document.createElement('progress');\n",
              "      progress.max = size;\n",
              "      div.appendChild(progress);\n",
              "      document.body.appendChild(div);\n",
              "\n",
              "      const buffers = [];\n",
              "      let downloaded = 0;\n",
              "\n",
              "      const channel = await google.colab.kernel.comms.open(id);\n",
              "      // Send a message to notify the kernel that we're ready.\n",
              "      channel.send({})\n",
              "\n",
              "      for await (const message of channel.messages) {\n",
              "        // Send a message to notify the kernel that we're ready.\n",
              "        channel.send({})\n",
              "        if (message.buffers) {\n",
              "          for (const buffer of message.buffers) {\n",
              "            buffers.push(buffer);\n",
              "            downloaded += buffer.byteLength;\n",
              "            progress.value = downloaded;\n",
              "          }\n",
              "        }\n",
              "      }\n",
              "      const blob = new Blob(buffers, {type: 'application/binary'});\n",
              "      const a = document.createElement('a');\n",
              "      a.href = window.URL.createObjectURL(blob);\n",
              "      a.download = filename;\n",
              "      div.appendChild(a);\n",
              "      a.click();\n",
              "      div.remove();\n",
              "    }\n",
              "  "
            ],
            "text/plain": [
              "<IPython.core.display.Javascript object>"
            ]
          },
          "metadata": {
            "tags": []
          }
        },
        {
          "output_type": "display_data",
          "data": {
            "application/javascript": [
              "download(\"download_242e79c2-8ac0-451e-a91c-699a4f1c0fae\", \"batch_130001_150001_bedroom_results_4000_6000.csv\", 449419)"
            ],
            "text/plain": [
              "<IPython.core.display.Javascript object>"
            ]
          },
          "metadata": {
            "tags": []
          }
        },
        {
          "output_type": "stream",
          "text": [
            "6000 _ 8000 _ 2021-07-17 02:42:14.133152\n"
          ],
          "name": "stdout"
        },
        {
          "output_type": "display_data",
          "data": {
            "application/javascript": [
              "\n",
              "    async function download(id, filename, size) {\n",
              "      if (!google.colab.kernel.accessAllowed) {\n",
              "        return;\n",
              "      }\n",
              "      const div = document.createElement('div');\n",
              "      const label = document.createElement('label');\n",
              "      label.textContent = `Downloading \"${filename}\": `;\n",
              "      div.appendChild(label);\n",
              "      const progress = document.createElement('progress');\n",
              "      progress.max = size;\n",
              "      div.appendChild(progress);\n",
              "      document.body.appendChild(div);\n",
              "\n",
              "      const buffers = [];\n",
              "      let downloaded = 0;\n",
              "\n",
              "      const channel = await google.colab.kernel.comms.open(id);\n",
              "      // Send a message to notify the kernel that we're ready.\n",
              "      channel.send({})\n",
              "\n",
              "      for await (const message of channel.messages) {\n",
              "        // Send a message to notify the kernel that we're ready.\n",
              "        channel.send({})\n",
              "        if (message.buffers) {\n",
              "          for (const buffer of message.buffers) {\n",
              "            buffers.push(buffer);\n",
              "            downloaded += buffer.byteLength;\n",
              "            progress.value = downloaded;\n",
              "          }\n",
              "        }\n",
              "      }\n",
              "      const blob = new Blob(buffers, {type: 'application/binary'});\n",
              "      const a = document.createElement('a');\n",
              "      a.href = window.URL.createObjectURL(blob);\n",
              "      a.download = filename;\n",
              "      div.appendChild(a);\n",
              "      a.click();\n",
              "      div.remove();\n",
              "    }\n",
              "  "
            ],
            "text/plain": [
              "<IPython.core.display.Javascript object>"
            ]
          },
          "metadata": {
            "tags": []
          }
        },
        {
          "output_type": "display_data",
          "data": {
            "application/javascript": [
              "download(\"download_dde436b7-6c89-4d23-b71f-a03832f00f19\", \"batch_130001_150001_bedroom_results_6000_8000.csv\", 454867)"
            ],
            "text/plain": [
              "<IPython.core.display.Javascript object>"
            ]
          },
          "metadata": {
            "tags": []
          }
        },
        {
          "output_type": "stream",
          "text": [
            "8000 _ 10000 _ 2021-07-17 03:24:28.120271\n"
          ],
          "name": "stdout"
        },
        {
          "output_type": "display_data",
          "data": {
            "application/javascript": [
              "\n",
              "    async function download(id, filename, size) {\n",
              "      if (!google.colab.kernel.accessAllowed) {\n",
              "        return;\n",
              "      }\n",
              "      const div = document.createElement('div');\n",
              "      const label = document.createElement('label');\n",
              "      label.textContent = `Downloading \"${filename}\": `;\n",
              "      div.appendChild(label);\n",
              "      const progress = document.createElement('progress');\n",
              "      progress.max = size;\n",
              "      div.appendChild(progress);\n",
              "      document.body.appendChild(div);\n",
              "\n",
              "      const buffers = [];\n",
              "      let downloaded = 0;\n",
              "\n",
              "      const channel = await google.colab.kernel.comms.open(id);\n",
              "      // Send a message to notify the kernel that we're ready.\n",
              "      channel.send({})\n",
              "\n",
              "      for await (const message of channel.messages) {\n",
              "        // Send a message to notify the kernel that we're ready.\n",
              "        channel.send({})\n",
              "        if (message.buffers) {\n",
              "          for (const buffer of message.buffers) {\n",
              "            buffers.push(buffer);\n",
              "            downloaded += buffer.byteLength;\n",
              "            progress.value = downloaded;\n",
              "          }\n",
              "        }\n",
              "      }\n",
              "      const blob = new Blob(buffers, {type: 'application/binary'});\n",
              "      const a = document.createElement('a');\n",
              "      a.href = window.URL.createObjectURL(blob);\n",
              "      a.download = filename;\n",
              "      div.appendChild(a);\n",
              "      a.click();\n",
              "      div.remove();\n",
              "    }\n",
              "  "
            ],
            "text/plain": [
              "<IPython.core.display.Javascript object>"
            ]
          },
          "metadata": {
            "tags": []
          }
        },
        {
          "output_type": "display_data",
          "data": {
            "application/javascript": [
              "download(\"download_70eb34d8-ade3-421a-a7fe-15298d1a670b\", \"batch_130001_150001_bedroom_results_8000_10000.csv\", 449388)"
            ],
            "text/plain": [
              "<IPython.core.display.Javascript object>"
            ]
          },
          "metadata": {
            "tags": []
          }
        },
        {
          "output_type": "stream",
          "text": [
            "10000 _ 12000 _ 2021-07-17 04:02:58.791743\n"
          ],
          "name": "stdout"
        },
        {
          "output_type": "display_data",
          "data": {
            "application/javascript": [
              "\n",
              "    async function download(id, filename, size) {\n",
              "      if (!google.colab.kernel.accessAllowed) {\n",
              "        return;\n",
              "      }\n",
              "      const div = document.createElement('div');\n",
              "      const label = document.createElement('label');\n",
              "      label.textContent = `Downloading \"${filename}\": `;\n",
              "      div.appendChild(label);\n",
              "      const progress = document.createElement('progress');\n",
              "      progress.max = size;\n",
              "      div.appendChild(progress);\n",
              "      document.body.appendChild(div);\n",
              "\n",
              "      const buffers = [];\n",
              "      let downloaded = 0;\n",
              "\n",
              "      const channel = await google.colab.kernel.comms.open(id);\n",
              "      // Send a message to notify the kernel that we're ready.\n",
              "      channel.send({})\n",
              "\n",
              "      for await (const message of channel.messages) {\n",
              "        // Send a message to notify the kernel that we're ready.\n",
              "        channel.send({})\n",
              "        if (message.buffers) {\n",
              "          for (const buffer of message.buffers) {\n",
              "            buffers.push(buffer);\n",
              "            downloaded += buffer.byteLength;\n",
              "            progress.value = downloaded;\n",
              "          }\n",
              "        }\n",
              "      }\n",
              "      const blob = new Blob(buffers, {type: 'application/binary'});\n",
              "      const a = document.createElement('a');\n",
              "      a.href = window.URL.createObjectURL(blob);\n",
              "      a.download = filename;\n",
              "      div.appendChild(a);\n",
              "      a.click();\n",
              "      div.remove();\n",
              "    }\n",
              "  "
            ],
            "text/plain": [
              "<IPython.core.display.Javascript object>"
            ]
          },
          "metadata": {
            "tags": []
          }
        },
        {
          "output_type": "display_data",
          "data": {
            "application/javascript": [
              "download(\"download_4cb491ee-36d1-44d9-86a6-57aee9f2153a\", \"batch_130001_150001_bedroom_results_10000_12000.csv\", 449037)"
            ],
            "text/plain": [
              "<IPython.core.display.Javascript object>"
            ]
          },
          "metadata": {
            "tags": []
          }
        },
        {
          "output_type": "stream",
          "text": [
            "12000 _ 14000 _ 2021-07-17 04:37:05.294206\n"
          ],
          "name": "stdout"
        },
        {
          "output_type": "display_data",
          "data": {
            "application/javascript": [
              "\n",
              "    async function download(id, filename, size) {\n",
              "      if (!google.colab.kernel.accessAllowed) {\n",
              "        return;\n",
              "      }\n",
              "      const div = document.createElement('div');\n",
              "      const label = document.createElement('label');\n",
              "      label.textContent = `Downloading \"${filename}\": `;\n",
              "      div.appendChild(label);\n",
              "      const progress = document.createElement('progress');\n",
              "      progress.max = size;\n",
              "      div.appendChild(progress);\n",
              "      document.body.appendChild(div);\n",
              "\n",
              "      const buffers = [];\n",
              "      let downloaded = 0;\n",
              "\n",
              "      const channel = await google.colab.kernel.comms.open(id);\n",
              "      // Send a message to notify the kernel that we're ready.\n",
              "      channel.send({})\n",
              "\n",
              "      for await (const message of channel.messages) {\n",
              "        // Send a message to notify the kernel that we're ready.\n",
              "        channel.send({})\n",
              "        if (message.buffers) {\n",
              "          for (const buffer of message.buffers) {\n",
              "            buffers.push(buffer);\n",
              "            downloaded += buffer.byteLength;\n",
              "            progress.value = downloaded;\n",
              "          }\n",
              "        }\n",
              "      }\n",
              "      const blob = new Blob(buffers, {type: 'application/binary'});\n",
              "      const a = document.createElement('a');\n",
              "      a.href = window.URL.createObjectURL(blob);\n",
              "      a.download = filename;\n",
              "      div.appendChild(a);\n",
              "      a.click();\n",
              "      div.remove();\n",
              "    }\n",
              "  "
            ],
            "text/plain": [
              "<IPython.core.display.Javascript object>"
            ]
          },
          "metadata": {
            "tags": []
          }
        },
        {
          "output_type": "display_data",
          "data": {
            "application/javascript": [
              "download(\"download_572f59e4-7ea5-41a2-869b-1f898750ad31\", \"batch_130001_150001_bedroom_results_12000_14000.csv\", 447620)"
            ],
            "text/plain": [
              "<IPython.core.display.Javascript object>"
            ]
          },
          "metadata": {
            "tags": []
          }
        },
        {
          "output_type": "stream",
          "text": [
            "14000 _ 16000 _ 2021-07-17 05:13:30.115374\n"
          ],
          "name": "stdout"
        },
        {
          "output_type": "display_data",
          "data": {
            "application/javascript": [
              "\n",
              "    async function download(id, filename, size) {\n",
              "      if (!google.colab.kernel.accessAllowed) {\n",
              "        return;\n",
              "      }\n",
              "      const div = document.createElement('div');\n",
              "      const label = document.createElement('label');\n",
              "      label.textContent = `Downloading \"${filename}\": `;\n",
              "      div.appendChild(label);\n",
              "      const progress = document.createElement('progress');\n",
              "      progress.max = size;\n",
              "      div.appendChild(progress);\n",
              "      document.body.appendChild(div);\n",
              "\n",
              "      const buffers = [];\n",
              "      let downloaded = 0;\n",
              "\n",
              "      const channel = await google.colab.kernel.comms.open(id);\n",
              "      // Send a message to notify the kernel that we're ready.\n",
              "      channel.send({})\n",
              "\n",
              "      for await (const message of channel.messages) {\n",
              "        // Send a message to notify the kernel that we're ready.\n",
              "        channel.send({})\n",
              "        if (message.buffers) {\n",
              "          for (const buffer of message.buffers) {\n",
              "            buffers.push(buffer);\n",
              "            downloaded += buffer.byteLength;\n",
              "            progress.value = downloaded;\n",
              "          }\n",
              "        }\n",
              "      }\n",
              "      const blob = new Blob(buffers, {type: 'application/binary'});\n",
              "      const a = document.createElement('a');\n",
              "      a.href = window.URL.createObjectURL(blob);\n",
              "      a.download = filename;\n",
              "      div.appendChild(a);\n",
              "      a.click();\n",
              "      div.remove();\n",
              "    }\n",
              "  "
            ],
            "text/plain": [
              "<IPython.core.display.Javascript object>"
            ]
          },
          "metadata": {
            "tags": []
          }
        },
        {
          "output_type": "display_data",
          "data": {
            "application/javascript": [
              "download(\"download_9b99f545-5504-457d-a006-8c74f17d74dd\", \"batch_130001_150001_bedroom_results_14000_16000.csv\", 448533)"
            ],
            "text/plain": [
              "<IPython.core.display.Javascript object>"
            ]
          },
          "metadata": {
            "tags": []
          }
        },
        {
          "output_type": "stream",
          "text": [
            "16000 _ 18000 _ 2021-07-17 05:48:12.858150\n"
          ],
          "name": "stdout"
        },
        {
          "output_type": "display_data",
          "data": {
            "application/javascript": [
              "\n",
              "    async function download(id, filename, size) {\n",
              "      if (!google.colab.kernel.accessAllowed) {\n",
              "        return;\n",
              "      }\n",
              "      const div = document.createElement('div');\n",
              "      const label = document.createElement('label');\n",
              "      label.textContent = `Downloading \"${filename}\": `;\n",
              "      div.appendChild(label);\n",
              "      const progress = document.createElement('progress');\n",
              "      progress.max = size;\n",
              "      div.appendChild(progress);\n",
              "      document.body.appendChild(div);\n",
              "\n",
              "      const buffers = [];\n",
              "      let downloaded = 0;\n",
              "\n",
              "      const channel = await google.colab.kernel.comms.open(id);\n",
              "      // Send a message to notify the kernel that we're ready.\n",
              "      channel.send({})\n",
              "\n",
              "      for await (const message of channel.messages) {\n",
              "        // Send a message to notify the kernel that we're ready.\n",
              "        channel.send({})\n",
              "        if (message.buffers) {\n",
              "          for (const buffer of message.buffers) {\n",
              "            buffers.push(buffer);\n",
              "            downloaded += buffer.byteLength;\n",
              "            progress.value = downloaded;\n",
              "          }\n",
              "        }\n",
              "      }\n",
              "      const blob = new Blob(buffers, {type: 'application/binary'});\n",
              "      const a = document.createElement('a');\n",
              "      a.href = window.URL.createObjectURL(blob);\n",
              "      a.download = filename;\n",
              "      div.appendChild(a);\n",
              "      a.click();\n",
              "      div.remove();\n",
              "    }\n",
              "  "
            ],
            "text/plain": [
              "<IPython.core.display.Javascript object>"
            ]
          },
          "metadata": {
            "tags": []
          }
        },
        {
          "output_type": "display_data",
          "data": {
            "application/javascript": [
              "download(\"download_4d7632b9-7ce6-45ff-8ad7-104a954e2d8c\", \"batch_130001_150001_bedroom_results_16000_18000.csv\", 452532)"
            ],
            "text/plain": [
              "<IPython.core.display.Javascript object>"
            ]
          },
          "metadata": {
            "tags": []
          }
        },
        {
          "output_type": "stream",
          "text": [
            "18000 _ 20000 _ 2021-07-17 06:26:16.717084\n"
          ],
          "name": "stdout"
        },
        {
          "output_type": "display_data",
          "data": {
            "application/javascript": [
              "\n",
              "    async function download(id, filename, size) {\n",
              "      if (!google.colab.kernel.accessAllowed) {\n",
              "        return;\n",
              "      }\n",
              "      const div = document.createElement('div');\n",
              "      const label = document.createElement('label');\n",
              "      label.textContent = `Downloading \"${filename}\": `;\n",
              "      div.appendChild(label);\n",
              "      const progress = document.createElement('progress');\n",
              "      progress.max = size;\n",
              "      div.appendChild(progress);\n",
              "      document.body.appendChild(div);\n",
              "\n",
              "      const buffers = [];\n",
              "      let downloaded = 0;\n",
              "\n",
              "      const channel = await google.colab.kernel.comms.open(id);\n",
              "      // Send a message to notify the kernel that we're ready.\n",
              "      channel.send({})\n",
              "\n",
              "      for await (const message of channel.messages) {\n",
              "        // Send a message to notify the kernel that we're ready.\n",
              "        channel.send({})\n",
              "        if (message.buffers) {\n",
              "          for (const buffer of message.buffers) {\n",
              "            buffers.push(buffer);\n",
              "            downloaded += buffer.byteLength;\n",
              "            progress.value = downloaded;\n",
              "          }\n",
              "        }\n",
              "      }\n",
              "      const blob = new Blob(buffers, {type: 'application/binary'});\n",
              "      const a = document.createElement('a');\n",
              "      a.href = window.URL.createObjectURL(blob);\n",
              "      a.download = filename;\n",
              "      div.appendChild(a);\n",
              "      a.click();\n",
              "      div.remove();\n",
              "    }\n",
              "  "
            ],
            "text/plain": [
              "<IPython.core.display.Javascript object>"
            ]
          },
          "metadata": {
            "tags": []
          }
        },
        {
          "output_type": "display_data",
          "data": {
            "application/javascript": [
              "download(\"download_7f2efc26-b662-48b3-9802-4abeb9f27f81\", \"batch_130001_150001_bedroom_results_18000_20000.csv\", 448095)"
            ],
            "text/plain": [
              "<IPython.core.display.Javascript object>"
            ]
          },
          "metadata": {
            "tags": []
          }
        }
      ]
    },
    {
      "cell_type": "markdown",
      "metadata": {
        "id": "0Vi3v1Xuto0D"
      },
      "source": [
        "# New section"
      ]
    }
  ]
}
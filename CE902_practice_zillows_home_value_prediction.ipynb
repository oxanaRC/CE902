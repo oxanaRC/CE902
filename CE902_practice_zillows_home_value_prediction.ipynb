{
  "nbformat": 4,
  "nbformat_minor": 0,
  "metadata": {
    "colab": {
      "name": "CE902_practice_zillows_home_value_prediction.ipynb",
      "provenance": [],
      "collapsed_sections": [],
      "authorship_tag": "ABX9TyNj94XXZ17sK/+jF08//9E1",
      "include_colab_link": true
    },
    "kernelspec": {
      "name": "python3",
      "display_name": "Python 3"
    },
    "language_info": {
      "name": "python"
    },
    "accelerator": "GPU"
  },
  "cells": [
    {
      "cell_type": "markdown",
      "metadata": {
        "id": "view-in-github",
        "colab_type": "text"
      },
      "source": [
        "<a href=\"https://colab.research.google.com/github/oxanaRC/CE902/blob/main/CE902_practice_zillows_home_value_prediction.ipynb\" target=\"_parent\"><img src=\"https://colab.research.google.com/assets/colab-badge.svg\" alt=\"Open In Colab\"/></a>"
      ]
    },
    {
      "cell_type": "code",
      "metadata": {
        "colab": {
          "base_uri": "https://localhost:8080/"
        },
        "id": "2RRM8qGoiXgi",
        "outputId": "766034c6-1c19-4b31-8c15-dbf8fe1e2d60"
      },
      "source": [
        "# to see path of our current directory\n",
        "!pwd"
      ],
      "execution_count": 1,
      "outputs": [
        {
          "output_type": "stream",
          "text": [
            "/content\n"
          ],
          "name": "stdout"
        }
      ]
    },
    {
      "cell_type": "markdown",
      "metadata": {
        "id": "GVY4X4T8bDeo"
      },
      "source": [
        "Importing dataset:"
      ]
    },
    {
      "cell_type": "code",
      "metadata": {
        "colab": {
          "base_uri": "https://localhost:8080/"
        },
        "id": "Nm2G-wmwrba0",
        "outputId": "581ce2ae-604a-45e9-a7cc-bb63ce2b7ab0"
      },
      "source": [
        "!git clone https://github.com/oxanaRC/CE902.git"
      ],
      "execution_count": 3,
      "outputs": [
        {
          "output_type": "stream",
          "text": [
            "fatal: destination path 'CE902' already exists and is not an empty directory.\n"
          ],
          "name": "stdout"
        }
      ]
    },
    {
      "cell_type": "markdown",
      "metadata": {
        "id": "qxowqls2bTy2"
      },
      "source": [
        "listing of the current directory:"
      ]
    },
    {
      "cell_type": "code",
      "metadata": {
        "colab": {
          "base_uri": "https://localhost:8080/"
        },
        "id": "sKb2mc_Ks3d4",
        "outputId": "c8ff89f8-cfbf-4e6a-b978-91fde330af10"
      },
      "source": [
        "!ls"
      ],
      "execution_count": 5,
      "outputs": [
        {
          "output_type": "stream",
          "text": [
            "CE902  sample_data\n"
          ],
          "name": "stdout"
        }
      ]
    },
    {
      "cell_type": "markdown",
      "metadata": {
        "id": "hMnefJ0efTmL"
      },
      "source": [
        "exploring and pre-processing the data:"
      ]
    },
    {
      "cell_type": "code",
      "metadata": {
        "id": "Mfun1nzgtPOv"
      },
      "source": [
        "import pandas as pd\n"
      ],
      "execution_count": 6,
      "outputs": []
    },
    {
      "cell_type": "code",
      "metadata": {
        "id": "VKGgNfFbtggu"
      },
      "source": [
        "df = pd.read_csv('CE902/housepricedata.csv')"
      ],
      "execution_count": 7,
      "outputs": []
    },
    {
      "cell_type": "code",
      "metadata": {
        "colab": {
          "base_uri": "https://localhost:8080/",
          "height": 419
        },
        "id": "dA3sbjPuuDVO",
        "outputId": "d4b7e9df-8e55-4764-ddfe-b2d60d4c79f7"
      },
      "source": [
        "df"
      ],
      "execution_count": 8,
      "outputs": [
        {
          "output_type": "execute_result",
          "data": {
            "text/html": [
              "<div>\n",
              "<style scoped>\n",
              "    .dataframe tbody tr th:only-of-type {\n",
              "        vertical-align: middle;\n",
              "    }\n",
              "\n",
              "    .dataframe tbody tr th {\n",
              "        vertical-align: top;\n",
              "    }\n",
              "\n",
              "    .dataframe thead th {\n",
              "        text-align: right;\n",
              "    }\n",
              "</style>\n",
              "<table border=\"1\" class=\"dataframe\">\n",
              "  <thead>\n",
              "    <tr style=\"text-align: right;\">\n",
              "      <th></th>\n",
              "      <th>LotArea</th>\n",
              "      <th>OverallQual</th>\n",
              "      <th>OverallCond</th>\n",
              "      <th>TotalBsmtSF</th>\n",
              "      <th>FullBath</th>\n",
              "      <th>HalfBath</th>\n",
              "      <th>BedroomAbvGr</th>\n",
              "      <th>TotRmsAbvGrd</th>\n",
              "      <th>Fireplaces</th>\n",
              "      <th>GarageArea</th>\n",
              "      <th>AboveMedianPrice</th>\n",
              "    </tr>\n",
              "  </thead>\n",
              "  <tbody>\n",
              "    <tr>\n",
              "      <th>0</th>\n",
              "      <td>8450</td>\n",
              "      <td>7</td>\n",
              "      <td>5</td>\n",
              "      <td>856</td>\n",
              "      <td>2</td>\n",
              "      <td>1</td>\n",
              "      <td>3</td>\n",
              "      <td>8</td>\n",
              "      <td>0</td>\n",
              "      <td>548</td>\n",
              "      <td>1</td>\n",
              "    </tr>\n",
              "    <tr>\n",
              "      <th>1</th>\n",
              "      <td>9600</td>\n",
              "      <td>6</td>\n",
              "      <td>8</td>\n",
              "      <td>1262</td>\n",
              "      <td>2</td>\n",
              "      <td>0</td>\n",
              "      <td>3</td>\n",
              "      <td>6</td>\n",
              "      <td>1</td>\n",
              "      <td>460</td>\n",
              "      <td>1</td>\n",
              "    </tr>\n",
              "    <tr>\n",
              "      <th>2</th>\n",
              "      <td>11250</td>\n",
              "      <td>7</td>\n",
              "      <td>5</td>\n",
              "      <td>920</td>\n",
              "      <td>2</td>\n",
              "      <td>1</td>\n",
              "      <td>3</td>\n",
              "      <td>6</td>\n",
              "      <td>1</td>\n",
              "      <td>608</td>\n",
              "      <td>1</td>\n",
              "    </tr>\n",
              "    <tr>\n",
              "      <th>3</th>\n",
              "      <td>9550</td>\n",
              "      <td>7</td>\n",
              "      <td>5</td>\n",
              "      <td>756</td>\n",
              "      <td>1</td>\n",
              "      <td>0</td>\n",
              "      <td>3</td>\n",
              "      <td>7</td>\n",
              "      <td>1</td>\n",
              "      <td>642</td>\n",
              "      <td>0</td>\n",
              "    </tr>\n",
              "    <tr>\n",
              "      <th>4</th>\n",
              "      <td>14260</td>\n",
              "      <td>8</td>\n",
              "      <td>5</td>\n",
              "      <td>1145</td>\n",
              "      <td>2</td>\n",
              "      <td>1</td>\n",
              "      <td>4</td>\n",
              "      <td>9</td>\n",
              "      <td>1</td>\n",
              "      <td>836</td>\n",
              "      <td>1</td>\n",
              "    </tr>\n",
              "    <tr>\n",
              "      <th>...</th>\n",
              "      <td>...</td>\n",
              "      <td>...</td>\n",
              "      <td>...</td>\n",
              "      <td>...</td>\n",
              "      <td>...</td>\n",
              "      <td>...</td>\n",
              "      <td>...</td>\n",
              "      <td>...</td>\n",
              "      <td>...</td>\n",
              "      <td>...</td>\n",
              "      <td>...</td>\n",
              "    </tr>\n",
              "    <tr>\n",
              "      <th>1455</th>\n",
              "      <td>7917</td>\n",
              "      <td>6</td>\n",
              "      <td>5</td>\n",
              "      <td>953</td>\n",
              "      <td>2</td>\n",
              "      <td>1</td>\n",
              "      <td>3</td>\n",
              "      <td>7</td>\n",
              "      <td>1</td>\n",
              "      <td>460</td>\n",
              "      <td>1</td>\n",
              "    </tr>\n",
              "    <tr>\n",
              "      <th>1456</th>\n",
              "      <td>13175</td>\n",
              "      <td>6</td>\n",
              "      <td>6</td>\n",
              "      <td>1542</td>\n",
              "      <td>2</td>\n",
              "      <td>0</td>\n",
              "      <td>3</td>\n",
              "      <td>7</td>\n",
              "      <td>2</td>\n",
              "      <td>500</td>\n",
              "      <td>1</td>\n",
              "    </tr>\n",
              "    <tr>\n",
              "      <th>1457</th>\n",
              "      <td>9042</td>\n",
              "      <td>7</td>\n",
              "      <td>9</td>\n",
              "      <td>1152</td>\n",
              "      <td>2</td>\n",
              "      <td>0</td>\n",
              "      <td>4</td>\n",
              "      <td>9</td>\n",
              "      <td>2</td>\n",
              "      <td>252</td>\n",
              "      <td>1</td>\n",
              "    </tr>\n",
              "    <tr>\n",
              "      <th>1458</th>\n",
              "      <td>9717</td>\n",
              "      <td>5</td>\n",
              "      <td>6</td>\n",
              "      <td>1078</td>\n",
              "      <td>1</td>\n",
              "      <td>0</td>\n",
              "      <td>2</td>\n",
              "      <td>5</td>\n",
              "      <td>0</td>\n",
              "      <td>240</td>\n",
              "      <td>0</td>\n",
              "    </tr>\n",
              "    <tr>\n",
              "      <th>1459</th>\n",
              "      <td>9937</td>\n",
              "      <td>5</td>\n",
              "      <td>6</td>\n",
              "      <td>1256</td>\n",
              "      <td>1</td>\n",
              "      <td>1</td>\n",
              "      <td>3</td>\n",
              "      <td>6</td>\n",
              "      <td>0</td>\n",
              "      <td>276</td>\n",
              "      <td>0</td>\n",
              "    </tr>\n",
              "  </tbody>\n",
              "</table>\n",
              "<p>1460 rows × 11 columns</p>\n",
              "</div>"
            ],
            "text/plain": [
              "      LotArea  OverallQual  ...  GarageArea  AboveMedianPrice\n",
              "0        8450            7  ...         548                 1\n",
              "1        9600            6  ...         460                 1\n",
              "2       11250            7  ...         608                 1\n",
              "3        9550            7  ...         642                 0\n",
              "4       14260            8  ...         836                 1\n",
              "...       ...          ...  ...         ...               ...\n",
              "1455     7917            6  ...         460                 1\n",
              "1456    13175            6  ...         500                 1\n",
              "1457     9042            7  ...         252                 1\n",
              "1458     9717            5  ...         240                 0\n",
              "1459     9937            5  ...         276                 0\n",
              "\n",
              "[1460 rows x 11 columns]"
            ]
          },
          "metadata": {
            "tags": []
          },
          "execution_count": 8
        }
      ]
    },
    {
      "cell_type": "markdown",
      "metadata": {
        "id": "PKmYAIjWuYsV"
      },
      "source": [
        "**Features:**\n",
        "Lot Area (in sq ft)\n",
        "Overall Quality (scale from 1 to 10)\n",
        "Overall Condition (scale from 1 to 10)\n",
        "Total Basement Area (in sq ft)\n",
        "Number of Full Bathrooms\n",
        "Number of Half Bathrooms\n",
        "Number of Bedrooms above ground\n",
        "Total Number of Rooms above ground\n",
        "Number of Fireplaces\n",
        "Garage Area (in sq ft)\n",
        "\n",
        "**In our last column, we have the feature that we would like to predict:**\n",
        "\n",
        "Is the house price above the median or not? (1 for yes and 0 for no)"
      ]
    },
    {
      "cell_type": "code",
      "metadata": {
        "id": "mBDbRraTBuGH"
      },
      "source": [
        "dataset = df.values\n"
      ],
      "execution_count": 9,
      "outputs": []
    },
    {
      "cell_type": "code",
      "metadata": {
        "colab": {
          "base_uri": "https://localhost:8080/"
        },
        "id": "tYVOLpedCGSt",
        "outputId": "9817542b-c8be-4575-c54d-209749832b43"
      },
      "source": [
        "dataset"
      ],
      "execution_count": 10,
      "outputs": [
        {
          "output_type": "execute_result",
          "data": {
            "text/plain": [
              "array([[ 8450,     7,     5, ...,     0,   548,     1],\n",
              "       [ 9600,     6,     8, ...,     1,   460,     1],\n",
              "       [11250,     7,     5, ...,     1,   608,     1],\n",
              "       ...,\n",
              "       [ 9042,     7,     9, ...,     2,   252,     1],\n",
              "       [ 9717,     5,     6, ...,     0,   240,     0],\n",
              "       [ 9937,     5,     6, ...,     0,   276,     0]])"
            ]
          },
          "metadata": {
            "tags": []
          },
          "execution_count": 10
        }
      ]
    },
    {
      "cell_type": "markdown",
      "metadata": {
        "id": "oRVtYiujCfmV"
      },
      "source": [
        "Splitting the dataset into input features (X) and the feature we wish to predict (Y)."
      ]
    },
    {
      "cell_type": "code",
      "metadata": {
        "id": "VYdGqgA5Cmmk"
      },
      "source": [
        "X = dataset[:,0:10]\n",
        "Y = dataset[:,10]"
      ],
      "execution_count": 11,
      "outputs": []
    },
    {
      "cell_type": "markdown",
      "metadata": {
        "id": "-EMkYZpzC5MV"
      },
      "source": [
        "Scaling of the input features are similar. (Right now, features such as lot area are in the order of the thousands, a score for overall quality is ranged from 1 to 10, and the number of fireplaces tend to be 0, 1 or 2)\n",
        "Using scikit-learn library for scaling the data."
      ]
    },
    {
      "cell_type": "code",
      "metadata": {
        "id": "YhC2hVhGDZHZ"
      },
      "source": [
        "from sklearn import preprocessing\n"
      ],
      "execution_count": 12,
      "outputs": []
    },
    {
      "cell_type": "code",
      "metadata": {
        "id": "OQXvMxYvDlZC"
      },
      "source": [
        "min_max_scaler = preprocessing.MinMaxScaler()\n",
        "X_scale = min_max_scaler.fit_transform(X)"
      ],
      "execution_count": 13,
      "outputs": []
    },
    {
      "cell_type": "code",
      "metadata": {
        "colab": {
          "base_uri": "https://localhost:8080/"
        },
        "id": "zndq3TfeD55N",
        "outputId": "482a51ed-a560-4623-da8d-c8e553c0d551"
      },
      "source": [
        "X_scale\n"
      ],
      "execution_count": 14,
      "outputs": [
        {
          "output_type": "execute_result",
          "data": {
            "text/plain": [
              "array([[0.0334198 , 0.66666667, 0.5       , ..., 0.5       , 0.        ,\n",
              "        0.3864598 ],\n",
              "       [0.03879502, 0.55555556, 0.875     , ..., 0.33333333, 0.33333333,\n",
              "        0.32440056],\n",
              "       [0.04650728, 0.66666667, 0.5       , ..., 0.33333333, 0.33333333,\n",
              "        0.42877292],\n",
              "       ...,\n",
              "       [0.03618687, 0.66666667, 1.        , ..., 0.58333333, 0.66666667,\n",
              "        0.17771509],\n",
              "       [0.03934189, 0.44444444, 0.625     , ..., 0.25      , 0.        ,\n",
              "        0.16925247],\n",
              "       [0.04037019, 0.44444444, 0.625     , ..., 0.33333333, 0.        ,\n",
              "        0.19464034]])"
            ]
          },
          "metadata": {
            "tags": []
          },
          "execution_count": 14
        }
      ]
    },
    {
      "cell_type": "markdown",
      "metadata": {
        "id": "UigaJXPcENSy"
      },
      "source": [
        "Splitting data into training, testing and validation datasets"
      ]
    },
    {
      "cell_type": "code",
      "metadata": {
        "id": "acajrXzKESe6"
      },
      "source": [
        "from sklearn.model_selection import train_test_split"
      ],
      "execution_count": 15,
      "outputs": []
    },
    {
      "cell_type": "code",
      "metadata": {
        "id": "NiCaD89wEZPK"
      },
      "source": [
        "X_train, X_val_and_test, Y_train, Y_val_and_test = train_test_split(X_scale, Y, test_size=0.3)"
      ],
      "execution_count": 16,
      "outputs": []
    },
    {
      "cell_type": "code",
      "metadata": {
        "id": "AsNZ8jUxFZCf"
      },
      "source": [
        "X_val, X_test, Y_val, Y_test = train_test_split(X_val_and_test, Y_val_and_test, test_size=0.5)"
      ],
      "execution_count": 17,
      "outputs": []
    },
    {
      "cell_type": "markdown",
      "metadata": {
        "id": "7JF69uMqE_VK"
      },
      "source": [
        "The code above splits the val_and_test size equally to the validation set and the test set.\n",
        "\n",
        "In summary, we now have a total of six variables:\n",
        "\n",
        "X_train (10 input features, 70% of full dataset)\n",
        "X_val (10 input features, 15% of full dataset)\n",
        "X_test (10 input features, 15% of full dataset)\n",
        "Y_train (1 label, 70% of full dataset)\n",
        "Y_val (1 label, 15% of full dataset)\n",
        "Y_test (1 label, 15% of full dataset)"
      ]
    },
    {
      "cell_type": "code",
      "metadata": {
        "colab": {
          "base_uri": "https://localhost:8080/"
        },
        "id": "aIGESCWEFwpp",
        "outputId": "520c3868-f30d-4f96-8c80-cc8687a5235f"
      },
      "source": [
        "print(X_train.shape, X_val.shape, X_test.shape, Y_train.shape, Y_val.shape, Y_test.shape)"
      ],
      "execution_count": 18,
      "outputs": [
        {
          "output_type": "stream",
          "text": [
            "(1022, 10) (219, 10) (219, 10) (1022,) (219,) (219,)\n"
          ],
          "name": "stdout"
        }
      ]
    },
    {
      "cell_type": "markdown",
      "metadata": {
        "id": "jVYGdtb7F5zx"
      },
      "source": [
        "The training set has 1022 data points while the validation and test set has 219 data points each. The X variables have 10 input features, while the Y variables only has one feature to predict."
      ]
    },
    {
      "cell_type": "markdown",
      "metadata": {
        "id": "y1Qpo-BbGMni"
      },
      "source": [
        "Setting up the neural network using Keras.\n",
        "\n",
        "Hidden layer 1: 32 neurons, ReLU activation\n",
        "Hidden layer 2: 32 neurons, ReLU activation\n",
        "Output Layer: 1 neuron, Sigmoid activation\n",
        "\n",
        "Using Sequential model: describing the layers above in sequence."
      ]
    },
    {
      "cell_type": "code",
      "metadata": {
        "id": "tv_Lb98iGEhY"
      },
      "source": [
        "from keras.models import Sequential\n",
        "from keras.layers import Dense"
      ],
      "execution_count": 19,
      "outputs": []
    },
    {
      "cell_type": "code",
      "metadata": {
        "id": "33TkO7NcG9BH"
      },
      "source": [
        "model = Sequential([\n",
        "    Dense(32, activation='relu', input_shape=(10,)),\n",
        "    Dense(32, activation='relu'),\n",
        "    Dense(1, activation='sigmoid'),\n",
        "])"
      ],
      "execution_count": 20,
      "outputs": []
    },
    {
      "cell_type": "markdown",
      "metadata": {
        "id": "EjRcVHJuHQeJ"
      },
      "source": [
        "Specifying which algorithm to use for optimization (sgd - stochastic gradient descent).\n",
        "\n",
        "Specifying which loss function to use (binary cross entropy - values 1 or 0).\n",
        "\n",
        "Specifying what other metrics you to track apart from the loss function."
      ]
    },
    {
      "cell_type": "code",
      "metadata": {
        "id": "xlmMlYnjX7bd"
      },
      "source": [
        "model.compile(optimizer='sgd',\n",
        "              loss='binary_crossentropy',\n",
        "              metrics=['accuracy'])\n"
      ],
      "execution_count": 21,
      "outputs": []
    },
    {
      "cell_type": "markdown",
      "metadata": {
        "id": "dteMUf-jYXwz"
      },
      "source": [
        "Training. Fitting training data to the model."
      ]
    },
    {
      "cell_type": "code",
      "metadata": {
        "colab": {
          "base_uri": "https://localhost:8080/"
        },
        "id": "JGHc8cCxYfQs",
        "outputId": "ecb018f3-c27e-43ed-dcd8-79b49b2bf672"
      },
      "source": [
        "hist = model.fit(X_train, Y_train,\n",
        "          batch_size=32, epochs=100,\n",
        "          validation_data=(X_val, Y_val))"
      ],
      "execution_count": 22,
      "outputs": [
        {
          "output_type": "stream",
          "text": [
            "Epoch 1/100\n",
            "32/32 [==============================] - 4s 14ms/step - loss: 0.7115 - accuracy: 0.4484 - val_loss: 0.6943 - val_accuracy: 0.4977\n",
            "Epoch 2/100\n",
            "32/32 [==============================] - 0s 3ms/step - loss: 0.6871 - accuracy: 0.5864 - val_loss: 0.6863 - val_accuracy: 0.5160\n",
            "Epoch 3/100\n",
            "32/32 [==============================] - 0s 3ms/step - loss: 0.6781 - accuracy: 0.5665 - val_loss: 0.6798 - val_accuracy: 0.5160\n",
            "Epoch 4/100\n",
            "32/32 [==============================] - 0s 3ms/step - loss: 0.6695 - accuracy: 0.5390 - val_loss: 0.6736 - val_accuracy: 0.5205\n",
            "Epoch 5/100\n",
            "32/32 [==============================] - 0s 3ms/step - loss: 0.6586 - accuracy: 0.5471 - val_loss: 0.6671 - val_accuracy: 0.5205\n",
            "Epoch 6/100\n",
            "32/32 [==============================] - 0s 3ms/step - loss: 0.6526 - accuracy: 0.5689 - val_loss: 0.6608 - val_accuracy: 0.5434\n",
            "Epoch 7/100\n",
            "32/32 [==============================] - 0s 3ms/step - loss: 0.6435 - accuracy: 0.5937 - val_loss: 0.6537 - val_accuracy: 0.6119\n",
            "Epoch 8/100\n",
            "32/32 [==============================] - 0s 3ms/step - loss: 0.6484 - accuracy: 0.6251 - val_loss: 0.6474 - val_accuracy: 0.6119\n",
            "Epoch 9/100\n",
            "32/32 [==============================] - 0s 3ms/step - loss: 0.6313 - accuracy: 0.6449 - val_loss: 0.6395 - val_accuracy: 0.6438\n",
            "Epoch 10/100\n",
            "32/32 [==============================] - 0s 3ms/step - loss: 0.6302 - accuracy: 0.6801 - val_loss: 0.6313 - val_accuracy: 0.6986\n",
            "Epoch 11/100\n",
            "32/32 [==============================] - 0s 3ms/step - loss: 0.6213 - accuracy: 0.7198 - val_loss: 0.6221 - val_accuracy: 0.7306\n",
            "Epoch 12/100\n",
            "32/32 [==============================] - 0s 3ms/step - loss: 0.6104 - accuracy: 0.7520 - val_loss: 0.6127 - val_accuracy: 0.7534\n",
            "Epoch 13/100\n",
            "32/32 [==============================] - 0s 3ms/step - loss: 0.6051 - accuracy: 0.7610 - val_loss: 0.6029 - val_accuracy: 0.7900\n",
            "Epoch 14/100\n",
            "32/32 [==============================] - 0s 3ms/step - loss: 0.5879 - accuracy: 0.8139 - val_loss: 0.5933 - val_accuracy: 0.7900\n",
            "Epoch 15/100\n",
            "32/32 [==============================] - 0s 3ms/step - loss: 0.5831 - accuracy: 0.8146 - val_loss: 0.5833 - val_accuracy: 0.7945\n",
            "Epoch 16/100\n",
            "32/32 [==============================] - 0s 3ms/step - loss: 0.5739 - accuracy: 0.8130 - val_loss: 0.5730 - val_accuracy: 0.8037\n",
            "Epoch 17/100\n",
            "32/32 [==============================] - 0s 3ms/step - loss: 0.5603 - accuracy: 0.8224 - val_loss: 0.5629 - val_accuracy: 0.8037\n",
            "Epoch 18/100\n",
            "32/32 [==============================] - 0s 3ms/step - loss: 0.5553 - accuracy: 0.8256 - val_loss: 0.5523 - val_accuracy: 0.8219\n",
            "Epoch 19/100\n",
            "32/32 [==============================] - 0s 3ms/step - loss: 0.5486 - accuracy: 0.8315 - val_loss: 0.5426 - val_accuracy: 0.8128\n",
            "Epoch 20/100\n",
            "32/32 [==============================] - 0s 3ms/step - loss: 0.5298 - accuracy: 0.8338 - val_loss: 0.5317 - val_accuracy: 0.8356\n",
            "Epoch 21/100\n",
            "32/32 [==============================] - 0s 3ms/step - loss: 0.5240 - accuracy: 0.8442 - val_loss: 0.5224 - val_accuracy: 0.8265\n",
            "Epoch 22/100\n",
            "32/32 [==============================] - 0s 3ms/step - loss: 0.5111 - accuracy: 0.8457 - val_loss: 0.5109 - val_accuracy: 0.8493\n",
            "Epoch 23/100\n",
            "32/32 [==============================] - 0s 3ms/step - loss: 0.4974 - accuracy: 0.8642 - val_loss: 0.4999 - val_accuracy: 0.8539\n",
            "Epoch 24/100\n",
            "32/32 [==============================] - 0s 3ms/step - loss: 0.4999 - accuracy: 0.8420 - val_loss: 0.4901 - val_accuracy: 0.8539\n",
            "Epoch 25/100\n",
            "32/32 [==============================] - 0s 3ms/step - loss: 0.4774 - accuracy: 0.8527 - val_loss: 0.4803 - val_accuracy: 0.8584\n",
            "Epoch 26/100\n",
            "32/32 [==============================] - 0s 3ms/step - loss: 0.4616 - accuracy: 0.8630 - val_loss: 0.4704 - val_accuracy: 0.8539\n",
            "Epoch 27/100\n",
            "32/32 [==============================] - 0s 3ms/step - loss: 0.4716 - accuracy: 0.8471 - val_loss: 0.4614 - val_accuracy: 0.8584\n",
            "Epoch 28/100\n",
            "32/32 [==============================] - 0s 3ms/step - loss: 0.4503 - accuracy: 0.8533 - val_loss: 0.4509 - val_accuracy: 0.8447\n",
            "Epoch 29/100\n",
            "32/32 [==============================] - 0s 3ms/step - loss: 0.4514 - accuracy: 0.8501 - val_loss: 0.4429 - val_accuracy: 0.8539\n",
            "Epoch 30/100\n",
            "32/32 [==============================] - 0s 3ms/step - loss: 0.4249 - accuracy: 0.8786 - val_loss: 0.4337 - val_accuracy: 0.8402\n",
            "Epoch 31/100\n",
            "32/32 [==============================] - 0s 3ms/step - loss: 0.4302 - accuracy: 0.8665 - val_loss: 0.4261 - val_accuracy: 0.8447\n",
            "Epoch 32/100\n",
            "32/32 [==============================] - 0s 3ms/step - loss: 0.4160 - accuracy: 0.8667 - val_loss: 0.4178 - val_accuracy: 0.8402\n",
            "Epoch 33/100\n",
            "32/32 [==============================] - 0s 3ms/step - loss: 0.4066 - accuracy: 0.8835 - val_loss: 0.4099 - val_accuracy: 0.8356\n",
            "Epoch 34/100\n",
            "32/32 [==============================] - 0s 3ms/step - loss: 0.4113 - accuracy: 0.8741 - val_loss: 0.4041 - val_accuracy: 0.8402\n",
            "Epoch 35/100\n",
            "32/32 [==============================] - 0s 3ms/step - loss: 0.3931 - accuracy: 0.8799 - val_loss: 0.3969 - val_accuracy: 0.8356\n",
            "Epoch 36/100\n",
            "32/32 [==============================] - 0s 3ms/step - loss: 0.3801 - accuracy: 0.8923 - val_loss: 0.3901 - val_accuracy: 0.8356\n",
            "Epoch 37/100\n",
            "32/32 [==============================] - 0s 3ms/step - loss: 0.3737 - accuracy: 0.8775 - val_loss: 0.3834 - val_accuracy: 0.8493\n",
            "Epoch 38/100\n",
            "32/32 [==============================] - 0s 3ms/step - loss: 0.3787 - accuracy: 0.8797 - val_loss: 0.3795 - val_accuracy: 0.8356\n",
            "Epoch 39/100\n",
            "32/32 [==============================] - 0s 3ms/step - loss: 0.3681 - accuracy: 0.8830 - val_loss: 0.3736 - val_accuracy: 0.8356\n",
            "Epoch 40/100\n",
            "32/32 [==============================] - 0s 3ms/step - loss: 0.3664 - accuracy: 0.8766 - val_loss: 0.3703 - val_accuracy: 0.8402\n",
            "Epoch 41/100\n",
            "32/32 [==============================] - 0s 4ms/step - loss: 0.3505 - accuracy: 0.8904 - val_loss: 0.3629 - val_accuracy: 0.8493\n",
            "Epoch 42/100\n",
            "32/32 [==============================] - 0s 3ms/step - loss: 0.3398 - accuracy: 0.8968 - val_loss: 0.3598 - val_accuracy: 0.8402\n",
            "Epoch 43/100\n",
            "32/32 [==============================] - 0s 3ms/step - loss: 0.3542 - accuracy: 0.8611 - val_loss: 0.3556 - val_accuracy: 0.8402\n",
            "Epoch 44/100\n",
            "32/32 [==============================] - 0s 3ms/step - loss: 0.3519 - accuracy: 0.8897 - val_loss: 0.3517 - val_accuracy: 0.8402\n",
            "Epoch 45/100\n",
            "32/32 [==============================] - 0s 3ms/step - loss: 0.3405 - accuracy: 0.8812 - val_loss: 0.3471 - val_accuracy: 0.8447\n",
            "Epoch 46/100\n",
            "32/32 [==============================] - 0s 3ms/step - loss: 0.3368 - accuracy: 0.8874 - val_loss: 0.3436 - val_accuracy: 0.8356\n",
            "Epoch 47/100\n",
            "32/32 [==============================] - 0s 3ms/step - loss: 0.3326 - accuracy: 0.8861 - val_loss: 0.3415 - val_accuracy: 0.8402\n",
            "Epoch 48/100\n",
            "32/32 [==============================] - 0s 3ms/step - loss: 0.3211 - accuracy: 0.8930 - val_loss: 0.3392 - val_accuracy: 0.8493\n",
            "Epoch 49/100\n",
            "32/32 [==============================] - 0s 3ms/step - loss: 0.3242 - accuracy: 0.8967 - val_loss: 0.3354 - val_accuracy: 0.8402\n",
            "Epoch 50/100\n",
            "32/32 [==============================] - 0s 3ms/step - loss: 0.3442 - accuracy: 0.8688 - val_loss: 0.3324 - val_accuracy: 0.8493\n",
            "Epoch 51/100\n",
            "32/32 [==============================] - 0s 3ms/step - loss: 0.3430 - accuracy: 0.8775 - val_loss: 0.3294 - val_accuracy: 0.8447\n",
            "Epoch 52/100\n",
            "32/32 [==============================] - 0s 3ms/step - loss: 0.3446 - accuracy: 0.8817 - val_loss: 0.3280 - val_accuracy: 0.8539\n",
            "Epoch 53/100\n",
            "32/32 [==============================] - 0s 3ms/step - loss: 0.3041 - accuracy: 0.8976 - val_loss: 0.3248 - val_accuracy: 0.8447\n",
            "Epoch 54/100\n",
            "32/32 [==============================] - 0s 3ms/step - loss: 0.3411 - accuracy: 0.8765 - val_loss: 0.3233 - val_accuracy: 0.8584\n",
            "Epoch 55/100\n",
            "32/32 [==============================] - 0s 3ms/step - loss: 0.3227 - accuracy: 0.8772 - val_loss: 0.3228 - val_accuracy: 0.8630\n",
            "Epoch 56/100\n",
            "32/32 [==============================] - 0s 3ms/step - loss: 0.3133 - accuracy: 0.8934 - val_loss: 0.3178 - val_accuracy: 0.8356\n",
            "Epoch 57/100\n",
            "32/32 [==============================] - 0s 3ms/step - loss: 0.3025 - accuracy: 0.8909 - val_loss: 0.3162 - val_accuracy: 0.8402\n",
            "Epoch 58/100\n",
            "32/32 [==============================] - 0s 3ms/step - loss: 0.3169 - accuracy: 0.8911 - val_loss: 0.3161 - val_accuracy: 0.8630\n",
            "Epoch 59/100\n",
            "32/32 [==============================] - 0s 3ms/step - loss: 0.3284 - accuracy: 0.8723 - val_loss: 0.3143 - val_accuracy: 0.8584\n",
            "Epoch 60/100\n",
            "32/32 [==============================] - 0s 3ms/step - loss: 0.2929 - accuracy: 0.8906 - val_loss: 0.3109 - val_accuracy: 0.8447\n",
            "Epoch 61/100\n",
            "32/32 [==============================] - 0s 4ms/step - loss: 0.2891 - accuracy: 0.8952 - val_loss: 0.3110 - val_accuracy: 0.8584\n",
            "Epoch 62/100\n",
            "32/32 [==============================] - 0s 4ms/step - loss: 0.3286 - accuracy: 0.8673 - val_loss: 0.3095 - val_accuracy: 0.8584\n",
            "Epoch 63/100\n",
            "32/32 [==============================] - 0s 4ms/step - loss: 0.3017 - accuracy: 0.8871 - val_loss: 0.3076 - val_accuracy: 0.8584\n",
            "Epoch 64/100\n",
            "32/32 [==============================] - 0s 4ms/step - loss: 0.3142 - accuracy: 0.8874 - val_loss: 0.3072 - val_accuracy: 0.8676\n",
            "Epoch 65/100\n",
            "32/32 [==============================] - 0s 4ms/step - loss: 0.3039 - accuracy: 0.8822 - val_loss: 0.3042 - val_accuracy: 0.8493\n",
            "Epoch 66/100\n",
            "32/32 [==============================] - 0s 3ms/step - loss: 0.3225 - accuracy: 0.8737 - val_loss: 0.3037 - val_accuracy: 0.8584\n",
            "Epoch 67/100\n",
            "32/32 [==============================] - 0s 4ms/step - loss: 0.2947 - accuracy: 0.8856 - val_loss: 0.3017 - val_accuracy: 0.8630\n",
            "Epoch 68/100\n",
            "32/32 [==============================] - 0s 3ms/step - loss: 0.2945 - accuracy: 0.8912 - val_loss: 0.3007 - val_accuracy: 0.8584\n",
            "Epoch 69/100\n",
            "32/32 [==============================] - 0s 3ms/step - loss: 0.3051 - accuracy: 0.8853 - val_loss: 0.3024 - val_accuracy: 0.8676\n",
            "Epoch 70/100\n",
            "32/32 [==============================] - 0s 3ms/step - loss: 0.2979 - accuracy: 0.8850 - val_loss: 0.2990 - val_accuracy: 0.8676\n",
            "Epoch 71/100\n",
            "32/32 [==============================] - 0s 3ms/step - loss: 0.3200 - accuracy: 0.8744 - val_loss: 0.2981 - val_accuracy: 0.8721\n",
            "Epoch 72/100\n",
            "32/32 [==============================] - 0s 3ms/step - loss: 0.2940 - accuracy: 0.8905 - val_loss: 0.2970 - val_accuracy: 0.8721\n",
            "Epoch 73/100\n",
            "32/32 [==============================] - 0s 3ms/step - loss: 0.2852 - accuracy: 0.8962 - val_loss: 0.2969 - val_accuracy: 0.8767\n",
            "Epoch 74/100\n",
            "32/32 [==============================] - 0s 3ms/step - loss: 0.2668 - accuracy: 0.9010 - val_loss: 0.2951 - val_accuracy: 0.8721\n",
            "Epoch 75/100\n",
            "32/32 [==============================] - 0s 3ms/step - loss: 0.3041 - accuracy: 0.8905 - val_loss: 0.2940 - val_accuracy: 0.8767\n",
            "Epoch 76/100\n",
            "32/32 [==============================] - 0s 4ms/step - loss: 0.2684 - accuracy: 0.9053 - val_loss: 0.2929 - val_accuracy: 0.8676\n",
            "Epoch 77/100\n",
            "32/32 [==============================] - 0s 3ms/step - loss: 0.2775 - accuracy: 0.8980 - val_loss: 0.2950 - val_accuracy: 0.8721\n",
            "Epoch 78/100\n",
            "32/32 [==============================] - 0s 3ms/step - loss: 0.2750 - accuracy: 0.8948 - val_loss: 0.2915 - val_accuracy: 0.8767\n",
            "Epoch 79/100\n",
            "32/32 [==============================] - 0s 3ms/step - loss: 0.2903 - accuracy: 0.8889 - val_loss: 0.2909 - val_accuracy: 0.8767\n",
            "Epoch 80/100\n",
            "32/32 [==============================] - 0s 3ms/step - loss: 0.3028 - accuracy: 0.8767 - val_loss: 0.2914 - val_accuracy: 0.8813\n",
            "Epoch 81/100\n",
            "32/32 [==============================] - 0s 3ms/step - loss: 0.3007 - accuracy: 0.8845 - val_loss: 0.2919 - val_accuracy: 0.8767\n",
            "Epoch 82/100\n",
            "32/32 [==============================] - 0s 3ms/step - loss: 0.3094 - accuracy: 0.8728 - val_loss: 0.2903 - val_accuracy: 0.8813\n",
            "Epoch 83/100\n",
            "32/32 [==============================] - 0s 3ms/step - loss: 0.2646 - accuracy: 0.9034 - val_loss: 0.2891 - val_accuracy: 0.8813\n",
            "Epoch 84/100\n",
            "32/32 [==============================] - 0s 3ms/step - loss: 0.2954 - accuracy: 0.8856 - val_loss: 0.2875 - val_accuracy: 0.8767\n",
            "Epoch 85/100\n",
            "32/32 [==============================] - 0s 3ms/step - loss: 0.2592 - accuracy: 0.9063 - val_loss: 0.2868 - val_accuracy: 0.8813\n",
            "Epoch 86/100\n",
            "32/32 [==============================] - 0s 3ms/step - loss: 0.2613 - accuracy: 0.9102 - val_loss: 0.2858 - val_accuracy: 0.8767\n",
            "Epoch 87/100\n",
            "32/32 [==============================] - 0s 3ms/step - loss: 0.2746 - accuracy: 0.8887 - val_loss: 0.2854 - val_accuracy: 0.8813\n",
            "Epoch 88/100\n",
            "32/32 [==============================] - 0s 3ms/step - loss: 0.2856 - accuracy: 0.8905 - val_loss: 0.2865 - val_accuracy: 0.8813\n",
            "Epoch 89/100\n",
            "32/32 [==============================] - 0s 3ms/step - loss: 0.2717 - accuracy: 0.8933 - val_loss: 0.2832 - val_accuracy: 0.8767\n",
            "Epoch 90/100\n",
            "32/32 [==============================] - 0s 3ms/step - loss: 0.2887 - accuracy: 0.8907 - val_loss: 0.2830 - val_accuracy: 0.8767\n",
            "Epoch 91/100\n",
            "32/32 [==============================] - 0s 3ms/step - loss: 0.2772 - accuracy: 0.8898 - val_loss: 0.2840 - val_accuracy: 0.8858\n",
            "Epoch 92/100\n",
            "32/32 [==============================] - 0s 3ms/step - loss: 0.2825 - accuracy: 0.8896 - val_loss: 0.2818 - val_accuracy: 0.8767\n",
            "Epoch 93/100\n",
            "32/32 [==============================] - 0s 3ms/step - loss: 0.2741 - accuracy: 0.9003 - val_loss: 0.2812 - val_accuracy: 0.8767\n",
            "Epoch 94/100\n",
            "32/32 [==============================] - 0s 3ms/step - loss: 0.2510 - accuracy: 0.9087 - val_loss: 0.2804 - val_accuracy: 0.8767\n",
            "Epoch 95/100\n",
            "32/32 [==============================] - 0s 3ms/step - loss: 0.2933 - accuracy: 0.8780 - val_loss: 0.2811 - val_accuracy: 0.8858\n",
            "Epoch 96/100\n",
            "32/32 [==============================] - 0s 3ms/step - loss: 0.2595 - accuracy: 0.9040 - val_loss: 0.2801 - val_accuracy: 0.8813\n",
            "Epoch 97/100\n",
            "32/32 [==============================] - 0s 3ms/step - loss: 0.2801 - accuracy: 0.8944 - val_loss: 0.2785 - val_accuracy: 0.8813\n",
            "Epoch 98/100\n",
            "32/32 [==============================] - 0s 3ms/step - loss: 0.2656 - accuracy: 0.8978 - val_loss: 0.2780 - val_accuracy: 0.8813\n",
            "Epoch 99/100\n",
            "32/32 [==============================] - 0s 3ms/step - loss: 0.2704 - accuracy: 0.8898 - val_loss: 0.2774 - val_accuracy: 0.8813\n",
            "Epoch 100/100\n",
            "32/32 [==============================] - 0s 3ms/step - loss: 0.2745 - accuracy: 0.8875 - val_loss: 0.2770 - val_accuracy: 0.8813\n"
          ],
          "name": "stdout"
        }
      ]
    },
    {
      "cell_type": "markdown",
      "metadata": {
        "id": "n_yDm_07ZDIE"
      },
      "source": [
        "Evaluation on the test set: accuracy check."
      ]
    },
    {
      "cell_type": "code",
      "metadata": {
        "colab": {
          "base_uri": "https://localhost:8080/"
        },
        "id": "SuItHvKKZbnK",
        "outputId": "0f480fd0-6c65-4044-be84-31ea045afc1b"
      },
      "source": [
        "model.evaluate(X_test, Y_test)[1]"
      ],
      "execution_count": 23,
      "outputs": [
        {
          "output_type": "stream",
          "text": [
            "7/7 [==============================] - 0s 2ms/step - loss: 0.2916 - accuracy: 0.8676\n"
          ],
          "name": "stdout"
        },
        {
          "output_type": "execute_result",
          "data": {
            "text/plain": [
              "0.8675799369812012"
            ]
          },
          "metadata": {
            "tags": []
          },
          "execution_count": 23
        }
      ]
    },
    {
      "cell_type": "markdown",
      "metadata": {
        "id": "xJ3-M6FRZvI5"
      },
      "source": [
        "\n",
        "Visualising loss on the training data and loss on the validation data."
      ]
    },
    {
      "cell_type": "code",
      "metadata": {
        "id": "FKo0-szlaF4J"
      },
      "source": [
        "import matplotlib.pyplot as plt\n"
      ],
      "execution_count": 24,
      "outputs": []
    },
    {
      "cell_type": "code",
      "metadata": {
        "colab": {
          "base_uri": "https://localhost:8080/",
          "height": 295
        },
        "id": "IZlGyuK-aLLP",
        "outputId": "5b762b3b-4e24-4399-8c74-ce1810db7cec"
      },
      "source": [
        "plt.plot(hist.history['loss'])\n",
        "plt.plot(hist.history['val_loss'])\n",
        "plt.title('Model loss')\n",
        "plt.ylabel('Loss')\n",
        "plt.xlabel('Epoch')\n",
        "plt.legend(['Train', 'Val'], loc='upper right')\n",
        "plt.show()"
      ],
      "execution_count": 25,
      "outputs": [
        {
          "output_type": "display_data",
          "data": {
            "image/png": "[encoded data removed]",
            "text/plain": [
              "<Figure size 432x288 with 1 Axes>"
            ]
          },
          "metadata": {
            "tags": [],
            "needs_background": "light"
          }
        }
      ]
    },
    {
      "cell_type": "markdown",
      "metadata": {
        "id": "s3UA-FdDaXxX"
      },
      "source": [
        "Plotting training accuracy and validation accuracy:"
      ]
    },
    {
      "cell_type": "code",
      "metadata": {
        "colab": {
          "base_uri": "https://localhost:8080/",
          "height": 295
        },
        "id": "6AkwL_I-alCO",
        "outputId": "a32c927d-2a87-4dc4-8e44-6d14095e8382"
      },
      "source": [
        "plt.plot(hist.history['accuracy'])\n",
        "plt.plot(hist.history['val_accuracy'])\n",
        "plt.title('Model accuracy')\n",
        "plt.ylabel('Accuracy')\n",
        "plt.xlabel('Epoch')\n",
        "plt.legend(['Train', 'Val'], loc='lower right')\n",
        "plt.show()"
      ],
      "execution_count": 30,
      "outputs": [
        {
          "output_type": "display_data",
          "data": {
            "image/png": "[encoded data removed]",
            "text/plain": [
              "<Figure size 432x288 with 1 Axes>"
            ]
          },
          "metadata": {
            "tags": [],
            "needs_background": "light"
          }
        }
      ]
    }
  ]
}